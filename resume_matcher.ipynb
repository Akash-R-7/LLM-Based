{
 "cells": [
  {
   "cell_type": "code",
   "execution_count": 1,
   "metadata": {},
   "outputs": [],
   "source": [
    "import os\n",
    "\n",
    "from langchain.document_loaders import PyPDFLoader, PDFMinerLoader\n",
    "from langchain.text_splitter import RecursiveCharacterTextSplitter\n",
    "\n",
    "from datasets import load_dataset_builder, load_dataset\n",
    "\n"
   ]
  },
  {
   "cell_type": "code",
   "execution_count": 11,
   "metadata": {},
   "outputs": [
    {
     "name": "stdout",
     "output_type": "stream",
     "text": [
      "2484\n"
     ]
    }
   ],
   "source": [
    "# Get the list of all files and directories\n",
    "ct = 0\n",
    "resume_pdfs_path = \"data/data/\"\n",
    "file_paths_ls = []\n",
    "for (root, dirs, file) in os.walk(resume_pdfs_path):\n",
    "    for f in file:\n",
    "        ct += 1\n",
    "\n",
    "print(ct)"
   ]
  },
  {
   "cell_type": "markdown",
   "metadata": {},
   "source": [
    "#### Extracting key documnets from pdfs"
   ]
  },
  {
   "cell_type": "code",
   "execution_count": 2,
   "metadata": {},
   "outputs": [],
   "source": [
    "# Get the list of all files and directories\n",
    "def get_files():\n",
    "    resume_pdfs_path = \"test_resumes/\"\n",
    "    file_paths_ls = []\n",
    "    for (root, dirs, file) in os.walk(resume_pdfs_path):\n",
    "        # if root == resume_pdfs_path + \"SALES\":\n",
    "        for pdf in file:\n",
    "            f = pdf\n",
    "            file_path = root + f\n",
    "            file_paths_ls.append(file_path)\n",
    "                # print(file_path)\n",
    "\n",
    "    return file_paths_ls\n",
    "    # print(file_paths_ls)"
   ]
  },
  {
   "cell_type": "code",
   "execution_count": 3,
   "metadata": {},
   "outputs": [
    {
     "data": {
      "text/plain": [
       "['test_resumes/acc.pdf',\n",
       " 'test_resumes/advo.pdf',\n",
       " 'test_resumes/agri.pdf',\n",
       " 'test_resumes/apparel.pdf',\n",
       " 'test_resumes/arts.pdf',\n",
       " 'test_resumes/automobile.pdf',\n",
       " 'test_resumes/aviation.pdf',\n",
       " 'test_resumes/bank.pdf',\n",
       " 'test_resumes/bpo.pdf',\n",
       " 'test_resumes/bus_dev.pdf',\n",
       " 'test_resumes/chef.pdf',\n",
       " 'test_resumes/construction.pdf',\n",
       " 'test_resumes/consultant.pdf',\n",
       " 'test_resumes/designer.pdf',\n",
       " 'test_resumes/dig_media.pdf',\n",
       " 'test_resumes/engg.pdf',\n",
       " 'test_resumes/finance.pdf',\n",
       " 'test_resumes/fitness.pdf',\n",
       " 'test_resumes/healthcare.pdf',\n",
       " 'test_resumes/hr.pdf',\n",
       " 'test_resumes/it.pdf',\n",
       " 'test_resumes/pr.pdf',\n",
       " 'test_resumes/sales.pdf',\n",
       " 'test_resumes/teacher.pdf']"
      ]
     },
     "execution_count": 3,
     "metadata": {},
     "output_type": "execute_result"
    }
   ],
   "source": [
    "files_path = get_files()\n",
    "files_path"
   ]
  },
  {
   "cell_type": "code",
   "execution_count": 4,
   "metadata": {},
   "outputs": [],
   "source": [
    "\n",
    "def page_extractor(files_path):\n",
    "    # dict of lists\n",
    "    pdfs_dict = {}\n",
    "    for file in files_path:\n",
    "        file_path_key = file[10:]\n",
    "        pdfs_dict[file_path_key] = []\n",
    "        loader = PDFMinerLoader(file)\n",
    "\n",
    "        # Load Documents and split into chunks. Chunks are returned as Documents.\n",
    "        pages = loader.load_and_split(text_splitter=RecursiveCharacterTextSplitter(chunk_size = 4000, chunk_overlap=0))\n",
    "        # print(pages[0].page_content)\n",
    "        for page in pages:\n",
    "            data = page.page_content\n",
    "            pdfs_dict[file_path_key].append(data)\n",
    "            # print(data)\n",
    "            # print('**************************************')\n",
    "\n",
    "        # print('------------------------------')\n",
    "    return pdfs_dict"
   ]
  },
  {
   "cell_type": "code",
   "execution_count": 5,
   "metadata": {},
   "outputs": [
    {
     "name": "stdout",
     "output_type": "stream",
     "text": [
      "{'es/acc.pdf': ['ACCOUNTANT\\nSummary\\n\\nSelf-motivated accountant offering a strong work ethic and determination to complete tasks in a timely manner. Accurate and detail-oriented with\\nextensive auditing and finance knowledge.\\n\\nHighlights\\n\\nComplex problem solving\\nStrong communication skills\\nExpert in customer relations\\nPortfolio management\\n\\nA\\n\\nAccomplishments\\n\\nProficient in Microsoft Office\\nMicrosoft Excel expert\\nRisk management expertise\\n\\nFinancial statement analysis\\n\\nGeneral ledger accounting\\n\\nAchieved an internal audit score of 95%.\\n\\nPromoted to Auditor after just 3 months of employment.\\n\\nBoosted quality ratings by 85% by developing new processes and improving work flow.\\n\\nExperience\\nAccountant \\nCurrent to September 2014 Company Name ï¼\\u200b City , State\\n\\nPrepare unpaid reports on actual expenses for marketing line of business.\\nCreate and maintain pending and process able database.\\nPrepare and setup vendor purchase orders contracts as well as CRX templates.\\nVerify funding and SAP project code against the most recent budget/forecast submission.\\nKey invoices into ePurchase system as well as approve and reconcile invoices.\\nTrack invoices from submission to payment on database.\\nMonitor invoice central mailbox that will include invoice submission by marketers, purchase order request.\\nRespond to marketing or other internal staff inquiries regarding vendor invoices and templates as well as analytical request.\\nSpecial projects as required.\\n\\nAccounting Coordinator Associate \\nAugust 2011 to May 2014 Company Name ï¼\\u200b City , State\\n\\nPrepare and modify excel pivot table reports as well as reconcile and balance.\\nAnalyze data within pivot table and HSA databases.\\nAssist business analyst in gathering and analyzing large sets of complex data.\\nCreate and run HSA exceptions and paid reports.\\nRespond to marketing, brokers, clients and other internal staff inquiries regarding account setup, exceptions, disbursements and payments as\\nwell as analytical request.\\nConduct routine audits as needed as well as generate monthly reports on findings.\\nSetup all financial and personal information for new groups.\\nServed as liaison for marketing, brokers and clients to resolve member issues or the setup of new accounts.\\nAssisted with testing, identifying gaps and recommending new improvements on processing work more efficiently.\\n\\nAuditor \\nFebruary 2007 to August 2011 Company Name ï¼\\u200b City , State\\n\\nLed cross-functional teams to analyze and understand the operational impacts and opportunities of technology changes.\\nDeveloped metrics used to determine inefficiencies and areas for improvement.Tracked, analyzed and interpreted trends in [Data type] data.\\nDocumented process flows and developed requirements for functional improvements and enhancements.\\nConducted activity-based analysis of business processes and made recommendations based on the findings.\\nReview and identify claims reviewers errors and determine the cause of the error and provide written audit documentation regarding audit\\nobservation.\\nAnalyze and review response to audit observations and facilitate corrective action plan.\\nCollaborated with directors and managers to investigate questionable issues and failed compliance procedures.\\nActed as a Team Lead for additional team support as well as point of contact for the Review Department to ensure teams are in compliance\\nand deficiency codes were used effectively.', \"Monitored new processes, policies and work flow strategies that were implemented by leadership.\\nEducated new hires and newly promoted employees on standard of job duties.\\nHeld Side-by-Side sessions with Reviewers to deliver direct audit feedback from sampled work.\\nProvided subject matters export support to enhance the proprietary systems.\\nEnhancements resulted in increased accurate measurements of deficiency codes, improved reporting and positively impacted reviewer's\\nefficiency.\\nConsulted with department peers to address weekly trending errors and formulated solutions.\\nDocument sessions to track reviewer's progress and provide improvement based on my analysis.\\n\\nClaims reviewer \\nFebruary 2007 to April 2007 Company Name ï¼\\u200b City , State\\n\\nProcess, verify and analyze submitted asbestos claims to determine alleged disease eligibility.\\n\\nLocates and interprets complex information such as depositions and medical records from a number of databases in order to process claims.\\n\\nIdentifies error trends and notifies the appropriate areas for correction and educating the necessary parties.\\n\\nTrained and coached lower level claims reviewer.\\n\\nPayment Analyst \\nNovember 2004 to February 2007 Company Name ï¼\\u200b City , State\\n\\nProcessed over 1,000 customer monthly auto loan payments.\\nReview/Reconcile general ledgers.\\nResearched and resolved misapplied payments as well as payment inaccuracies.\\nReviewed monthly financial statements Responded timely and accurately to inquiries on customer payments.\\nCorrected non-payment related discrepancies.\\nPerformed other duties as assigned by supervisor or manager.\\n\\nTrust Control Reconciliation Specialist \\nNovember 1999 to November 2004 Company Name ï¼\\u200b City , State\\n\\nProcess and reconciles a variety of securities and cash related transactions.\\nIdentified, research and resolve processing errors, and take necessary actions to balance differences.\\nResponsible for creating general ledgers and daily balancing of activity in trust accounts.\\nEnsured proper safekeeping of bank and customer assets.\\nRecognized and proactively address risk associated with consumer compliance and fair lending.\\n\\nEducation\\nAccounting Certificate : Accounting , 2012 Cecil County Community College ï¼\\u200b City , State\\nPerforming Payroll in QuickBooks 2009 Certificate : Payroll , 2012 Cecil County Community College ï¼\\u200b City , State\\nBachelor of Science : General Studies , 2011 Wilmington University ï¼\\u200b City , State , New Castle County\\n\\nGeneral Studies\\n\\nSkills\\n\\nAccounting, balance, budget, business analyst, Call Center, Cash Management, closing, contracts, Critical Thinking, client, clients, databases,\\ndatabase, documentation, Financial, financial statements, leadership, Team Lead, marketing, excel, mail, MS Office Suites, Payroll, policies,\\nprocesses, progress, Quality Assurance, QuickBooks, relationship management, reporting, research, Risk Management, SAP, securities, statistics,\\nsupervisor, phone, written\"], 'es/advo.pdf': ['EXPRESS SCRIPTS\\nSummary\\nResponsible and mature Retail Sales Consultant who thrives in fast-paced environments. Enjoys working as part of a team to achieve sales goals.\\nAccomplishments\\n\\nFulfilled all supervisory duties when Store Manager was on vacation.\\nNamed \"Employee of the Month\".\\nReceived numerous â€œexceeds expectationsâ€\\u200b ratings on performance reviews.\\nMet monthly sales goals for numerous months.\\nSupervised team of three staff members.\\n\\nExperience\\nExpress Scripts \\nSeptember 2015 to Current Company Name ï¼\\u200b City , State\\n\\nExercises sound judgment in issuing credits and making exceptions to customer policies to maintain high levels of customer satisfaction.\\nFielded an average of [number] customer service calls per day.\\nManaged wide variety of customer service and administrative tasks to resolve customer issues quickly and efficiently.\\n\\nPrime Communication (AT&T Authorized Retailer) \\nJanuary 2015 to September 2015 Company Name ï¼\\u200b City , State\\n\\nCreated strategies to develop and expand existing customer sales, which resulted in a 20% increase in monthly sales.\\nInitiated daily store counts, orders and acquired proper products\\nMaintained knowledge of current promotions, policies regarding payment and exchanges, and security practices.\\n\\nRadio Shack \\nNovember 2013 to January 2015 Company Name ï¼\\u200b City , State\\n\\nOperated a cash register to process cash, check and credit card transactions.\\nComputed sales prices, total purchases and processed payments.\\nDescribed merchandise and explain operation of merchandise to customers.\\nReplenished floor stock and processed shipments to ensure product availability for customers.\\nFacilitated monthly and quarterly physical inventory counts.\\nAdministered all point of sale opening and closing procedures.\\nOpened and closed the store, including counting cash, opening and closing cash registers and creating staff assignments.\\nWorked as a team member to provide the highest level of service to customers.\\nMaintained friendly and professional customer interactions.\\n\\nEducation\\nHigh School Diploma : Business/ Computers Camden County High School ï¼\\u200b City , State\\nSkills\\n\\nAdministrative\\nCash handling\\nExcellent communication\\ninterpersonal skills\\nDetail-oriented merchandising\\nSelf-motivated\\n70 WPM'], 'es/agri.pdf': ['ADMINISTRATION OFFICE ASSISTANT\\nSummary\\n\\nEnthusiastic student-teacher with superb leadership and communication skills. Easily cultivates trusting and productive relationships with students,\\nparents, teachers administration, and others. Effective at providing quality instruction and fostering a positive working environment with excellent\\ninterpersonal and organization skills.\\n\\nHighlights\\n\\nCommunication: Speaks effectively, articulate, concise, listens attentively, can think on my feet,\\nfeels confident talking to people, persuades others, provides feedbacks, openly expresses ideas\\nInterpersonal: Motivates others, understands others, works well with others, supportive,\\ncooperative, counsels, and accepts responsibility\\nManagement: Leads others, makes decisions, takes charge or initiative, can teach or mentor others\\nOrganizational: Punctual, multi-task, meets deadlines, sets goals, manages projects\\nComputer: Mastery of Microsoft Office Programs (Excel, Word, PowerPoint, Outlook), Ability to\\nwork with several operating systems\\nAttention to Detail: Produces work that is neat and attractive, ensures that tasks are all done\\nFlexible: Willing to try new things, able to work on schedule, interested in improving efficiency on\\nany task\\n\\nCalm under pressure\\nDecisive\\nCurriculum development\\nOrganizational development\\nknowledge\\nMember of Portland Helping\\nHands and Family Homeless\\nShelter\\n\\nAccomplishments\\n\\nRota High School, 2009-2013: Class Valedictorian, National Honor Society President, Youth Advisory President, Anti-Bullying Campaign\\nPresident, Take Action Youth Advocacy Member, Junior Achievement Program Public Relations Officer, Army JROTC Company\\nCommander, Won Most Outstanding Female Graduate, and Leadership Award\\nFounded and led a comprehensive after school enrichment program at Rota Elementary School: \"The Reading Bridge Project\"\\nUniversity of Portland Student, Class of 2017. Elementary Education Major. Army ROTC, and Kappa Delta Pi (Education) Honor Society\\nOfficer.\\nLed 3 Summer Camp Programs, and student teach in 3 schools at the Portland District\\n\\nExperience\\nAdministration Office Assistant 06/2010 to 08/2010 Company Name City , State\\n\\n(Summer Job) Worked with the Director of the Cultural Affairs department in filing papers, answering phone calls, assisting on historic\\npreservation projects, working with clients, and educating young students about the importance of preserving the island\\'s culture and language. 2.\\nDepartment of Public Safety (Rota, M.P., 96951, Songsong Village, District 3, CNMI)\\n\\nAdministration Office Assistant and Public Safety Trainee 07/2011 to 08/2011 Company Name City , State\\n\\nAssisted on paper works with public safety, arranged meetings, answered phone calls, filed paper works, assisted on traffic, worked with police\\nofficers on radar speed detection on highways, patrolled around the island for any vehicles not conforming to the law, had CPR training, worked\\nwith fire department on fire safety rules. 3. Northern Marianas College Internship Program (Rota, M.P., 96951, Highway, CNMI)\\n\\nNutrition and Agriculture Internship Trainee 07/2012 to 08/2012 Company Name City , State\\n\\n(Internship Program) Trained under the nutritional program with food safety and healthy diet, assisted on presentations for children about nutrition,\\nmade healthy ice cream and beef jerky to distribute to the community, taught the community about different types of healthy cooking methods,\\nwent around the island to visit farmers who are having problems with crops, educating farmers as to how to maintain their soil, studying the\\ndifferent diseases of plants and ways to identify symptoms, presented the importance of agriculture to the community. 4. Cooperative Education\\nProgram Workforce (Rota High School, M.P., 96951, Songsong Village, CNMI) Teacher Aide for High School students\\n\\nCOOP Program Trainee 02/2013 to 09/2013 Company Name City , State', \"Assisted in tutoring students who are below average, worked with teachers on projects and plans to help improve both math and English\\ndepartments, made assignments to help students practice their skills, made educational games, worked with SPED students, assisted on\\nparent/teacher meetings, and joined hand in hand with teachers and staff to evaluate the progress of students throughout the school year.\\n\\nStudent Activities Office Assistant 08/2013 to 12/2014 Company Name City , State\\n\\nHelped organized activities in the University's Campus. Worked with other Universities to create combined events. Assisted clubs and\\norganizations for sponsored activities volunteering opportunities\\n\\nEducation\\n\\n\\x0cHigh School Diploma : General 2013 Rota High School City , State\\nBachelor of Arts : Elementary Education 2017 University of Portland City , State\\n\\nUniversity of Portland Student. Majoring in Elementary Education, Class of 2017. ARMY ROTC. Kappa Delta Pi Honor Society Officer.\\n\\nAffiliations\\n\\nPortland Helping Hands and Family Homeless Shelter\\n\\nSkills\\n\\nPublic Speaking, Student Involvement, and Organizational\"], 'es/apparel.pdf': ['BUYER/PLANNER\\nSummary\\nDetail-oriented, analytical-thinking, trilingual individual, with exceptional problem-solving skills looking to obtain an internship or full-time position\\nthat will allow me to utilize my education and work experience while gaining valuable work experience in a team-oriented work environment.\\nEducation and Training\\nBachelor of Science : Petroleum Engineering , Jul Texas A&M University ï¼\\u200b City , State Petroleum Engineering\\n[Number] GPA \\nSkills\\n\\nSolid Works, CAD, Matlab and MS Office\\nProcess Implementation\\n\\nLanguages\\nEnglish, Portuguese, Spanish)\\nExperience\\nBuyer/Planner \\nMay 2016 to Current Company Name ï¼\\u200b City , State\\n\\nPlan and execute forecasting strategies for mass production planning.\\nCollaborate with cross-functional groups including Engineering, Shipping/Receiving, Purchasing, and Sales.\\nNegoatiate proposals for potential suppliers, including quantitative and qualitative research.\\nObtain documents, clearances, certificates, and approvals from local, state and federal agencies.\\nWork closely with Production to convert weekly plan into daily work center schedules that manage constraints of manpower, equipment\\nand optimize costs.\\n\\nLogistics Analyst \\nFebruary 2015 to May 2016 Company Name ï¼\\u200b City , State\\n\\nManaged ERP system to monitor the status of incoming materials.\\nReleased work orders to the production floor as inventory became available.\\nCoordinated expedited shipping orders request with Production Manager.\\nInteracted with cross-functional teams like sales, production, and the executives.\\nAnalyzed incoming requisitions and shortages reports for quality, specification, pricing and delivery requirements.\\nTranslated business needs and priorities into actionable logistics strategies.\\n\\nWarehouse Executive \\nFebruary 2011 to January 2015 Company Name ï¼\\u200b City , State\\n\\nRepresented the Operations Group in receiving all Inventories from Vendor deliveries.\\nParticipated in joint receiving and inspection of all Shipyard Spare Parts deliveries and liaise closely with the Procurement Team on\\nscheduled deliveries.\\nUtilized Maximo system to electronically track inventory flow, bin storage, and reconcile inventory.\\nEnsured Warehouse was kept in a safe and efficient manner with Inventory properly labeled and sorted for easy identification and picking.\\nSupervised periodic stock-take and conducted investigation for any discrepancies.\\nCarried out the daily issuance of Tools & Inventory to shipyard personnel base on Inventory requests and Work Orders.\\nMonitored Stock Levels and reordered Inventory when low.\\nEnsured Inventory is stored in accordance with best practices and chemical storage complies with GHS Classification.\\n\\nSkills\\nCAD, delivery, English, ERP, forecasting, functional, inspection, Inventory, leadership skills, logistics, materials, Matlab, MS Office, personnel,\\nPortuguese, pricing, Procurement, Production Manager, proposals, Purchasing, qualitative research, quality, Fast learner, Receiving, Sales,\\nShipping, Solid Works, Spanish, specification, Strategy & Planning, Supply Chain'], 'es/arts.pdf': [\"MICHAEL'S ARTS AND CRAFTS STORE\\nSummary\\nI am a determined, hard-working individual with the zeal to accomplish any task or challenge I'm given, seeking to exceed expectations. In the next\\nyear, I plan to achieve a bachelor's degree in Environmental Technology and Management, and attain a job in the field of sustainable design and\\ntechnologies.\\nExperience\\nMichael's Arts and Crafts Store \\nMarch 2017 to Current Company Name ï¼\\u200b City , State\\n\\nÂ (Capital Blvd. location)\\n\\nAid Store Manager, Assistant Store Manager, Full-Time Replenishment Manager in day to day operations and planning; unload and stock\\nstore merchandise.\\nTrain new Replenishment associates.\\nEmployee of the Month (July)\\n\\nFebruary 2016 to March 2017 Company Name ï¼\\u200b City , State\\n\\nProvide customer service on the sales floor, manage day/night-time associates and store operations.\\nTrain and assess new associates.\\n\\n(Assumed position at Brier Creek, Raleigh, NC location in October 2015)\\n\\nJune 2015 to February 2016 Company Name ï¼\\u200b City , State\\n(Brier Creek Location)\\nSupport Specialist:\\n\\nPrepare cash registers, count money, and prepare documentation for the bank deposit.\\nManage cashiers in the morning.\\n\\nSales Associate/Cashier:\\n\\nOffer customer service and efficiently run a cash register.\\n\\nKnowledge and Certifications\\nArcGIS Program\\nWater Quality Testing\\nStream Assessment\\nTree Inventory\\n\\nOSHA 40 Hour HAZWOPER Certification\\n\\nEducation and Training\\nAssociate of Science : Liberal Arts Science and Mathematics , 2015 SUNY Adirondack ï¼\\u200b City , State\\nDean's List\\nGraduated Cum Laude\\nBachelor of Science : Environmental Technology and Management , 2018 North Carolina State University ï¼\\u200b City , State\\nProjects: Richard R. Lee Estate (Clayton, NC) Phase III Environmental Site Assessment\\nSkills\\n\\nCustomer Service\\nManagement\\nInventory Management\\nCommunication\"], 'es/automobile.pdf': ['STUDENT ATTORNEY - CRIMINAL DEFENSE\\nSummary\\nRecent law school graduate, excited to begin my new career, offering skill in innovative problem solving and finding unique theories, ideas and\\nsolutions to create effectual case arguments. Works aggressively to achieve continued success.Â \\nDedicated insurance professional with more than 13 years of experience investigating and processing complex automobile insurance claims. Excels\\nin analyzing damages, causes, interpreting policies and negotiating payment solutions. Effectively managed multiple high priority projects Takes\\npride in providing exemplary customer service.\\nHighlights\\n\\nClaims file management processes\\nLitigation management\\nStrong interpersonal and communication skillsÂ \\nExceptional negotiator\\n\\nExperience negotiating health insurance liens\\nSubrogation knowledge\\nStrong insurance defense/personal injury background\\nProfessional and personable\\n\\nAccomplishments\\n\\nEarned opportunity to apply for an internship with a Professor who is a sitting U.S. District Magistrate Judge due to receiving one of the\\nhighest grades in his Advanced Legal Writing class.\\nRecommended to apply for a law clerk position with the Court of Criminal Appeals.Â \\nAwarded highest file quality score for the region as a first year team leader.\\nNominated and selected among thousands of employees to travel to Corporate Headquarters and meet with the CEO and Head of Claims\\nto understand company culture and process as acknowledgment for contributions to my region.\\nHeld position as one of 6 Claims Specialist Leads in Texas Consistently performed at a high meets to exceeds level in all areas to include file\\nquality, accuracy, efficiency and work environment Selected by supervisor to assist with file closures; resolve complex claim-processing\\nissues; participate in commercial reserves analysis; monitor claim status in a mentor capacity to other teammates.\\n\\nExperience\\nStudent Attorney - Criminal Defense Aug 2015 to May 2016 \\nCompany Name ï¼\\u200b City , State\\n\\nOffered extensive case status explanations to each client. Advised clients of their rights. \\nExplained the legal process to each client and answered questions to help ease concerns.\\nConducted legal research and facts investigation for case litigation.\\nDrafted necessary motions relevant to each case.\\nInterviewed witnesses/Crime scene reconstruction \\nWorked on a high profile writ for habeas corpus\\nNegotiated plea deals with prosecutor\\n\\nClaims Specialist Lead Jan 2008 to Jul 2015 \\nCompany Name ï¼\\u200b City , State\\n\\nManaged files in litigation and worked closely with defense counsel to develop strategy to bring cases to resolution.\\nAttended, negotiated and resolved close to 100 features in mediation.\\nHandled serious and complex claims by investigating, analyzing, and determining the extent of liability concerning loss of damages through\\nattempts to affect fair settlement with claimants and insureds.\\nMentored new members of the claim staff.\\nEntrusted with $75,000 in settlement authority.\\n\\nTeam Leader Aug 2004 to Jan 2006 \\nCompany Name ï¼\\u200b City , State\\n\\nResponsible for overseeing daily administration of claims work flow for my assigned team.\\nSupervised, coached, and developed team to ensure quality outcomes and superior customer service.\\nMonitored claims to ensure file quality is compliant with established standards.\\nMaintained accountability for team performance.\\nMentored team members to Casualty promotion Explored alternatives to find innovative ways to leverage opportunities for team to improve\\nquality of work/life balance.\\n\\nClaims Trainee Oct 2002 to Aug 2004 \\nCompany Name\\n\\nMastered basic claims handling in a high demand atmosphere.\\nProperty Damage Assessor- Estimated vehicle damages, managed preferred repair shops, informed customers.\\nof the repair process, repair quality assurance Casualty Adjuster- Completed detailed review of medical records/ bills, negotiated\\nsettlements with attorneys, monitored files for possible lawsuit potential.', \"Education\\nJ.D. , Law 2016 St. Mary's University ï¼\\u200b City , State\\n\\nCoursework in Criminal JusticeÂ \\nLegal License Pending November 2016\\n\\nBachelor of Arts , English Literature 2000 Texas A&M University - College ï¼\\u200b City , State , USA English Literature\\nTraining\\n\\nRisk ManagementÂ and Insurance coursework\\nExtensive training in auto insurance terminology/ processes (parts, repair and medical procedures)\\nTexas and other state's regulations\\nCustomer Service Delivery\\nCommercial Specific Issues\\n\\nSkills\\nInterpersonal and communication,Â  Customer service, File management, Insurance, Legal Research & Writing, Litigation, Mediation, Medical\\nrecord review, High level claim evaluation, Commercial needs, Â Negotiation, Processes, Quality assurance, Risk Management, Settlements,\\nStrategy\"], 'es/aviation.pdf': [\"SIMULATOR TECHNICIAN\\nSummary\\n\\nExperienced Electronic Technician with extensive knowledge in A/C and D/C theory and troubleshooting skills and technique. Avionics specialist\\nin theory of operation and repairs.\\n\\nHighlights\\n\\nAC/DC power and control systems\\nElectro-mechanical proficiency\\nDigital circuitry\\nBranch circuit wiring\\nSub-panel installation\\n\\nAccomplishments\\n\\nElectrical Wiring Â \\n\\nExcellent written and verbal communication skills\\nSuperior troubleshooting skills\\nTest equipment operation\\nDiagnostic testing\\n\\nWorked to meet current FAA electrical codes and company guidelines.\\nInstalled wiring and electrical appliances for commercial and military aircraft with a 40% ahead-of-schedule rate.\\nScheduled and tracked all repairs.\\nSupervised team of three staff members.\\nMounted assembled components on circuit board at a rate of 100 per shift.\\nServed as an expert in troubleshooting and repairing state-of-the-art electrical and electronic systems.\\n\\nExperience\\nSimulator technician \\nApril 2013 to May 2014 Company Name ï¼\\u200b City , State\\n\\nFlight instruments Installation and repair.\\nInstalling avionics LRU's and Flight gauges on flight line.\\nInterpretation of blueprints and schematics.\\nInstallation of Avionics equipment.(AFCS, HSI, ADI, HUD, ETC..) Theory of operation of Avionics systems and Test sets.\\nInstallation of harnesses in aircraft.\\nCompleting modifications and upgrades.\\nRewiring cannon plugs.\\nCockpit experience on citation 2,3,7, citation Excel, citation ultra bravo, CRJ 700-900, UH-60, CH-47, 737, Gulfstream 3-5, Lear 31A,\\nKing air 350, Beach jet 400, Global express.\\nVerified that all required information was readily available and displayed correctly.\\nTacked maintenance actions and completed records.\\nRan cycle checks of electromechanical systems consisting of multiple integrated circuits.\\nConstructed and tested electronic circuits and installed point-to-point wire harnesses and connectors.\\nAligned and tuned complicated inter-related circuits and electromechanical systems.\\n\\nAvionics technician \\nJanuary 2012 to January 2013 Company Name ï¼\\u200b City , State\\n\\nMaintained CRJ-700,900 IAW FAA standards and procedures.\\nRepaired and replaced Avionics equipment as required for proper functionality of aircraft.\\nTrained for A&P license under supervision.\\nPrepared equipment for all operations.\\nVerified that all required information was readily available and displayed correctly.\\nTacked maintenance actions and completed records.\\nAligned and tuned complicated inter-related circuits and electromechanical systems.\\nConstructed and tested electronic circuits and installed point-to-point wire harnesses and connectors.\\nTested and repaired electric motors, variable frequency drives, alarms and control systems.\\nInterpreted electrical and mechanical schematics, blueprints and diagrams.\\nDiagnosed equipment malfunctions and completed repairs to restore equipment and maintain uptime.\\n\\nEntry Avionics mechanic \\nJanuary 2007 to January 2008 Company Name ï¼\\u200b City , State\\n\\nWire Stamping and Cannon plug Termination and routing.\\nInstallation of wire bundles and termination of grounding blocks.\\nBoeing 737, Airbus A320.\\nInterpreted electrical and mechanical schematics, blueprints and diagrams.\\nImplemented vast knowledge of electronics principles to resolve complex electrical problems.\\nRepaired electrical equipment using hand and power tools and testing and diagnostic equipment.\\n\\n\\x0cCollaborated with engineering staff on testing of prototypes and modified instruments.\\nVerified that all equipment was certified and met regulatory requirements.\\n\\nAvionics shift supervisor, Avionics technician \\nJanuary 2006 to January 2012 Company Name ï¼\\u200b City , State\", 'Avionics flight line repairs and modifications on CH-47 chinooks and UH-60 blackhawks.\\nAvionics maintenance supervisor OIF 2009.\\nInterpreted electrical and mechanical schematics, blueprints and diagrams.\\nDiagnosed equipment malfunctions and completed repairs to restore equipment and maintain uptime.\\nImplemented vast knowledge of electronics principles to resolve complex electrical problems.\\nRepaired electrical equipment using hand and power tools and testing and diagnostic equipment.\\nRepaired and tested microwave amplifiers and transmission lines, high-voltage power supplies, displays and antenna positioning systems.\\nMaintained accurate electronic and instrument inventory to support safe and efficient operation.\\nPerformed monthly, semi-annual and annual Preventive Maintenance Checks and Services (PMCS).\\nInstalled all electrical wiring during remodeling projects.\\nTrained maintenance journeymen electricians and electrical apprentices.\\nTrained and instructed subordinates and supported units on Military Avionics Equipment.\\nSupervised operation and organizational maintenance of systems and specialized equipment.\\n\\nEducation\\nGED : 2005 T.C.C South Campus ï¼\\u200b City , State , USA GPA: GPA: 3.0\\n\\nGPA: 3.0\\n\\nElectronics Troubleshooting Diploma : Avionics Electrical Technician , 2007 Army Aviation School of Logistics ï¼\\u200b City , State , USA\\n\\nMinor in Avionics Operation and Theory and electronic troubleshooting.\\n\\n3.0 GPA\\n\\nCoursework in A/C And D/C Emphasis onTheory and troubleshooting and Professional Training.\\n\\nAssociate of Science : Avionics Maintenance technology , 2011 Spartan College of Aeronautics ï¼\\u200b City , State , USA\\n\\nMember of AEA Club\\n\\n3.2 GPA\\n\\nPerfect Attendance Academic Achievement Award\\n\\nAEA Wiring Academic Achievement Award\\n\\nFAA Corrosion Control Academic Achievement Award\\n\\nCoursework in Avionics Maintenance Technology\\n\\nCoursework in Meteorology, Air Traffic Regulations and Air Navigation\\n\\nConduit Bending course\\n\\nCoursework in High-Voltage Cable Splicing, Qualified Rigging and Signaling\\n\\nCoursework in DC Electricity, AC Electricity and Electronics Theory\\n\\nDiploma in Electric Technology\\n\\nSkills\\n\\nWiring Troubleshooting, Army Ethos and Structure, Basic forms Interpretation, logistics, Excel,Electronic Component repairs,Wire routing,\\nInterpretation of schematics, Soldering, supervisor Skills, Service and Field Technician Skills , Test Equipment Operation , troubleshooting,\\nElectrical upgrades, Wiring Diagnostics and Repair.'], 'es/bank.pdf': ['SR. HOME MORTGAGE CONSULTANT - WELLS FARGO ADVISORS\\nSummary\\n\\nAn accomplished, results-driven team player with over 20 years of experience in financial services.\\n\\nExtensive broad expertise in banking, finance, investments, insurance, and relationship management.\\n\\nDemonstrated proficiency in new business development across all business lines.\\n\\nSkills\\n\\nSolid communication, interpersonal, time management, organizational, and leadership skills.\\n\\nExperience\\nCompany Name May 2015 Sr. Home Mortgage Consultant - Wells Fargo Advisors \\nCity , State\\n\\nâ€¢Building solid relationships with referral partners, the Wells Fargo Advisors (team members) by developing and presenting a value proposition,\\ncreating and presenting lead identification strategies. Receiving customer referrals/leads from the Financial Advisors and converting those\\nreferrals/leads into mortgage loan applications. Remaining accountable to referral partner, customer and others during all aspects of the mortgage\\nfinancing process.\\n\\nMain responsibilities include:\\n\\nâ€¢Relationship management: Instrumental in initiating, developing and managing relationships with Wells Fargo Advisors in an effort to partner\\nwith Financial Advisors for referral/lead generation.\\n\\nSales:\\n\\nâ€¢Markets and sells WFHM mortgage products to new or existing WF customers using established inbound, outbound and cold calling\\ntechniques, in partnership with Financial Advisors.\\n\\nQuality Assurance:\\n\\nâ€¢Ensures loan salability by prospecting customers who meet loan qualifications standards and/or by correctly interpreting underwriting guidelines\\nand policies. Central point of contact:\\n\\nâ€¢Acts as the primary source of contact for both the mortgage customer and the Financial Advisor throughout the loan process, including rate\\nquotes and locks, loan originations, and pipeline management.\\n\\nCompany Name March 2013 to May 2015 Sr. Home Mortgage Consultant \\nCity , State\\n\\nProvides consultation in regards to home financing by education borrowers on available mortgage financing products and process Â·\\nBusiness via corporate relationships, direct to consumer marketing and other third party Relationships, Wells Fargo Corporate Relocation\\nConsulting Â· Completing loan structuring, pricing loan, locking loan rates, pipeline review accordance With WFC policies and procedures\\nÂ· In depth knowledge of investor and regulatory guidelines: FHA, VA, FNMA, FMLMC.\\n\\nCompany Name April 2010 to May 2012 Financial Advisor \\nCity , State\\n\\nDeveloping a book of business in order to meet and exceed the required performance hurdles Â· Effectively sourcing prospecting clients,\\ncapitalizing on referrals, assessing customer needs, referring customers to the appropriate service provider, and executing highly customized\\nsolutions to meet the clients needs Â· Recommending investment products and services that are suitable for prospects and clients based on\\ntheir objectives, resources, time horizon, risk profile and preferences Â· Balancing investment growth, referral activities, customer follow up,\\nprospect building, administrative compliance and personal growth and development according to both a day-to- day and longer-term plan\\nÂ· Planning and managing resources (time, people, budget) Â· Seeking the expertise of specialists, where appropriate, to identify planning\\nand investment strategies for a client Â· Establishing and maintaining relationship with the management team and informing management of\\nany circumstances that require supervisory attention/approval as per compliance guidelines and polices Â· Completing mandated training,\\nassessments, performance goals and continuing education requirements.\\n\\nCompany Name August 2008 to February 2010 Vice President, Wealth Advisor II \\nCity , State', 'Responsible for identifying prospective clients with a minimum of $1MM investable assets.\\nUtilize a profiling based approach with a wealth planning orientation to meet clients overall present and future wealth management needs.\\nPrepare presentations, follow up on client contacts, and refer the sale of products and services including portfolio management, private\\nbanking, trust, estate services, insurance, as well as other services available across the Wells Fargo franchise.\\n\\n\\x0cServe as the relationship manager by coordinating Trust Officers, Investment Managers, Private Bankers, Financial Consultants, Wealth\\nManagement Specialists, Insurance Specialists and other contacts across Wells Fargo to deliver full-service wealth management.\\nKey Accomplishments : Â§ Completion of Wells Fargo Wealth Advisor/The Private Bank Foundation.\\n\\nCompany Name April 2007 to August 2008 Vice President, Senior Business Relationship Manager \\nCity , State\\n\\nResponsible for soliciting and maintaining account relationships with multifaceted businesses with annual gross sales up to $25MM.\\nServe as the relationship manager to existing clientele in providing ongoing financial consulting Â· Assess the commercial loan and deposit\\nneeds for current and prospective clients.\\nAnalyze and secure suitable credit with Wells Fargo Bank products and services.\\nKey Accomplishments : Â§ Completion of Wells Fargo Business Banking College of Commercial Credit Â§ Medallion Stamp\\nCertification# X0209353-2609 Â§ Authorized Lending Limits: Â§ Final approval on wires processed through (FTS) New: $1,000,000 Â§\\nLending New $50,000 Lending Existing $100,000 Â§ Lending Incremental $50,000Â§ Concurrence $1,000,000 Â§ Concurrence Area\\nOf Caution 250,000 Â§ Operating Exposure $100,000 Â§ RCS Authority (DOD Exception Wire Transfers) $100,000 ACH Authority\\n$100,000.\\n\\nCompany Name November 1996 to April 2007 Senior National Home Mortgage Consultant \\nCity , State\\n\\nResponsible for mortgage origination with a focus on relationships through employee mortgage programs with Fortune 500 companies\\naffinity groups, and/or portfolio retention\\nIn depth knowledge of investor and regulatory guidelines: FHA, VA, FNMA, FMLMC.\\nDevelop and manage relationships with both external and internal clients.\\nLeaders Club, Team Lead Â§ 2006 1st Mtg Funded Units: 156 $30,520,799 Avg Ln Amt: $195,646 Â§ 2006 2nd Mtg Funded Units: 43\\n$1,873,377 Avg Ln Amt: $43,566 Â§ 2006 Revenue: $590,110.47 Revenue BPS: 193.35 NOI: $235,967.47 Â§ 2006 Centralized Retail\\nReferrals & Cross sell Top Alliance Bank Referrals 382 Â§ 2005 1st Mtg Funded Units: 161 $34,183,691 Avg Ln Amt $212,321 Â§\\n2005 2nd Mtg Funded Units: 54 $2,491,738 Avg Ln Amt: $46,143 Â§ Recognized as #1 in Home Equity sales for 2002 and 2003 in\\nCorporate Wells Fargo Â§ Recognized as #1 in Lender Paid Mortgage Insurance.\\n\\nEducation\\nMinnesota State University 1988 Bachelor of Science : Business Administration City , State \\nAdditional Information\\n\\nS.A.F.E. MORTGAGE NMLS # 533306\\nINACTIVE LICENSES Â· Series 7, 66, 63 Â· Life, Accident and Health Insurance Â·'], 'es/bpo.pdf': ['SR. WORKFORCE MANAGER\\nSummary\\nResults-oriented Workforce & Relationship Manager with diverse background in management & customer service. Dedicated to providing\\nexcellent customer service and making operational and procedural improvements that drive savings.\\nExperience\\n12/2014 to 05/2015\\nSr. Workforce Manager Company Name ï¼\\u200b State', '33% reduction of non-productive agent time (+/-600 workforce) Forecasted 14 million yearly contacts within +/- 5% of projection FY16\\nQ1 savings of $250,000 thru allocating volume on/offshore Reduced hours onshore by 46%; $17 million saved annually Saved $1.14\\nmillion annually & 30% performance improvement Launched three T-Mobile stores; net revenues of $600,000 annually Volunteer work and\\ncommunity-wide outreach activities Bluestem (e-Commerce) - Workforce Planning Manager (Pennsylvania) 07/15 - 10/16 Managed\\nonshore team of five (5) workforce & Kronos analysts, seven (7) Quality Assurance analysts & to ensure optimum deliverables for account\\nmanagement along with two (2) Reporting analysts Supervised real-time team of four (4) at two (2) onshore locations; maintaining intraday\\nallocation to budget to achieve various service level objectives for Sales & Customer Services queues Forecasted 14 million yearly contacts\\n(hitting within +/- 5% of projection), on/offshore, within budgeted target in a 7 by 24 setting to ensure contractual compliance with penalty\\navoidance Allocated forecasted volume on/offshore to budget; FY16 Q1 savings of $250,000 Reduced non-productive time by 33% thru\\nschedule optimization (+/-600 workforce onshore) Facilitated 14 weekly forecast meetings between clients to keep abreast on impacts to\\n$1 Billion projected forecast Assumed leadership point of contact in absence of executive management Developed & coached team\\nmembers through departmental cross-training to ensure business continuity Lead creation & revision of (non-existent/outdated) departmental\\nSOPs for Workforce, Kronos & QA to provide consistent guidelines & training materials resulting in a 16% departmental manpower\\nreduction and $100,000 annual savings Modified Hours of Operations that reduced onshore hours by 46%; saving $17 Million annually\\nwhile boosting employee morale Managed a team of four (4) enterprise schedulers along with six (6) indirect support & real-time staff both\\non & offshore; 7 by 24 Managed workforce department for Alorica\\'s #1 client (DirecTV) Planned capacity for each respective nine (9)\\nsite\\'s operation & training teams to meet client expectations; +/-2,000 workforce Analyzed, monitored and reported on all staffing\\nassumptions (client\\'s call volume, headcount requirements, shrinkage, attrition and handle time goals) and provided recommendations to\\nensure optimal financial impact to organization Developed detailed staffing plans for each line of business that ensured consistent\\nachievement for each 30-minute interval compliance requirements and adjusted manpower as needed Simulated impact of proposals for\\nclient expansion (including opening new sites) and recommended action for staffing Improved workload balance between nine (9) sites thru\\nallocation adjustment of the seven (7) lines of business Directed & maintained weekly best practice client calls for each of the seven (7) lines\\nof business to ensure team had adequate training & resources to succeed within their roles Hosted daily workforce and operations\\nconference call to validate resources, performance & deadlines for deliverables such as meeting contractual KPIs for the seven (7) lines of\\nbusiness eBay Enterprise (e-Commerce) - Workforce Specialist (WFM) (Florida) 11/11 - 12/14 Received \"SPOT AWARD\" from\\nDirector of Workforce Planning & Business Intelligence (included bonus) for leadership within my group \"during the most transitional period\\nwithin the organization..\" - resulting from a 40% departmental manpower reduction Ensured optimum Intraday staffing & performance at 4\\nonshore locations with +/- 5,000 workforce to drive cost savings in a 7 by 24 setting (no offshore support) Administered real time\\nmonitoring as it relates to queues, occupancy, service level, handle time and schedule adherence Interfaced with center management and', \"central operations regarding factors that may impact staffing and service levels while assisting in coordinating business activities to achieve\\n90% adherence workforce target Prepared, Hosted & Reported WebX daily tele-conference meeting enterprise-wide to review previous\\nday's performance, current & future day's plans, staffing, trends, expected volume & marketing campaigns to ensure readiness for 100+\\nclients (12 Verticals) Constructed daily impact summaries for service level and performance as it related to real-time account management\\nReforecasted and managed intraday call volume trends to ensure a more effective and efficient workload along with adjusting intraday\\nworkforce requirements based on changing/dynamic forecasts of 20 Million contacts annually Trained new & current Team Members on\\nSOPs using authored materials along with updating current materials Volunteer work (BET) building evacuation/emergency response team\\nand community-wide outreach activities l.\", \"01/2000 to 11/2011\\nConsultant Company Name\\n\\nSupervised operations, project readiness, preparation and implementation for telecommunications and customer service systems for call\\ncenters ranging from 15-100+ employees, including monitoring & review of performance metrics & workforce adherence to achieve client\\nexpectations Integrated senior management & staff duties of a national customer service & claims management center into existing\\noperations at corporate headquarters saving over $1.14 million a year with a 30% performance improvement Recruited, managed and\\ntrained employees & developed and implemented policies & procedures for marketing and customer service strategies to client specification\\n& satisfaction Launched three (3) T-Mobile authorized dealer wireless stores with net revenues of $600,000 annually Managed client\\naccounts and identified business development opportunities (b2b), while maximizing market share with increasing profits and maintaining\\nclient retention to promote business continuity and drive cost savings Charrette and event facilitation & planning, including contract\\nnegotiations and on & off-site coordination for $1 million+ budgets & campaigns utilizing interactive intelligence while coming under budget\\nPromoted & publicized clientele for arrangement of international venues including speaking engagements, lectures & tours using social media\\n& marketing campaigns to optimize budget.\\n\\n10/1996 to 01/2000\\nIntraday Operations Analyst Company Name\\n\\nSupervised Intraday Workforce Management Operations staff of 10 at two (2) onshore Centers including scheduling, staffing, recruiting,\\nhiring, training and performance reviews and Q&A to provide optimized support of Center KPIs Chaired weekly team meetings for quality\\n\\n\\x0cwork product for Clientele (Microsoft, HP, Deutsch-Bank, Gateway, Comcast, Symantec.) including providing premium customer service\\n& technical support Reported daily metrics of Help Desk performance measurements & KPIs of all clientele at multi-sites ranging from\\n400-1400+ employees including volumes, averages and deviations to promote contractual agreements Leveraged workforce on an Intraday\\nbasis and adjusted manpower real-time according to contractual stipulations & current performance, volumes and trends Co-Created &\\nCo-Chaired both Stream's Values Committee and Stream University established for workforce development & lower attrition; still in effect\\ntoday.\\n\\nEducation\\nBachelor of Science : Social Science Portland State University ï¼\\u200b City , State Social Science\\nSkills\\naccount management, b2b, balance, budgets, budget, business development, Business Intelligence, contract negotiations, Clientele, client, clients,\\nCustomer Services, customer service, e-Commerce, executive management, senior management, financial, Gateway, Help Desk, HP, hiring,\\nKronos, leadership, Director, marketing, market, materials, meetings, Enterprise, optimization, performance reviews, policies, proposals, speaking,\\nquality, QA, Quality Assurance, real-time, real time, recruiting, Reporting, Sales, scheduling, specification, staffing, Symantec, technical support,\\ntelecommunications, training materials\"], 'es/bus_dev.pdf': [\"BUSINESS DEVELOPMENT MANAGER\\nExperience\\nJanuary 2014\\nto\\nCurrent\\nCompany Name City , State Business Development Manager\\n\\nPlatform for video content and targeted native video ads Report to COO and CRO with new business initiatives and business strategies for\\npublishers and advertisers.\\nLaunched Cinema6's first campaigns, with a premium spirits brand and athletic brand resulting in 100% profit Negotiated contracts with 3rd\\nparty vendors (Jun Group, Veeseo, Adblade, Bidtellect).\\nAdding clients to partner with by phone, email and meetings resulting in the creation of a pipeline for Cinema6 Compose weekly reports on\\nnew business, campaigns and other daily tasks.\\n\\nJanuary 2013\\nto\\nJanuary 2014\\nCompany Name City , State Sales and Service Desk Specialist\\n\\nPrivate Wealth Management - Alternative Investments Supported and managed relationships with Financial Advisors in the Pacific\\nNorthwest and Mid-America regions, as well as throughout the country and internationally.\\nEducated Financial Advisors on specific Alternative Investment products on the Merrill Lynch platform, including strategies, fee structure,\\nand purchase and redemption schedules.\\nIdentified as the Sales and Service Desk Specialist with the highest and most consistent call record, leading the team in services provided to\\nFinancial Advisors that called on the Alternative Investments Service Desk.\\nDeveloped and helped launch the Best Practitioner program for Financial Advisors geared towards generating new business on the\\nAlternative Investment platform.\\nAwarded 2013 Alternative Investments Most Net Sales to Budget for the Pacific Northwest Region.\\n\\nJanuary 2010\\nto\\nJanuary 2013\\nCompany Name City , State New Business Director\\n\\nProvided financial solutions for client that reduced cash flow expenditures and realized losses on assets by utilizing those underperforming\\nassets to offset media expenditures.\\nResponsible for introducing ORION Trading to 75-150 accounts with annual media budgets in excess of $4mm on advertising including, but\\nnot limited to television, radio, digital print, and OOH, nationally and locally.\\nSourced and maintained relationships with corporate executives at Fortune 1000 organizations.\\nResponsible for sourcing and brokering new business with significant clients including Vail Resorts, Cargill, Pergo, Black and Decker, and\\nColonial Williamsburg.\\nResponsible for production of monthly newsletters for ORION clients and employees on current innovations that provided creative solutions\\nto business problems.\\n\\nJanuary 2008\\nto\\nJanuary 2009\\nCompany Name City , State Sales Manager\\n\\nMaximized Showtime Networks subscriber growth and revenue in affiliate customer service centers in the Mid-West and Western\\nterritories.\\nManaged 10 accounts in the cable industry sector with $894,623 of combined revenue and maintained a 1% account net growth, in a\\ntelevision advertising environment that exhibited significant declines in growth.\\nLed on-site training by educating and motivating affiliated Customer Contact Personnel, which included 15-20 people per training on\\nproduct, sales, retention, new product introduction, and created and implemented motivational methods to influence sales.\\nLed new business development initiatives in Seneca, SC and Seattle, WA, territories that directly resulted in increased revenue from\\nlocations that previously generated zero advertising revenue.\\nEstablished and maintained an extensive network of clients through calls, meetings, and designed client management events.\\n\\nJuly 2006\\nCompany Name City , State Summer Analyst\\n\\nConducted research for Portfolio Managers on portfolio investments including analyses of 10-K and 10-Q reports.\\nTracked the trading volume and prices of key stocks for institutional and private clients, producing weekly reports to various Portfolio\\nManagers and assisted the trading desk with market database analysis on prospective trades.\\n\\nEducation\", \"2007\\nHOBART COLLEGE City , State Bachelor of Arts : English English\\nMay 2007\\nMedia and Society Media and Society\\nInterests\\nMember, Men's Club Ice Hockey (2003 - 2007), devoted 12 hours per week in practice and competition Volunteer, Political Activism House\\n(2004), organized and conducted voter registration drives for college students 1999-2003 THE DELBARTON SCHOOL Morristown, NJ\\nMember, Men's Varsity Ice Hockey (NJ State Champions - 2002) New Jersey Hockey Hall of Fame inductee - 2014\\nAdditional Information\\n\\nMember, Men's Club Ice Hockey (2003 - 2007), devoted 12 hours per week in practice and competition Volunteer, Political Activism\\nHouse (2004), organized and conducted voter registration drives for college students 1999-2003 THE DELBARTON SCHOOL\\nMorristown, NJ Member, Men's Varsity Ice Hockey (NJ State Champions - 2002) New Jersey Hockey Hall of Fame inductee - 2014\\n\\nSkills\\nads, advertising, Avid, budgets, Budget, business strategies, cable, cash flow, coach, client management, content, contracts, SC, client, clients,\\ncustomer service, database analysis, email, Financial, Investments, market, meetings, Microsoft Excel, Power Point, Microsoft Word, network,\\nNetworks, new business development, newsletters, Personnel, producing, profit, radio, Research, Sales, phone, television, video\"], 'es/chef.pdf': ['MANAGER AND EXECUTIVE CHEF\\nProfile\\n\\nResults oriented manager who thrives in fast-paced, competitive environments is seeking position offering opportunities for new professional and\\npersonal challenge. Self starter with a positive, can-do attitude who is driven to learn and succeed.\\n\\nAreas of Expertise\\n\\nInventory control\\nExpense control\\nSupervision and training\\nStrong presentation skills\\nSound judgment\\nComputer-savvy\\nProcess improvement\\nTeam building\\nStaff motivator\\nBusiness recovery and sustainability\\nConflict resolution\\nMedia marketing\\nCost reduction\\nBudget allocation\\n\\nDiverse management experience\\nNatural leadership\\nStaff training\\nSupervision and training\\nSkilled negotiator\\nCalm under pressure\\nComplex problem solving\\nInventory control\\nAdaptable\\nExceptional time management skills\\nOperations Start up\\nPerformance evaluations\\nEmployee Scheduling\\n\\nProfessional Experience\\nManager and Executive Chef \\nOctober 2014 to Current Company Name ï¼\\u200b City , State\\n\\nContinually monitor all Rochester University Fraternity house kitchens and take appropriate action to ensure food quality, service standards,\\npolicies, and sanitation standards are consistently met.\\nAssign tasks and oversee the direction of employees to ensure compliance with food safety procedures and quality control guidelines.\\nPerformed kitchen walk-throughs to gauge timeliness, performance and excellent service quality.\\nMonitor budgets of all Rochester University Chefs on campus\\nManage and approve all inventories and budgets related to all culinary areas on campus\\nManage, plan, and oversee all culinary campus events\\nDeveloped variety of menu items catering to customers with food allergies and diet restrictions such as gluten-free and vegan items.\\nDesignated by Rochester University to be primary competitor to represent Rochester University in all culinary competitions\\n\\nSous Chef \\nOctober 2013 to June 2014 Company Name ï¼\\u200b City , State\\n\\nApproved procurement requests for banquet products\\nManaged and updated day to day database of personal and existing recipes\\nBudgeted food orders and products to maximize company profitability\\nMaintained standards and responsible for all kitchen operations, banquet events and buffet lines\\nResponsible for daily set up of all stations\\n\\nGeneral Manager/Executive Chef \\nSeptember 2012 to October 2013 Company Name ï¼\\u200b City , State\\n\\nAdvanced 30 year family owned non- profitable restaurant to lucrative, thriving business now known as \"Local\\'s Favorite\"\\nPersonally acknowledged in the local Sun News, Myrtle Beach Tourist magazine, culinary and tourist websites as \"Top 100 Myrtle Beach\\nChefs\" in over 3,000 existing restaurants\\nDesigned, created, and implemented new restaurant and catering menus consisting of self-created recipes\\nScheduled and managed all catering events\\nReviewed and approved all food and beverage billing invoices and expense reports\\nMonitored, budgeted inventory and expenses\\nManaged day-to-day tactical and long-term strategic activities\\nScheduled and directed staff to maximize productivity\\nIdentified key growth opportunities through implementation of promotional events\\nHired and trained staff of over 20 for food and beverage preparation and approved payroll\\nReduced total operating costs while utilizing online tools such as Quicken\\nCoached and mentored 25 employees and staff members by offering constructive feedback and taking interest in their career growth\\n\\nChef De Cuisine and Sous Chef \\nDecember 2010 to September 2012 Company Name ï¼\\u200b City , State', 'Successfully and simultaneously worked with Owner and Executive Chef Ernest Bledsoe to successfully manage both restaurants\\nRecruited and hired 20 new staff for each restaurant\\nInventoried, compiled and maintained records of food use and expenditures\\nEnsured minimal product shrinkage and secondary use of products to avoid waste\\nManaged food and produce receiving process with 100% accuracy.\\nLed and motivated all restaurant personnel to be successful\\nTrained new staff on cleaning and preparing various foods for cooking and serving\\nCreated special menu items and event menus\\nPlanned and prepared food for parties, holiday meals, special functions, and other social events\\nInstructed other cooks in the preparation, cooking, garnishing, and presentation of food\\n\\nSous Chef \\nApril 2010 to December 2010 Company Name ï¼\\u200b City , State\\n\\nPerformed in a high volume kitchen under Executive Chef Frank Lee\\nSupervised, coached and trained kitchen personnel, prep cooks and line cooks in the preparation, cooking, garnishing, and presentation of\\nfood.\\nExecuted various kitchen stations including meat, fish, grilling and saute while preparing fine dishes and special diet entrees\\nOften switched between positions as Sous Chef to any other necessary Chef position mid shift to support changing needs of kitchen and\\nstaff\\nSupervised and coordinated activities of cooks and workers engaged in food preparation\\nPlaced daily food orders\\n\\nKitchen Manager \\nJuly 2008 to April 2010 Company Name ï¼\\u200b City , State\\n\\nScheduled kitchen and service staff\\nMonitored safety, sanitation, and food preparation\\nInventoried food, supplies, liquor, beer and wine on daily basis\\nRevised and organized kitchen procedures to optimize work flow\\n\\nInternship for Associate Degree in Culinary Arts \\nJanuary 2008 to June 2008 Company Name ï¼\\u200b City , State\\n\\nSkilled and proficient at all stations including prepping, sautÃ©ing, grilling before end of internship\\nServed an average cover count of 300+ per night\\nObtained firsthand experience with international, European, and French Cuisine\\nInterned during the 5th year of winning Charlotte Restaurant of the Year\\n\\nEducation\\nAssociate Degree : Applied Food Science and Culinary Arts/Food and Beverage Management , May 2008 Johnson & Wales University ï¼\\u200b City ,\\nState , GPA 3.4 GPA: GPA: 3.4\\nCertification : Food Safety and Sanitation , 2008 Johnson and Wales ï¼\\u200b City , State\\nCertification : National Beverage Service and Bartending , 2008 Johnson and Wales ï¼\\u200b City , State\\n\\nAffiliations\\n\\nFuture Business Leaders of America Scholarship\\n\\nFederal Work Study Program Award\\n\\nJohnson and Wales Achievement Scholarship\\n\\nSkills\\n\\nBudgeting, Multi-Business Operations Management, New Business Development, Profit Generation, Food Safety, Quality Management,\\nCustomer Relations, Vendor Negotiations, Vendor Partnerships, Time and Resource Optimization, Inventory Control and Management, Weekly\\nPayroll, Policies, Safety, Work Flow'], 'es/construction.pdf': [\"QA / QC MANAGER\\nSummary\\nQA / QC Manager Qualification Highlights Current Certifications Job 21 years' experience in the Oil and Gas Industry, Specializing in\\nRepair/Maintenance and New Construction of Above Ground storage tanks, with 6 years in the QA / QC field.\\nHighlights\\nMicrosoft Word, Excel, Weld Pro, Auto-Cad Matt Halderman- 1\\nExperience\\n01/2011 to 11/2016\\n01/2005 to 01/2008\\nQA / QC Manager\\n\\nCreates, maintains and establishes all WPQ's and WPS's while also training and document control of all NDE.\\nInitiates, oversees and audits Shop and Shop Inspector.\\nReviews all drawings from the bid phase to procurement.\\nProvides Superintendents with proper NDE training and technical support.\\nPerform completion audits on job closing packages.\\nWrite and develop Weld procedures and can sign ASME Level III procedures.\\n\\nConstruction Manager Company Name ï¼\\u200b City , State\\n\\nResponsible for day-to-day operations of construction projects, assembled personnel, equipment and materials for projects.\\nSupervised multiple projects concurrently while providing advice and assisting in the planning of projects awarded for transition from sales to\\noperations.\\nSuccessful job management of up to as many as 10 Crews/jobs at one time.\\nCustomers worked for include.\\n\\nSuperintendent / Repair and New Tank Construction Company Name ï¼\\u200b City , State\\n\\nResponsible for day-to-day operations on the work-site while controlling the short term schedule.\\nWorked closely with Project Managers to maintain quality control and subcontractor coordination responsibilities.\\nLead Man / Repair and New Tank Construction.\\nResponsible for crew management, QC efforts of the crew, daily and weekly scheduling of the crew.\\nHang steel/shell plate and structure for new construction and repair.\\nWelder / New Tank Construction / Fitter.\\nWelded for multiple Tank companies.\\nCBI, Tanco, ATV, Bay Tank and Vessel, Cust-O-Fab, Inserv to name a few of the more known companies.\\nBoth New Tank and Repair.\\nSMAW, FCAW, GMAW, and SAW.\\nProficient in the use of a gouge as well.\\n\\nEducation\\nAWS Certified CWI (Certificate # 08110741) API Certified TES (Certificate # 32697) API Certified 653 (Certificate # 42276) ASNT Level III\\n(Certificate # 245052)\\nSkills\\nAPI, Auto-Cad, closing, Inspector, materials, Excel, Microsoft Word, new construction, personnel, procurement, quality control, sales,\\nscheduling, shell, technical support, Weld, Welder\"], 'es/consultant.pdf': ['CONSULTANT\\nSummary\\nMilitary veteran and PhD with a breadth of professional experience. Proven expertise in long- and short-term projects with tight deadlines and\\nchanging requirements.\\nHighlights\\n*Analytical problem solving * Superb writer and editor *Articulate presentation skills * Research / Analysis *Data collection and analysis *\\nEffective team leader Consulting, Research, Analysis, Qualitative Analysis, Quantitative Analysis, Social Media, Project Management, Media\\nAnalysis, Editor, Copy Editing, Data Entry, Drafting, Editorial, Fundraising, Government, Law Enforcement, Personnel Management,\\nNetworking, Security, SOP, Public Speaking, Leadership, Policy Analysis\\nAccomplishments\\n\\nPart of Marine Security Guard contingent for Sec State Colin Powell in Tashkent, Uzbekistan (Dec.\\n2001).\\nHonor graduate, South Dakota Law Enforcement Training 911 Dispatcher class (December 2006).\\nPublication - CASS 2009: \"Voices: Postgraduate Perspectives on Interdisciplinarity\".\\n\\nExperience\\nConsultant\\n\\nAwareness Building and Donor Relations Uganda Community Farm - Eastern Uganda Pro bono consultancy services for Uganda\\nCommunity Farm, a \"self-help African action on extreme poverty\" Advise UCF founder on public relations and media relations campaigns\\nOrchestrate strategies to raise UCF\\'s social media footprint and fundraising profile Helped plan and successfully implement UCF\\'s initial\\nfundraising campaign - resulting in seed money to open a demonstration plot for regional farmers and raising UCF\\'s profile enough to garner\\na partnership with Edinburgh Global Partnerships.\\nProject Editor PRIME Research UK - Oxford Primary contact and editor for GE Renewable Energy news project Editorial services for\\nclient media and news briefs, focusing on commercial and finance projects Research news stories of interest to the client, write concise and\\nrelevant abstracts for story groupings, upload data, and build newsletters to high standard with tight deadlines.\\nDesigned and implemented a set of research procedures to provide fast, accurate ad-hoc reports to keep clients aware of changing\\nreporting trends in online media.\\n\\nAssociate Lecturer/PhD Candidate Company Name\\n\\nResearch student with a topical expertise in security policy, peace building and identity construction in failed states, specifically Afghanistan,\\nwith an eye toward understanding the role of historical interactions to contemporary foreign policy and security debates.\\nHistorical and contemporary documentary research/ analysis.\\nPlan, organize and deliver undergraduate lectures and seminars.\\nAttend and present papers to seminars, conferences and workshops.\\nMarine Security Guard.\\n\\nCompany Name\\n\\nTop Secret Security Clearance [Expired] Provided internal security for personnel, property and classified materials at United States\\nEmbassies overseas.\\nVigilance regarding potential regional threats as regards extremism, terrorism, governmental instability, unrest and etc.\\nSuccessfully organized and hosted two annual Marine Corps Balls, each with a budget of $40,000+ with diplomatic, government, and\\nbusiness involvement.\\nResponsible for managing Marine Welfare and Recreation fund: organize and oversee diplomatic and community functions.\\nPrior to acceptance into Marine Security Guard program, served in 0331 MOS (Infantry - Machinegunner) at Guantanamo Bay, Cuba.', 'Education\\nPh.D : International Relations Oxford Brookes University International Relations\\n2012\\nPhD International Relations in progress - Final Drafting phase *Awarded John Henry Brookes fees-based scholarship\\nDecember 2016\\nMaster of Arts : International Studies Oxford Brookes University GPA: Dissertation: Deconstructive Analyses of the Failed State Discourse in its\\nHistorical Bases and Contemporary Form(s) and Implications for International Security: the Case of Afghanistan Dissertation: Deconstructive\\nAnalyses of the Failed State Discourse in its Historical Bases and Contemporary Form(s) and Implications for International Security: the Case of\\nAfghanistan International Studies\\nM.A : International Studies (Security focus) GPA: Top 5% of class, graduating with distinction honors *Dissertation title: Toward a Genealogy of\\nthe \\'Failed State\\' Discourse International Studies (Security focus) Top 5% of class, graduating with distinction honors *Dissertation title: Toward a\\nGenealogy of the \\'Failed State\\' Discourse\\nBachelor of Science : Political Science & Global Studies South Dakota State University ï¼\\u200b City , State , United States Political Science & Global\\nStudies\\nB.S : Political Science and Global Studies Cultural Geography Political Science and Global Studies Cultural Geography\\nAdvanced coursework in Cultural Geography, International Relations and Organizations. GPA: Scholarship - Dr. John Henrickson Award -\\nAwarded twice for academic achievement in field of Political Science: 2005 - 2007. *Graduated with Cum Laude honors. Scholarship - Dr. John\\n\\n\\x0cHenrickson Award - Awarded twice for academic achievement in field of Political Science: 2005 - 2007. *Graduated with Cum Laude honors.\\nPublications\\nSzarkowski, S. \"Dominant Voice, Dominant Silence: Foucault\\'s Governmentality and the US-Pakistan Relationship\" published in CASS 2009\\nConference Proceedings: \"Voices: Postgraduate Perspectives on Interdisciplinarity\". Presented at and published by the University of Aberdeen\\n2009 Szarkowski, S. \"On the Need for Critical Reflexivity, Or: A One-Eyed King in the Land of the Blind\" Paper Presented at CASS 2011,\\nUniversity of Aberdeen 2011 Szarkowski, S. \"Historical Legacies, Identity Constructions, and Security Policy for Failed States: the Afghanistan\\nCase\" Paper presented to the International Studies Association, San Franciso 2013\\nSkills\\nad, Articulate, budget, concise, conferences, Consulting, Copy Editing, client, clients, Data collection, Data Entry, Drafting, Editor, Editorial, fast,\\nfinance, Fundraising, Government, Law Enforcement, Leadership, team leader, managing, materials, media relations, money, MOS, Networking,\\nnewsletters, personnel, Personnel Management, Policy Analysis, presentation skills, PRIME, problem solving, progress, Project Management,\\npublic relations, Public Speaking, Quantitative Analysis, reporting, Research, Security Clearance, seminars, SOP, stories, workshops, writer'], 'es/designer.pdf': [\"TECHNICAL DESIGNER\\nSummary\\nSPECIAL QUALIFICATIONS: Textile Engineering Knitting and Garment Manufacturing Textile Printing and Finishing Yarn and Fabric Dyeing\\nSpinning and Weaving Textile Construction and Embroidery Textile Testing\\nHighlights\\n\\nCAD: Photoshop, Illustrator and Accutrac\\nTechnical Packets\\nGarment Construction and Fit\\nComputerized and Manual Pattern Making\\nGarment Embellishment\\nDraping and Sewing\\nFashion Illustrations Manual and Computerized\\nMerchandise & Line Development\\nTrend & Color Analysis\\nUnderstanding of Target Customer/Markets\\n\\nExperience\\nTechnical Designer 01/2015 to Current \\nCompany Name City , State\\n\\nCreated 65 complete development and production technical packages including spec sheets in 1 week.\\nDeveloped a pattern with grade rules for production of sample garments with accuracy.\\nCoordinated 8 different manufacturing tasks that led to over 30,000 unites of production.\\nSupervised the creation of garments, including fitting, detailing and adaptations.\\nSourced, selected and bought fabrics, trims, fastenings and embellishments.\\nApproved quality for all trims, creates fit comments for production and communicates fit corrections to overseas in timely manner.\\nNotified factories of construction quality issues and provides recommendations on corrections Negotiated with customers and suppliers and\\noversee production.\\nProvided input to design and sourcing teams regarding cost engineering.\\nCollaborated with designer, a merchandiser, manager and business partner to ensure the desired product is achieved, while retaining\\nproduction schedule.\\nSaved 60,000 units of production by coming up with an effective solution for a design fault.\\n\\nAssistant Designer/Technical Designer 06/2014 to 12/2014 \\nCompany Name City , State\\n\\nVintage Casual Sportswear, Dresses and Sweaters Created an idea and produce a complete design by hand or using computer-aided\\ndesign (CAD).\\nCreated complete development and production technical packages including spec sheets.\\nCreated inspirational presentation materials for trend, color and product assortments.\\nProvided research ideas that reflect the trends, but also, which reflect the integrity and aesthetics of the brand by creating design boards\\n(color, sketches and fabric detail).\\nManaged all deadlines within development/Production calendar.\\nProvided and confirm the gauges and knit downs for full fashion sweaters.\\nManaged Design meetings, photo-shoots and meetings with customers and fabric agents.\\nSeek creative solutions when specing garments/tech pack executions.\\n\\nAssistant Designer/Technical Designer 04/2013 to 04/2014 \\nCompany Name City , State\\n\\nCreated Tech Packs and Line sheets for import and domestic styles.\\nManaged track of Current Styles through software called Accutrac Applied Illustrator and Photoshop proficiency to create and refine\\nsketches.\\nUpdated BOMs catalog samples, and maintain textile and pattern libraries.\\nSupported Design Team with all key aspects of Design process - from creation to adoption.\\nProvided Fit Comments to the factories overseas (China and India).\\nProvided accurate Specs for the garment.\\nSourced Fabric and Trims.\\nPrepared for Design meetings, which includes preparation for mood boards, color boards, fabric board, design board with all technical\\ndrawings and collecting samples.\\n\\nAssistant Designer 07/2010 to 08/2012 \\nCompany Name City , State\\n\\nCasual Sportswear, Dresses and Sweaters.\\nAssisted in designing all types of Women's Casual Sportswear, Dresses and Sweaters.\", 'Education\\nMasters : Business Administration United States University City , State Business Administration\\nOrganizational Behavior, Data & Information Systems Management, and HR Administration.\\nMasters : Fashion Design March 2014 FIDM/Fashion Institute of Design & Merchandising City , State GPA: Cum Laude Fashion Design Cum\\nLaude\\nPattern Making, Garment Construction, Computer Aided Designing, Technical Drawing, and Draping and Sewing.\\nBachelors of Engineering : Textile Technology June 2010 RGPV University City , State , India GPA: Magna Cum Laude Textile Technology\\nMagna Cum Laude\\nKnitting and Garment Construction, Fabric Construction (Woven and Knits), Fabric Printing and Finishing, and Textile Testing. Gimatex Industries\\nPvt. Ltd., Maharashtra, India Spinning, Weaving and Garment Construction Trained in manufacturing the yarn, utilizing that yarn to fabricate fabric,\\nlastly utilizes that fabric to design a garment. Paper on Technical Textiles. This paper presents different type of technical textiles, their\\nmanufacturing, finishing, and end uses.\\nSkills\\nphoto, Photoshop, CAD, catalog, Color, Designing, Fashion, Drawing, HR, Illustrator, Information Systems, materials, meetings, Organizational,\\nDesign process, quality, research, collecting samples, Trend, type'], 'es/dig_media.pdf': ['SOCIAL MEDIA MANAGER\\nSummary\\nSeeking an employment position in the Marketing or Public Relations field.\\nHighlights\\n\\nI am able to work very well with other people, as part of a team or otherwise, in an external and/or internal work environment.\\nI am very organized and can multi-task with ease.\\nI am able to take direction easily, but I am also not afraid to ask for help if needed.\\nI am a strong communicator and pride myself on my ability to speak and write well.\\nI am very familiar with most computer office programs including all Microsoft programs.\\nI work well under pressure and consider myself to be an effective problem solver, promoter and liaison.\\nI pride myself on being able to develop and nurture relationships, existing and new, with clients, patients, and/or team members on a daily\\nbasis.\\n\\nExperience\\nSocial Media Manager , 06/2014 to Current Company Name ï¼\\u200b City , State\\n\\nRunning Title history on Lease holders and their properties\\nEntering data to be used in official Abstracts\\nManaging personal relationships with clients by writing \"Thank You\" letters and keeping them informed with weekly email updates\\nAssisting with daily office duties such as filing, organizing, and updating company/clientele information\\nCreating and maintaining Social Media profiles (Facebook, Twitter, Instagram) for the Candidate\\nCreating and implementing strategic plans for Social Media posts to try and broaden our outreach (i.e. posting relative articles on social or\\npolitical issues in our community and asking followers for their feedback, posting pictures of every fundraiser, appearance or social event\\nthat the campaign/candidate has held or attended, engaging followers in conversation on the campaign page to learn about their concerns\\nand hopes for the future of our community and how AndrÃ© Comeaux can help make them a reality)\\nHelping plan campaign fundraisers and events for the Lafayette community â—¦ Examples: * Planned and implemented a \"Meet the\\nCandidate\" social gathering at a local restaurant for current students and recent graduates to come together and discover ways they can\\nvolunteer for the campaign, raise money, meet AndrÃ© Comeaux and learn about his objectives * Helped plan and implement several\\nfundraisers for both the Lafayette and Baton Rouge community which gave supporters the opportunity to volunteer their time and money to\\nhelp fund the campaign * Helped design the website, campaign \"push card\" and campaign t-shirt\\n\\nMarketing Intern , 01/2014 to 05/2014 Company Name ï¼\\u200b City , State\\n\\nCreating and posting numerous Social Media posts on various outlets (Facebook, Twitter, Instagram, Constant Contact) to engage\\nfollowers and encourage attendance to events\\nDesigning and sending out weekly, sometimes daily e-Blasts (via Constant Contact) to ticket holders and the general public about upcoming\\nevents, getting involved with volunteering, etc.\\nVolunteering for Art Walks in Downtown Lafayette & various concerts, taking pictures at certain events and fundraisers, and assisting the\\nMarketing Director with different tasks on a daily basis such as organizing and designing promotional pieces including flyers, postcards and\\nthe Center\\'s website\\n\\nSports Intern , 09/2013 to 02/2014 Company Name ï¼\\u200b City , State\\n\\nAssisting the Sports Director with filming high school football games\\nRecording names, numbers and scores of each game\\nCutting film and reviewing/editing the script for the teleprompter for the Sports Director before he went on-air\\n\\nNanny/Caregiver , 01/2012 to 02/2014 Company Name ï¼\\u200b City , State\\n\\nBasic caregiver for three small children for 4-6 hours everyday\\nProvided discipline according to their ages (5, 10, and 13) and, in accordance with their parents\\' guidelines, gave them everyday chores and\\nresponsibilities to accomplish i.e. getting their homework done right after school and in a timely manner, cleaning their rooms, dressing\\nthemselves for extra-curricular activities, etc.', \"Sales Associate , 05/2011 to 12/2012 Company Name ï¼\\u200b City , State\\n\\nGreeting and assisting customers on the main floor\\nWorking the register\\nRe-stocking shelves and taking inventory on a weekly basis and major inventory over the summer\\nWrapping gifts\\nCreating flyers and postcards to help advertise monthly sales or discounts\\nDesigning various window displays\\n\\nEducation\\nBachelor's : Public Relations, Business University of Louisiana at Lafayette ï¼\\u200b City , State , US University of Louisiana at Lafayette, Lafayette LA\\nPublic Relations/Liberal Arts, May 2014 Bachelor's degree in Public Relations with a minor in Business\\nAccomplishments\\n\\n\\x0cAs part of one of my last core Communications classes at The University of Louisiana at Lafayette, better known as Campaigns 490, students\\nwere divided into 5 teams of 5 to create a campaign for a specific client, the ULL Communication Department. The proposal was to increase\\nrecruitment numbers by 20% in the next year. Each member of the team had a unique job and mine was Editor, which entailed reviewing,\\nproofreading, and finalizing the group's final written reports and social media sites. After a semester of gathering and analyzing research, developing\\na campaign based on objectives, creating a new branded image and evaluating the plan for the department, the Department of Communication\\nchose our campaign as the winning group proposal\\nProfessional Affiliations\\nTHE ANDRÃ‰ COMEAUX CAMPAIGN , Lafayette, LA\\nSkills\\nAssociate, Basis, Greeting, Inventory, Monthly Sales, Sales, Sales Associate, Sales Or, Stocking, Marketing, Posting, Clients, Filing, Increase,\\nLiaison, Problem Solver, Proofreading, Recruitment, Very Organized, Games, Promotional, Public Relations\"], 'es/engg.pdf': [\"MECHANICAL ENGINEERING INTERN\\nSummary\\nCAD | CAM | Finite Element Analysis | Mechanical Design | Product Design and Development\\nSkills\\n\\n5 years of experience with CAD packages (SolidWorks, Autodesk Inventor, AutoCAD, CATIA, PTC CREO)\\n2.5 years of experience with CAE Softwares (HyperMesh, Abaqus, ANSYS, Optistruct)\\n2.5 years of experience with Analysis (Linear & Non-linear Static, Dynamic, GD & T, Tolerance Analysis, Design Optimization)\\nExperience with Sheet metal, Design for manufacturing, generating Bill of Materials, DFMEA, Sculpting.\\nExperience with advanced material selection for rapid prototyping, advanced manufacturing, welding and 3D printing.\\n\\nExperience\\n09/2013 to 05/2014\\nCompany Name\\n\\nFinite Element Analysis of Industrial Robotic Assembly, Illinois Institute of Technology, Chicago Jan - May 2016.\\nConceptualized, brainstormed and designed a 6-axis SCARA Robot for pick and place operation in automotive industry.\\nPerformed static analysis with stainless steel 304 to evaluate the maximum load an assembly can lift before yielding.\\nAlso, analyzed Gripper and joints to eradicate future failures.\\nOptimized design using OptiStruct by varying mesh sizes and element order.\\nSimulated assembly with dynamic analysis to find distorted elements and to verify optimized structure.\\nReliability Engineering Analysis on Automotive Oil Pump, Illinois Institute of Technology, Chicago Sept - Dec 2015.\\nUsed industrial reliability specifications to select the power consumption and flow rate at three distinct levels of rpm to study its variability.\\nImproved system using Taguchi analysis by optimizing signal to noise ratio.\\nConducted Failure Mode Effect Analysis (FMEA) to analyze potential causes of failures to deliver clean oil upon demand Abstracted and\\ndesigned Near Dry Machine with two inlet nozzles.\\nPerformed fluid analysis and actual results on lathe machine.\\nProvided vegetable oil as a coolant with pressurized air on flank face of the tool, which resulted in unburnt and recyclable chips.\\nGearbox Design, Narsee Monjee Institute of Management Studies, Mumbai Jan - May 2013.\\nDesigned a gear box with different gears such as spur, helical worm by considering seals, lubricating oil and bearings.\\nAssigned materials and performed dynamic simulation to define contact surfaces.\\n\\n06/2013 to 08/2013\\nMechanical Engineering Intern Company Name\\n\\nInitiated a project to perform a failure investigation in mufflers due to the low clearance of roads and provided feedback.\\nEstablished and coordinated maintenance, GD&T, safety procedures, service schedule and supply of materials in the maintenance shop.\\nDeveloped failure reports including feedback based on common failures from the automotive industry.\\nSet up and calibrated accelerometers on Hyundai cars to conduct tests to analyze the modes of vibration of vehicle and the steering column.\\n\\n05/2012 to 07/2012\\nManufacturing Engineering Intern Company Name\\n\\nAnalyzed automation, process parameters, different equipment to shape and control the profile of chips and Manufacturing process of Hot\\nStrip Coil.\\nRe-designed the existing shop floor to improve space utilization, increase material flow, optimize labor and reduce holding costs by 5% and\\nimproved space utilization by 20%.\\nPerformed statistical analysis on historical data of the operating parameters using SPC and DOE's to identify significant factors contributing\\nto process deviation and affecting the cold crushing strength of the pellet.\\nGenerated Bill of Materials and calculated overall manufacturing cost.\", 'Education and Training\\nMay 2017\\nMaster\\'s : Mechanical & Aerospace Engineering Illinois Institute of Technology (IIT) ï¼\\u200b City , State Mechanical & Aerospace Engineering 3.5/4.0\\nAdvanced CAD/CAM, Engineering Analysis, Finite Element Analysis, Advanced Manufacturing\\nMay 2014\\nBachelor of Technology : Mechanical Engineering Narsee Monjee Institute of Management Studies ï¼\\u200b City India Mechanical Engineering 3.19/4.0\\nWork History\\nCompany Name\\nCertifications\\nAutodesk Certified Professional in Autodesk Inventor Professional Software. (License # 00313355) *Autodesk Certified Associate in AutoCAD\\nSoftware. (License # 00296190)\\nPublications\\nParekh R., Chaudhary R., Ingle A. (PhD), \"Reliability of Dissimilar Metal Joints using Fusion Welding: A Review\" presented at the International\\nConference on Machine learning, Electrical and Mechanical Engineering (ICMLEME\\'2014), Dubai (UAE)\\nSkills\\n3D, ANSYS, AutoCAD, automation, Automotive, CAD/CAM, CAD, CATIA, Dec, Engineering Analysis, lathe, Manufacturing process,\\n\\n\\x0cMaterials, material selection, Oil, Optimization, pick, prototyping, Robotic, safety, simulation, SolidWorks, SPC, statistical analysis, welding'], 'es/finance.pdf': [\"DIRECTOR OF FINANCE\\nProfessional Summary\\nProgressive financial and managerial experience in not-for-profit and for-profit organizations. Primary financial contact with Board of Directors\\npresenting financial and statistical reports to members with varying degrees of financial knowledge. Accountable for financial management of $15M\\nnot-for-profit health center with responsibility of financial reporting, investment reporting, budget preparation in collaboration with Senior\\nManagement, staff supervision and coaching, and financial systems. Comprehensive expertise with non-profit organizations with multiple programs\\nand cost centers. Experienced with fund accounting and reporting requirements based on government regulations, contractual language, and donor\\nrestrictions. Preparation and explanation of net assets summarized by unrestricted, temporarily restricted, and permanently restricted. Prepare\\nreporting and summarization of ongoing Capital Campaign. Extensive experience with relevant financial software applications including conversions\\nand upgrades. Currently working with Blackbaud Financial Edge and Raiser's Edge.\\nSkills\\nAccounting, computerized accounting, general accounting, accounts payable, accounts receivable, trial balance, banking, benefits, billing, budgets,\\nBudget, Cancer, cash management, closing, coaching, contracts, Client, customer service, decision making, documentation, Senior Management,\\nfiling, Finance, Financial, financial analysis, financial audits, financial statements, Prepare financial statements, funds, general ledger, grants, Human\\nResource, Insurance, interpretation, investments, legal, Director, meetings, mentoring, Excel, Microsoft Office, Office, negotiating, operating\\nsystem, payroll, payroll processing, performance analysis, Personnel, personnel management, policies, Primary Care, profit, project management,\\nQuickBooks, reconciling, reporting, securities, staffing, strategic, Strategic Planning, supervising, tax returns, treasury, valuation, vision\\nCore Qualifications\\nProficient with various computerized accounting software, Microsoft Office, and investment software. .\\nExperience\\nDIRECTOR OF FINANCE \\nJanuary 2012 to Current Company Name ï¼\\u200b City , State\\n\\nPrepare financial statements for presentation to the Treasurer of the Board of Directors, Finance Committee, and senior staff.\\nLiaison to external auditors.\\nPrepare and analyze audit schedules.\\nReview of audited financial statements and 990 Information return for accuracy and reconciliation to the trial balance.\\nResponsible for reporting of endowment activity and reconciling of investment manager statements and general ledger.\\nMaintain reports to include earnings and expense documentation related to board designated, temporarily, and permanently restricted funds\\nin accordance with donor restrictions.\\nPrepare reports as needed for the Investment Committee of the Board of Directors.\\nPrepare and analyze general ledger, including cost centers, in compliance with Federal, State and grant funding requirements.\\nComplete fiscal reports required for grant funding contracts.\\nPreparation and analysis of annual budget, working closely with Senior Management and department directors, for presentation to the\\nExecutive and Finance Committees of the Board of Directors.\\nResponsible for the Human Resource function for the Society, including payroll and benefits, as well as compliance with Federal and State\\nLabor Department rulings.\\nSupervise Finance Office including training and mentoring of entry level staff.\\nMonitor Personnel and Finance Office policies and procedures.\\n\\nCHIEF FINANCIAL OFFICER \\nJanuary 2009 to January 2012 Company Name ï¼\\u200b City , State\", 'Prepared and analyzed the financial statements for monthly presentation to Senior Management, the Finance Committee of the Board of\\nDirectors, and the Board of Directors.\\nMonitored overall financial compliance and reporting with Federal, State, Local agencies.\\nCreated and explained various models for annual operating and capital budgets based on changing scenarios from Federal, State, Local and\\nprivate donors.\\nCoordination of budget details with Senior Managers.\\nPresented budget for approval by the Board of Directors.\\nCreated State of New Hampshire budget for funding for Primary Care and Breast and Cervical Cancer Program.\\nResponsible for completion and reporting of State Work Plan.\\nKey point person for all audits including A133 audit, State of New Hampshire and City of Manchester HUD technical visits.\\nAs a member of Senior Management, reporting directly to the President/CEO, assisted with the development of annual goals, objectives\\nand long-term planning, as well as the general administration of the Center.\\nCreated and submitted grant requests and grant reports for Federal ARRA and Earmark grants using the Federal Electronic Handbook and\\nother Federal portals.\\nCompleted calculations and requests for Federal drawdowns using Federal portal.\\nResponsible for the development, implementation and monitoring of all financial systems, records and controls encompassing patient\\nreceivables, accounts payable, general accounting, grants and contracts, and payroll.\\nProvided financial analysis and participated in decision making of insurance coverage, fringe benefits, and compensation plans.\\nSupervised, trained, and coached patient account staff and accounting staff.\\nCreated and reviewed financial internal control policies especially for cash, patient eligibility for discounts, and Federal, State and City\\nprogram income limits.\\nNegotiated and monitored all insurance policies, including malpractice, property, and workers compensation.\\n\\n\\x0cResponsible for cash management and banking authorization.\\n\\nDIRECTOR OF FINANCE \\nJanuary 2007 to January 2009 Company Name ï¼\\u200b City , State\\n\\nPrepared and analyzed general ledger, including cost centers, in compliance with Federal, State and grant funding requirements.\\nPrepared financial statements for presentation to the Finance Committee of the Board of Directors.\\nCompleted fiscal reports required for grant funding contracts including DHHS and HUD.\\nCoordinated all financial audits, including State audit.\\nPrepared and analyzed audit schedules.\\nLiaison to external auditors Preparation and analysis of budget components for DHHS.\\nSupervised Business Office and Accounting staff in this newly combined position of Director of Finance, including coaching, training, and\\nreorganization.\\nResponsible for supervising the billing process with both electronic and paper claims, with Medicaid, Medicare, and managed care\\ninsurance companies.\\nReviewed accounts receivable aging including approval of adjustments and write offs.\\nReview and approval of Client Fee Assessment and financial assistance discounts.\\nMember of the Managed Care Insurance Team responsible for negotiating rates and contracts.\\nAlso responsible for resolution to billing issues and contract interpretation.\\n\\nTREASURY/INVESTMENT ANALYST \\nJanuary 2007 Company Name ï¼\\u200b City , State', \"Prepared monthly endowment investment performance and allocation report for Investment Committee and Chief Financial Officer using\\nBNY Mellon Analytical Solutions and Excel worksheets.\\nReconciled custodial statements to general ledger and investment manager statements.\\nIn accordance with Investment Committee directives, worked with BNY Mellon to set up new investment accounts for custody and\\nperformance analysis.\\nAssisted with the preparation of 990T and accompanying schedules including reportable transactions and foreign entities.\\nReviewed for filing the planned giving tax returns including 5227, 1041A and 1099Rs.\\nInitiated the compilation of procedures and monthly closing checklists.\\nPerformed various treasury functions including wire transfers and check signing.\\n\\nDIRECTOR OF FINANCE AND ADMINISTRATION \\nJanuary 2000 to January 2007 Company Name ï¼\\u200b City , State\\n\\nProvided financial analysis of investments of $72M including the reconciliation of trust operating system to investment managers, valuation of\\ncommon investment funds, and reconciliation of customer accounts.\\nResponsible for the daily operation of SunGard Charlotte system.\\nPrepared and analyzed monthly, consolidated financial statements that included investment servicing and not-for-profit components of the\\nFoundation.\\nAs senior management, worked with the Executive Committee, President, and Director of Development to coordinate and implement the\\nmission of the organization.\\nKey contact person for the Budget and Audit Committee and a member of the Investment Committee.\\nAs part of the Strategic Planning Task Force, collaborated with Board members to create the Foundation's mission, vision, and strategic\\nplan.\\nDeveloped operational budget for approval by the Board of Directors and reported explanation for variances on a monthly basis.\\nSupervised and coached the Operations Team and Loan Officers to work as a cohesive unit that provided attentive customer service to\\nchurch trustees.\\nFacilitated weekly departmental meetings.\\nImproved the overall accuracy of the reporting process by documenting and monitoring procedures, creating and implementing internal\\ncontrols, and improving the investment reconciliation process.\\nDecreased monthly closing process by 14 days.\\nCoordinated interdepartmental projects from inception to implementation to assessment, using project management tools.\\nSupervised teams to identify the goals of the project, the tasks to be performed, and the resources needed.\\nResponsible for the treasury function of the Foundation.\\nMonitored bank cash and provided funds management including securities brokerage services.\\nEstablished and maintained wire transfer, ACH and electronic transfer process.\\nCoordinated the audit process and was liaison to external auditors.\\nPrepared required schedule for the auditors as well as the consolidated financial statements and footnotes.\\nPrepared tax returns for charitable remainderman unitrusts and pooled income fund and IRS Form 1099R for gift annuitants.\\nProvided personnel management including legal issues, benefit reporting and staffing.\\nResearched, negotiated, and implemented fringe benefit programs.\\nPerformed payroll processing using QuickBooks.\\n\\nEducation\\n\\n\\x0cMasters : Business Administration SOUTHERN NEW HAMPSHIRE UNIVERSITY (New Hampshire College Graduate School of Business)\\nBusiness Administration\\nB.S : Office Administration Accounting SOUTHERN NEW HAMPSHIRE UNIVERSITY (New Hampshire College) GPA: with Honors with\\nHonors Office Administration Accounting\\nWork History\\nCompany Name\"], 'es/fitness.pdf': ['RN/RN TEAM LEAD\\nExecutive Profile\\nI am a self-motivated and patient focused nurse executive with a strong history of progressive leadership. I have worked in health care for the past\\n12 years and in nursing for the past 9. I have been honored to quickly and progressively build upon my experiences to assume key leadership\\npositions. These opportunities have allowed me to lead the charge on increased facility efficiency and cost savings, while ensuring stellar quality\\nprogramming with a focus on infection control, risk management, and quality improvement. Under my direction, organizational improvements in\\nthose areas have flourished while experiencing record surgical volume and implementation of new and innovative procedures. Change under\\npressure has been staple in my professional life, and an aspect that has quickly molded me in to a quick-witted yet careful professional; always\\nputting the patient first, but never losing sight of strategic goals to ensure organizational success.\\nSkill Highlights\\n\\nCore Accomplishments\\n\\nCEO Service Award, 2009\\nSpree Award Winner, 2011\\nMember of Sigma Theta Tau International - Nursing Honor Society', \"Professional Experience\\nRN/RN Team Lead \\nSeptember 2010 to Current Company Name ï¼\\u200b City , State * Providing nursing leadership and ASC operations guidance to 7 facilities nation-\\nwide including staffing metric and OR efficiency, accreditation preparation, state regulation compliance, infection control, risk management, patient\\nsafety, peer review, life safety, governing body and medical quality assurance reporting, quality assurance and performance improvement studies\\nand benchmarking * Successfully lead initial DOH licensure for ASCs in 3 states in a tight time frame; this equated to a total of 5 successful\\nDOH/Pharmacy surveys and 1 successful AAAHC reaccreditation for 4 separate facilities in 70 days - all deficiency free * Development of\\ninternal enterprise reporting system for remote auditing of Director of Nursing compliance to State and accreditation requirements * Successful\\ndevelopment and implementation of an enterprise quality improvement and assessment calendar for nursing leadership at all enterprise sites; also\\nadopted for other departments * Headlined improvements to the Risk Management and Quality Assurance programs to include streamlined\\nenterprise wide reporting and streamlined QI/QA, life safety, and compliance infrastructure * Improved patient outcome reporting within the\\norganization by developing a Risk Management communication process that greatly improved capture by integrating Clinic and Patient Services\\nreporting, not previously captured in the organization * Lead the organization in successful initial and re-accreditation for AAAHC in all four sites;\\nnow pursuing preparation for 3 new facilities * Development and management of policies and procedures of all nursing and ASC processes *\\nDevelopment of improved staffing metrics for nursing and ASC staff to ensure optimized efficiency while ensuring staff retention * Development of\\nadditional Nursing and ASC leadership positions to create a progressive leadership ladder to accommodate enterprise growth * Facilitation of\\nenterprise studies, benchmarking, and process improvement * Presenter on a national level at AORN, Becker's, and WASCA, on infection\\ncontrol, quality improvement/quality assessments, and patient satisfaction, and successful spine surgery integration in an ASC * Key member of\\nenterprise expansion team * Member of the enterprise team for improvement, integration, and training of the EMR system * Facilitator for\\nFormulary, and Medical Device and Instrumentation Committees * Facilitator for organization of MQAC and GB meetings at an enterprise level *\\nDeveloped and facilitated a review committee for new and innovative procedures to ensure patient safety and efficient integration of new\\nprocedures and devices * Facilitated changes to the patient selection screening process to safely accommodate increased surgical and patient\\nacuity * Management of a 2 OR ASC that saw a 50% increase in volume under my lead * Directed all nursing, surgical tech, and medical assistant\\nstaff while developing successful partnerships with Anesthesia, Surgeon, Clinic, and all other ancillary staff to ensure optimized efficiency and\\npatient safety * Developed thorough knowledge and implementation of State regulation and reporting * Development of a functional patient safety\\nplan and committee with a focus on infection control * Lead the team through two successful State DOH surveys * Lead numerous process and\\nquality improvement initiatives including improved staffing metrics, patient safety protocol, staff development and education, and revised processes\\nfor MRSA surveillance * Managed all QI/QA, Risk Management, patient safety, lifesafety, infection control, and all other surgical needs necessary\\nto maintain AAAHC and DOH compliance to ensure optimum patient outcomes * Under my lead the PA ASC became the most efficient facility in\", 'the organization (out of four facilities), with the highest revenue per case and lowest overhead cost while maintaining stellar patient satisfaction\\nscores; nursing consistently reporting 98% or better in patient satisfaction * Staff RN in all areas of the ASC including preop, pacu, and the OR\\nwith float to diagnostics as needed * Team lead responsibilities included staff scheduling and assistance in QA/QI and patient safety initiatives *\\nPharmacy and radiation safety officer duties * Filled in as DON when Director was off-site * Preceptor for new nursing staff * EMR super user\\nCVICU RN w/Med-Surg ICU Float \\nAugust 2006 to December 2008 Company Name ï¼\\u200b City , State * High acuity step down unit with 1:2 nurse to patient ratio * Post-surgical\\ntransplant patients directly from PACU * Post-surgical cancer reconstruction patients directly from PACU * MI, post-cath, chest pain, arrhythmia\\nmanagement, AAA repair, GI bleed, and stroke * Medication drips for blood pressure titration, insulin drips, heparin, angina, alcohol/drug\\nwithdrawal * Respiratory distress patients up to ventilation, acute pneumonia, COPD * Lumbar drains, fresh neuro-surgery, fresh GI surgery *\\nCode team participation * Central line use and care * Arterial line, CVP, ICP monitoring and line care * Cardiovascular intensive care\\ninterventions * Ventilation and trach care * Treatment for acute MI * Post-surgical cardiovascular care including bypass, cath, and other intensive\\ncardiac care patients * Conscious sedation, insulin, blood pressure, and various other medication drips\\nAquatic & Fitness Director \\nMarch 2003 to August 2004 Company Name ï¼\\u200b City , State', 'Managed and facilitated over 38 fitness and aquatic programs and 28 direct reports * Assisted in the development of a proposal for\\nmedically-based wellness that aided in a partnership with a local hospital, funding a 1.8 million dollar expansion * Head swim coach for the\\nRapids Swim Team * First Aid/CPR & Lifeguard Instructor\\n\\nExercise Physiologist \\n\\n\\x0cAugust 2002 to March 2003 Company Name ï¼\\u200b City , State * Developed, implemented and progressed cardiac rehab exercise programs and\\ncare * Assisted in cardiac rehabilitation education * Developed and implemented a personal training program * Assisted in corporate wellness\\nprogramming and health fairs\\nEducation\\nMaster of Science : Nursing/Master of Business Administration University of Phoenix Academic Achievement Master of Science in\\nNursing/Master of Business Administration- Healthcare University of Phoenix\\nBachelor of Science : Nursing Valparaiso University Bachelor of Science in Nursing Valparaiso University\\nBachelor of Science : Exercise Science Ball State University Bachelor of Science in Exercise Science Ball State University\\nCertifications/Awards/Memberships â–ª RN licenses in AZ, PA, FL, MO â–ª Licensed Healthcare Risk Manager â–ª BLS/ACLS â–ª CEO\\nService Award, 2009\\nCertifications\\nLicensed Healthcare Risk Manager RN CPR BLS ACLS\\nAffiliations\\nof the enterprise team for improvement, integration, and training of the EMR system\\nSkills\\n\\nAsc, Qa, Emr, Pharmacy, Infection Control, Metrics, Risk Management, Satisfaction, Staffing, Trading, Training, Auditing, Instrumentation,\\nIntegration, Integrator, Medical Device, Operations, Process Improvement, Quality Assurance, Rn, Icu, Critical Care, Icp, Titration, Radiation\\nSafety, Rn/, Scheduling, Team Lead, Cpr, Instructor, Million, Increase, Medical Assistant, Cardiac, Cardiovascular, Model-view-presenter, Mvp,\\nHealthcare, Acls, Award'], 'es/healthcare.pdf': [\"PHARMACEUTICAL SALES REPRESENTATIVE, WOMEN'S HEALTHCARE SPECIALIST\\nProfessional Summary\\nSkills\\n\\nPROVEN ADMINISTRATIVE HIGHLY ORGANIZED\\nLEADERSHIP SUPPORT EVENT PLANNING\\nENTREPRENEURIAL CONFLICT PUBLIC SPEAKING\\nMINDSET RESOLUTION PROJECT STAFFING\\nTEAM LEADERSHIP REPORTING AND\\nSELF DIRECTED DOCUMENTATION\\nOUTBOUND CALLING PROSPECTING\\nAccount Management\\nAcquisitions\\nADMINISTRATIVE\\nContracts\\nClientele\\nCustomer satisfaction\\nCustomer\\nSsatisfaction\\nDecision making\\n\\nDOCUMENTATION\\nEVENT PLANNING\\nInventory\\nTEAM LEADERSHIP\\nLEADERSHIP\\nDirector\\nManaging\\nMarketing plans\\nMarketing\\nMarket\\nMergers\\nCommunicator\\nOrganizational skills\\nProblem-solving\\nPUBLIC SPEAKING\\nRecruitment\\nRelationship-building\\nREPORTING\\nSales\\nSTAFFING\\nStrategic\\nStrategic planning\\nTeam player\\n\\nWork History\\nPHARMACEUTICAL SALES REPRESENTATIVE, Women's Healthcare Specialist Company Name â€“ City , State \\n\\nDoubled membership in an environment where acquisitions and mergers by National chain accounts directly affected potential membership\\nrecruitment.\\nInvestigated and resolved customer inquiries and complaints in a timely and empathetic manner.\\nResponded to all customer inquiries thoroughly and professionally.\\nProvided an elevated customer experience to generate a loyal clientele Resolved all customer complaints in a professional manner while\\nprioritizing customer satisfaction.\\nSet up and explained new membership contracts.\\nEffectively communicated with and supported sales, marketing and administrative teams on a daily basis.\\nAssisted in creating pre-season marketing plans to support department and divisional Strategies.\\nCommunicated with vendors regarding backorder availability, future inventory and special orders.\\nDeveloped Account Management Program that focused on maintaining existing account base while using referral and reference systems to\\nattract new accounts.\\nOrganized new member marketing program including identifying potential target accounts, developing high touch outreach plans, incentive\\npackages, and growth Objectives.\\nSuccessfully managed acquisition of a New England Association and increased membership by 50% within the first two years.\\nAsked appropriate open-ended questions to discover prospects' needs and requirements.\\nRepresentative of the year 2003 Successfully launched new products and rapidly gained market share.\\nMaintained an extensive knowledge of competitors, their offerings and their presence in assigned territory.\\nServiced accounts on a regular basis to propose new products or services and maximize revenue.\\nIdentified and qualified accounts to assess market potential.\\nConsistently hit and exceeded quarterly sales goals.\\nIdentified and analyzed key competitors and related products.\\nContacted customers as soon as issues arose to immediately find resolution before the problems escalated.\\nCommunicated regularly with territory, regional and strategic managers for daily support and strategic planning for accounts.\\nSuccessfully sold brand name products, while competing with the generic medicine.\\nCommunicated regularly with territory, regional and strategic managers for daily support and strategic planning for accounts.\\nVisited customer locations to determine needs, set up contracts and provide training.\\n\\nEducation\\nBachelor of Arts : Business Administration And Public Relations , 1995 \\nHeidelberg College - City , State \\nWork History\\nPHARMACEUTICAL SALES REPRESENTATIVE, Women's Healthcare Specialist , Company Name â€“ City , State \\n\\nDoubled membership in an environment where acquisitions and mergers by National chain accounts directly affected potential membership\", \"recruitment.\\nInvestigated and resolved customer inquiries and complaints in a timely and empathetic manner.\\nResponded to all customer inquiries thoroughly and professionally.\\nProvided an elevated customer experience to generate a loyal clientele Resolved all customer complaints in a professional manner while\\nprioritizing customer satisfaction.\\nSet up and explained new membership contracts.\\nEffectively communicated with and supported sales, marketing and administrative teams on a daily basis.\\nAssisted in creating pre-season marketing plans to support department and divisional Strategies.\\nCommunicated with vendors regarding backorder availability, future inventory and special orders.\\nDeveloped Account Management Program that focused on maintaining existing account base while using referral and reference systems to\\nattract new accounts.\\nOrganized new member marketing program including identifying potential target accounts, developing high touch outreach plans, incentive\\npackages, and growth Objectives.\\nSuccessfully managed acquisition of a New England Association and increased membership by 50% within the first two years.\\nAsked appropriate open-ended questions to discover prospects' needs and requirements.\\nRepresentative of the year 2003 Successfully launched new products and rapidly gained market share.\\nMaintained an extensive knowledge of competitors, their offerings and their presence in assigned territory.\\nServiced accounts on a regular basis to propose new products or services and maximize revenue.\\nIdentified and qualified accounts to assess market potential.\\nConsistently hit and exceeded quarterly sales goals.\\nIdentified and analyzed key competitors and related products.\\nContacted customers as soon as issues arose to immediately find resolution before the problems escalated.\\nCommunicated regularly with territory, regional and strategic managers for daily support and strategic planning for accounts.\\nSuccessfully sold brand name products, while competing with the generic medicine.\\nCommunicated regularly with territory, regional and strategic managers for daily support and strategic planning for accounts.\\nVisited customer locations to determine needs, set up contracts and provide training.\\n\\nCertifications\\nPROVEN ADMINISTRATIVE HIGHLY ORGANIZED LEADERSHIP SUPPORT EVENT PLANNING ENTREPRENEURIAL\\nCONFLICT PUBLIC SPEAKING MINDSET RESOLUTION PROJECT STAFFING TEAM LEADERSHIP REPORTING AND SELF\\nDIRECTED DOCUMENTATION OUTBOUND CALLING PROSPECTING\\nSkills\\n\\nAccount Management, acquisitions, ADMINISTRATIVE, contracts, clientele, customer satisfaction, customer\\nSsatisfaction, decision making, DOCUMENTATION, EVENT PLANNING, inventory, TEAM LEADERSHIP, LEADERSHIP, Director,\\nmanaging, marketing plans, marketing, market, mergers, communicator, organizational skills, problem-solving, PUBLIC SPEAKING, recruitment,\\nrelationship-building, REPORTING, Sales, STAFFING, strategic, strategic planning, team player\\nAdditional Information\\n\\nExperienced, multi-faceted business professional with ability to quickly generate business results. Seeking a position with Abbott for the\\nTerritory Sales Position in Tacoma,WA.\\nAdept at attending job related conventions and managing special company events to attract candidates. Top-notch skills in relationship-\\nbuilding, problem-solving and decision making. Open and clear communicator with collaborative and hardworking style. Membership\\nEnrollment Director excelling at customer satisfaction and retention. Flexible and hardworking in deadline driven environments. Energetic\\nteam player with top launch organizational skills.\\nIntensive 3 Week training program in Radnor, PA\"], 'es/hr.pdf': ['HR MANAGER\\nSummary\\nHuman Resources Manager with practical understanding of business needs. Areas of expertise include conflict management and employee training.\\nHuman Resources Generalist who promotes a team-oriented and open-door environment that is conducive to a successful staff. Offering\\n[Number] years of experience and knowledge in training, orientation and incentive program creation. [level of management] -level ma Human\\nResource executive who works with other executives to translate business strategies into HR actions that drive business results. nager with [years\\nof experience] years of managerial experience. Strong strategic-planning and people-management skills.\\nHighlights\\n\\nCompensation/payroll\\nRegulatory compliance\\nStaff development\\nCompensation/benefits administration\\nPolicy/program development\\nSalary structure/compensation analysis\\n\\nPerformance management strategies\\nInterviewing expertise\\nStaffing and recruiting professional\\nHiring and retention\\nTraining and development\\nEmployee relations\\n\\nExperience\\nCompany Name City , State HR Manager 04/2016 to Current\\n\\nSunningdale Tech (Thailand) Co.,Ltd. .\\nType of business : Tooling and Plastic Injection.\\n\\nCompany Name City , State HR & Admin.Manager 09/2013 to 04/2015\\n\\nResponsibility : Report directly to CEO Transformed HR from administrative role to strategic business partner, including working with\\nmanagement level to drive key business and implement performance initiative, conducted extensive analysis of existing HR Organization and\\nDevelopment business plan to up dated all policies, procedure, service, program and operation.\\nDirect HR function including recruiting, hiring practice, benefit and Compensation.\\nDevelop standardized organizational model to clarify authority and responsibilities.\\nLearning and development as providing guidance on learning and development for manager and their team as well as set up training system,\\nimplementing and identify areas that need to attention and improvement.\\nEnsure legal compliance by monitoring and implementing applicable labor law requirements, conducting investigation, maintaining record,\\nrepresenting the organization at hearing.\\nDeal with complex disciplinary/grievance and HR issues, using HR and company knowledge evidencing appropriate decision making skills\\nOverseeing and manage all administrative activities of the company, ensuring that all work processes are maximized for efficiency.\\nSekisui s - lec ( Thailand ) Co., Ltd.\\nESIE, Rayong ) Type of business : PVB Interlayer Film for Laminated Glass.\\n\\nCompany Name City , State General Administration Asst. Chief 11/2002 to 09/2013', \"One year break for living abroad ) Promoted to fulfill a broad range of HR functions, including Purchasing and General Administration to\\nensuring that meet the company's goal Human Resource Handle and Played a key role in ensuring the successful of a full spectrum of all HR\\nOperation system and program :- Recruitment and Selection ; Managed recruitment process in an effective and efficient manner Maintain\\nup-to-date recruitment progress and implemented a reporting process on manpower concerns.\\nCoordinates, negotiates and liaises with employment and advertising agent on service fee, advertisement recruitment and interview\\nschedules.\\nConducts interview up to executive levels and arranges interviews for management levels.\\nManaging orientation program for employee to the business and culture Training and Development ; Identify key skills, specialty skills and\\npropose training needs accordingly Responsible for developing and maintaining standard, developing and meeting objectives, continuous\\nimprovement of department operations, developing strategic plans to meet company goals, and managing assigned staff.\\nCompensation and benefits ; Monitor and alert division manager to any variance of any concerns issues.\\nCompile all data needed for the annual salary review, annual performance appraisal analysis and promotion, annual bonus.\\nImprove and Implemented a performance measurement and development.\\nSupervise and manage all HR function generalist and other job as assign by Division Manager Purchasing Supervise and manage all\\npurchasing function both Oversea & Domestic and other concerns.\\nSupervise and lead the procurement group in all phases.\\nPrepare purchase requisitions, initiative to approve and issues purchase orders in accordance with company policy and negotiated terms and\\nconditions.\\nOther job as assign by Division Manager General Administration Managerial Overseeing all administrative activities of the company,\\nensuring that all work processes are maximized for efficiency.\\nContributes to team effort by accomplishing related results as needed.\\nTo supervise general administrative support and serve as a general resource for all direct inquiries from a wide variety requestors Planning\\nand scheduling projects and ensuring timely completion Work closely to General Administration Manager and perform executive\\nadministrative tasks with supporting all the requestors from both internal and external Coordinating workflow and maintaining a productive\\nwork environment Develop and recommend administrative processes and procedures to assure efficiency Work closely with the\\nAdministrative Manager to coordinate efforts towards meeting deadlines and clarifying priorities Establish processes and schedules to ensure\\nall required submissions are made accurately and in a timely manner Respond to and initiate inquiries (questions regarding purchasing,\\n\\n\\x0cpersonnel, facilities, administration, specialized programs, etc.).\\nExplain policies, answer questions, and independently resolve problems wheneverfeasible.\\n\\nCompany Name General Manager and HR Director\", \"As the HR Manager, will take responsibility for conceptualizing and spearheading new HR initiatives, development and management of an\\neffective and responsive human resource functions, as well as leading the HR team in the full spectrum of human resource activities as ;\\nFormulate and implement human resource policies and procedures in line with the company's business goals Manage compensation and staff\\nbenefits programmes including leave management Develop and implement performance appraisal and performance management systems for\\nall levels of staff in line with the company objectives Manage recruitment and selection activities to meet the manpower requirements of all\\nthe departments Assess short and long term training needs as well as plan and direct training and development programmes to raise the\\ncompetency of employees Oversee payroll administration and submit all necessary statutory reports to the relevant authorities Handle\\ngrievances and disciplinary matters Plan and carry out company events to foster harmonious working environment Conduct exit interviews,\\nanalyse turnover determinants and implement appropriate corrective actions Overseeing and manage all administrative activities of the\\ncompany, ensuring that all work processes are maximized for efficiency.\\nType of business : Steel and Metal Worksheet.\\n\\nEducation\\nMaster of Public Administration 2012 National Institute of Development Administration (NIDA)\\nComprehensive English Course under Cultural Exchange Program 2007 City , State , USA\\nBachelor of Education 2002 Chulalongkorn University\\nAccomplishments\\n\\nComplete ongoing training in the areas of :- Human Resource Management (PM and APM Certification Course) Analytical Problem Solving\\nand Prevention * Tax ISO/TS 16949 & ISO 14001 requirements * Leadership Competency and Work Performance Appraisal * Labor\\nLaw Balance Scorecard and KPI * Happy Work Place Welfare and Salary Structure * Recruitment Compensation and Benefit Corrective\\nand Preventive Action By 8D report and Why Why Analysis Technique Safety Supervisor Level Software Expertise Efficient in MS Office\\npackage and surfing internet.\\n\\nSkills\\nAdministrative, administrative support, advertising, as set, benefits, business plan, clarify, Good communication skills, Interpersonal Skills,\\ncontinuous improvement, decision making, English, Film, hiring, Human Resource, HR, law, legal compliance, Managerial, Managing, Exchange,\\norganizational, payroll, performance appraisal, performance management, personnel, policies, processes, procurement, progress, promotion,\\nspeaking, purchase requisitions, Purchasing, Recruitment, recruiting, reporting, scheduling, strategic, strategic plans, Type, workflow\"], 'es/it.pdf': [\"IT MANAGEMENT\\nCareer Overview\\nDetail-oriented professional with extensive Information Technology experience in hardware and software troubleshooting/management. With\\nadditional experience in networking, task automation, server technologies, digital graphic design, client + server side programming technologies and\\npopular industry software packages including Microsoft Office and Adobe Creative Suite.\\nQualifications\\nEducation and certificates Troubleshooting q CompTIA A+ certified (2012) q Advanced troubleshooting q CompTIA Net+ certification class q\\nVirus and spyware removal q MCSA certification class q Computer diagnostics and repair q Web Development I + II class q Gaming console\\nrepair and q Digital media manipulation class modification q Java programming class q Mobile device repair q Hardware support and\\nProgramming and Web troubleshooting q HTML - HTML5 q Optimizing and performance tuning q XML q Audio and video technologies q\\nCSS - CSS3 q Medical technology installation and q JavaScript troubleshooting q Command Line q Java Management q ActionScript q\\nHardware and software upgrade q PHP planning q Database servers q Documentation q Android mobile application q Organization\\ndevelopment q Multi-project priority management q Content Management Systems (CMS) Operating Systems q Website enhancement q\\nWindows 95 - 8 q Storyboarding q Windows Server 2003 - 8 q Search Engine Optimization (SEO) q Windows Phone 7.0 - 8.0 q Social\\nMedia and marketing q Multiple Linux Distributions q Ubuntu 10.04 LTS - 12.10 Networking q Android 1.0 - 4.0.4 q Cloud computing q Mac\\nOS X v10.0 - v10.8 q Server management q IOS 1.0 - 6.1 q Active directory q Remote connection technologies Programs q Proficiency in\\nnumerous protocols q Microsoft Office 2010 including TCP/IP q Small business management q Information security software (client and server)\\nq Wireless technologies q Adobe Creative Suite 5 q Telephony technologies q Wiring and Network engineering Graphics and Media q Photo\\nenhancing Electronics q Brochure and newsletter formatting q Electronic circuits and components q Audio and video editing q Circuit diagrams\\nand Prototyping q Logo and business card q Logic, electronic and computational algorithms q Electromagnetisms and waves q Quantum particle\\nmechanics q As well as many miscellaneous IT q Energy and electrical alternatives skills. (Solar)\\nAccomplishments\\n\\nRebuilt a client's website from the ground up and increased monthly hits from 3422 to 40884 in a matter of a few months.\\nDesigned, priced, built, and installed a complete information system upgrade for a client; including networking devices, wiring, client\\ncomputers, server and software.\\nDiagrammed, prototyped, and assembled a portable USB phone charger outputting optimal voltage and amperage, with circuits and\\ncomponents small enough to all fit in an Altoids tin.\\nIt allows next to unlimited portable phone charging due to the device itself being recharged by a small solar panel on the top.\\nAutomated and streamlined daily office tasks for client using Batch Scripting.\\nTroubleshot medical technology including X-ray machines and medical industry client and server software (Eaglesoft).\\nInformation Technology project management experience.\\nProgrammed a cloud storage website allowing a client access to a shared home network drive from any browser, anywhere.\\nIt includes security login, uploading and downloading.\\n\\nWork Experience\\nIT management \\nMarch 2012 to November 2012 Company Name ï¼\\u200b City , State\\n\\nIn charge of planning, budgeting, and executing all IT projects.In addition to office troubleshooting, building/managing the company website\\nand designing/updating the business's electronic newsletter.\\n\\nInformation Technology Consultant \\nJuly 2011 to February 2012 Company Name ï¼\\u200b State\\n\\nContracted IT consulting work from client computer repair to network expansion.\\n\\nMay 2011 to July 2011 Company Name ï¼\\u200b City , State\", 'In charge of company website management, social media administration, as well as assisting in administrative tasks.\\n\\nEducation and Training\\nAssociate of Science : Information Technology , 2014 Lyons Township ï¼\\u200b City , State , United States Information Technology\\nHigh School Diploma General Education\\nCoursework in computer science all 4 years GPA: Diamond Achievement Academic award * Honor Roll Diamond Achievement Academic\\naward * Honor Roll\\nSkills\\nA+ certified, ActionScript, Active directory, administrative, Adobe Creative Suite 5, Photo, Audio, Brochure, budgeting, business management,\\nclient and server, CMS, Hardware, computer repair, consulting, Content Management, CSS, CSS3, client, Database, designing, Documentation,\\nElectronics, XML, Graphics, Hardware support, HTML, HTML5, PHP, Information security, Java, Java programming, JavaScript, Linux, Logic,\\nLogo, Mac OS, managing, marketing, Medical technology, Microsoft Office, office, Windows, Windows 95, Network engineering, network,\\nNetworking, newsletter, Operating Systems, Organization development, Programming, protocols, Prototyping, Search Engine Optimization,\\nservers, Storyboarding, TCP/IP, Telephony, Phone 7.0, Troubleshooting, upgrade, video, video editing, Web Development I, Website, website\\nmanagement, Windows Server, Wiring'], 'es/pr.pdf': [\"COMMUNICATIONS COORDINATOR\\nSummary\\n\\nCreative and highly-motivated Communications and Marketing professional with experience creating engaging and interesting work that achieves\\nresults.\\n\\nHighlights\\n\\nAdobe Photoshop, InDesign, Illustrator,\\nExperience with mobile applications,\\nMicrosoft Office Suite\\n\\nConstant Contact and Mailchimp\\nEtapestry\\n\\nAccomplishments\\n\\n2015 Folio Magazine: Eddie Award Finalist - Association / Non-Profit (B-to-B) â€“ Single Article â€“ Less than 6 Issues [VPP\\nParticipants' Association's magazineâ€”The Leader]\\nRaised circulation of organization's magazine in one year by more than 2,500 issues (VPP Participants' Association)\\nPromoted and helped execute fundraising benefit/auction and concert; raised over $9,000. (Susquehanna Life Magazine)\\n\\nWork History\\nCompany Name\\nExperience\\nCommunications Coordinator 10/2014 to Current Company Name City , State\\n\\nAuthored articles on featured topics, current events and human interest stories that stimulated interest to increase readership of the\\norganization's magazine; increased circulation by more than 2,000.\\nManaged content and designed the layout and look of the company's conference mobile app Created webpage copy for newly designed\\nwebsite Wrote Ran the company's Facebook and Twitter Accounts.\\n\\nCommunications and Editorial Assistant 05/2014 to 09/2014 Company Name City , State\\n\\nCreated event listings, media lists and press releases for the magazine.\\nPromoted and helped execute fundraising benefit/auction and concert; raised over $9,000.\\nCustomer relations on phone and in the office.\\n\\nCommunications Intern 05/2013 to 08/2013 Company Name City , State\\n\\nCreated various forms of communication pieces including a survey, press release, newsletter articles, event invitation, spreadsheets of\\ncompeting organizations, etc.\\nCreated several web pages for company and improved the layout and organization of company's website.\\n\\nServer and Host 02/2011 to 08/2011 Company Name City , State\\n\\nStrengthened customer base and close relationships with patrons of restaurant.\\nProvided prompt service while taking orders, serving food and closing the check.\\nHelped clean and organize kitchen and restaurant.\\nHelped set up and serve parties and events of more than 100 people.\\nExperience and knowledge in fine dining.\\n\\nPublic Relations Volunteer 09/2012 to 12/2012 Company Name City , State\\n\\nMet with client throughout the semester to discuss their needs for strategic communications.\\nCreated various forms of public relations writing assignments for clientincluding pitch letters, news releases, fliers, fact sheets, feature stories,\\nmedia lists, and created script for public service announcement.\\n\\nPublic Relations Volunteer 09/2012 to 12/2012 Company Name City , State\\n\\nMet with head of Elon University Health and Human Performance department to create strategic communications for client.\\nCreated focus group questions, survey, and completed focus group with Elon students to measure students' beliefs and opinions about the\\ndepartment of Health/Human Performance.\\nCreated report of the research and presented findings of research to Department of Health/Human Performance.\\n\\nEducation\\nBachelor of Arts : Strategic Communications May 2014 Elon University City , State GPA: GPA: 3.71 Graduated Magna Cum Laude Dean's List\\nFall 2010, Spring 2011, Spring 2012, President's List Fall 2012, Spring 2013, Fall 2013; Spring 2014 Inducted into National Communications\\nAssociation, Lambda Pi Eta Inducted into National Social Science Honor Society, Pi Gamma Mu Inducted into the International Sociology Honor\\nSociety, Alpha Kappa Delta\\n\\nStrategic Communications GPA: 3.71 Graduated Magna Cum Laude Dean's List Fall 2010, Spring 2011, Spring 2012, President's List Fall 2012,\\n\\n\\x0cStrategic Communications GPA: 3.71 Graduated Magna Cum Laude Dean's List Fall 2010, Spring 2011, Spring 2012, President's List Fall 2012,\\nSpring 2013, Fall 2013; Spring 2014\\n\\nInducted into National Communications Association, Lambda Pi Eta\", 'Inducted into National Social Science Honor Society, Pi Gamma Mu\\n\\nInducted into the International Sociology Honor Society, Alpha Kappa Delta\\n\\nInterests\\nMember of Public Relations Student Society of America - \"1000 Thanks\" Program Contributor Received over 1500 thank-you cards from\\nuniversity community (Fall 2013) Completed service-learning work with nonprofit organization, Sustainable Alamance, helped plan and coordinate\\nan event that helped raise over $1,000. Volunteered with Elon University\\'s Student Government Association to promote their organization\\nMember of academic organization, Theta Psi Alpha (Spring 2013) House Representative in The Station at Mill Point residence community (Fall-\\nSpring 2013) Study Abroad: Studied ecotourism abroad in Australia for winter term in January 2014. Visited the cities of Sydney, Brisbane,\\nCairns, Melbourne, and Tasmania and learned about sustainable travel and tourism. Relevant Coursework: Communications in a Global Age,\\nMedia Writing, Strategic Campaigns, Health Communications, Public Relations & Civic Responsibility, Digital Media Convergence, Strategic\\nWriting, Communication Research, Corporate Publishing, Capstone in Communications, Advertising in Society, Intro to Marketing\\nAdditional Information\\n\\nPast Extracurricular Activities: Member of Public Relations Student Society of America - \"1000 Thanks\" Program Contributor Received\\nover 1500 thank-you cards from university community (Fall 2013) Completed service-learning work with nonprofit organization,\\nSustainable Alamance, helped plan and coordinate an event that helped raise over $1,000. Volunteered with Elon University\\'s Student\\nGovernment Association to promote their organization Member of academic organization, Theta Psi Alpha (Spring 2013) House\\nRepresentative in The Station at Mill Point residence community (Fall-Spring 2013) Study Abroad: Studied ecotourism abroad in Australia\\nfor winter term in January 2014. Visited the cities of Sydney, Brisbane, Cairns, Melbourne, and Tasmania and learned about sustainable\\ntravel and tourism.\\n\\nSkills\\n\\nAdobe Photoshop,Illustrator, InDesign\\n\\nExperience with Cvent Crowdcompass\\' mobile application software\\n\\nMicrosoft Office\\n\\nConstant Contact, Mailchimp'], 'es/sales.pdf': ['SALES EXECUTIVE\\nSummary\\n\\nSales and Customer Service Professional with proven record of accomplishment growing client list and maintaining existing clients. Delivered\\nconsistent gains in growth, profits and customer satisfaction and retention through expertise in customer relationship management. Expert\\ntroubleshooter, innovative problem-solver. Proactive in ensuring high levels of client satisfaction. Diverse Sales Experience Selling to Businesses, in\\nMedical and Commercial as well as Selling to Consumers. Exceptional communication and interpersonal skills; talent for quickly establishing\\nrapport, cultivating relationships and building loyalty by becoming a trusted customer resource. Unparalleled commitment to customer retention by\\nproviding superior service. Disciplined, Independent, Driven and Motivated Professional with Experience in many industries selling to Buyers at all\\nLevels. Both a Hunter and a Harvester who enjoys prospecting, presenting and closing the sale, as well as client retention and stellar customer\\nservice.\\n\\nHighlights\\n\\nGrew placements with FFCC Inc. from under a hundred thousand\\nto over two and a half million per month. The company had five\\ncollectors when I accepted the position and they have well over 80\\ncollectors now. Fees grew from under $20,000.00 per month to\\nover $100,000.00 per month.\\n\\nStarted a new company for Silent Owners in the Tri State area\\nand required another employee to assist with servicing the\\ngrowing client list and the company was later sold and has been\\nsold 4 other times and is in business with many of the initial\\nclients as State Chemical Company.\\n\\nAccomplishments\\n\\nI spoke at a yearly even at Beckfield College for Jenny Clem to students about Accounts Receivable, Billing and Collections.\\n\\nI was a member of PAHCOM and attended monthly and annual events to represent my company and services as well as attended conferences as\\na Vendor and Speaker.\\n\\nTrained new Employees in new territories with FFCC INC. Was responsible for also helping them canvass their territory to ramp up and build the\\nnew client list.\\n\\nWith I C System Inc. in just under 3 years I became ranked the number 3 Representative out of 65 Representatives in the United States.\\n\\nWith Ohio Truck Body I was promoted from Inside Sales Coordinator to Outside Sales Manager within two years of learning the business.\\n\\nWhile working for Fyr Fyter Sales and Service I was offered a position to leave the company with a Manager to work for them in a new position\\nwith a compensation increase and opportunity for growth and advancement.\\n\\nWith ChangeMed I acquired five of the largest clients for the company within a few months of accepting the position.\\n\\nExperience\\nSALES EXECUTIVE 02/2001 to 10/2012 Company Name City , State\\n\\nSold collection services to provide accounts receivable solutions to Physicians in both large and small medical offices, hospitals, and any\\nother businesses extending credit.\\nMy goal each day was to prospect for new profitable clients meet daily, weekly, monthly and yearly goals.\\nAlso responsible for maintaining my existing client base by contacting them on a regular basis explaining and reviewing monthly and yearly\\nreports and asking for additional placements.\\nMy territory placed of $2.5 million each month in placements.\\nI increased company profits and growth annually and trained Reps in new Territories and Supported them.\\n\\nRegional Account Manager 10/2012 to 03/2013 Company Name City , State\\n\\nResponsible for new territory in Ohio and Kentucky selling toxicology laboratory services to physician practices. Also, hired, trained and\\nsupported staff to place in the practices to work for the laboratory processing specimens. The company closed and is under investigation for some\\nbilling practices.\\n\\nDISTRICT SALES MANAGER 02/1998 to 02/2001 Company Name City , State', 'Selling collection service, accounts receivable solutions, credit reporting, instant credit information, database management, billing service,\\ndirect mail service and pre-collect and insurance cure work to Physicians and Medical Facilities.\\nMy territory included half of the state of Ohio and Northern Kentucky, Louisville and Lexington.\\nI also accepted responsibility for neighboring territories when necessary.\\nI held a position among the top three during the entire year of 1999.\\nThis accomplishment kept me in the Sales Summit Club for the entire year.\\nI exceeded all goals and strived to be an asset to the company.\\nEducation and Training Seminars: Wilson Learning System Sales Training, Zig Ziglar, Motivation Training, Sandler Sales Training, Dale\\nCarnegie, Dare to be Different by Bob Clements International, Inc., How to Master the Art of Selling by Tom Hopkins International,\\nElemental Selling by Jeffrey Gitomer at Business Marketing Services, Building Customer Relationships by Waste Management Training\\nTeam, and Quality Sales Training by Waste Management Training Team.\\n\\nAccount Manager 04/2012 to 02/2015 Company Name City , State\\n\\nResponsible for helping new start up billing company acquire new clients in Southern Ohio and Kentucky. Sold Allscripts software with meaningful\\nuse allowances, sold billing and credentialing services and continued to support the client and their staff.\\n\\nThis company changed their business plan and layed off outside sales team to grow the business by acquiring failing billing companies who were\\nlosing their physician clients to hospital and large physician buyouts.\\n\\nEducation\\nHigh School Diploma : Required and Business 1977 Suncoast City , State , United States\\n\\nI was a member of DECA which is Distributive Education Clubs of America and I was able to work a part time job for school credits and\\nbusiness experience. My positions were managing a golf pro shop of a country club part time and working the late day shift as team leader for a\\nPublix Bakery Department.\\n\\nSkills\\n\\nInside and Outside Sales, Customer Service, Salesforce, Act, and Goldmine CRM, Allscripts Software, Outlook, Practice Fusion Software,\\nAppointment Setting, Cold Calling, Presenting, Closing and Client Retention. Database management, direct mail, insurance, marketing, reporting\\nand training and support.'], 'es/teacher.pdf': [\"TEACHER\\nProfessional Summary\\n\\nMaster teacher looking for new role and Industry. I'm looking to leverage the valuable skills, knowledge, and experiences as a teacher to advance\\na new client or organization in an executive or leadership position.\\n\\nSkills\\n\\nInstructional Design, Teaching, Progress Monitoring, Course\\nDevelopment\\nEvernote, Slack, Social Media, Excel, Outlook, Adobe\\nPhotoshop\\nManagement: Staff, Projects, Daily Scheduling\\n\\nWork History\\nTeacher , 08/2014 to Current \\nCompany Name â€“ City , State \\n\\nFinancial Analysis, Security Trading, Portfolio Managament,\\nLiability Structuring\\nResearch, Analysis, and Planning\\n\\nTeaches classes in accordance with requirements of approved courses of study at expected student progress expectations\\nUses information about individual students' academic strengths, needs, and progress in planning\\nDesigns activities to engage students in cognitively challenging work aligned to standards\\nUses resources that will promote high levels of learning and student engagement in classroom environment\\nClosely monitors student learning in order to understand how students are progressing toward learning objectives and provides students with\\ninstructive timely feedback that moves their learning forward\\nEstablishes classroom environment that is safe and supportive, risk-taking is encouraged, students feel free to contribute their ideas, and\\nteacher and student interactions are respectful and polite to promote positive learning environment for all students\\nInitiates and participates in Individualized Education Plan IEP meetings with administrators, faculty, parents, and other parties involved to\\ndevelop and IEP for eligible students\\nUtilizes District approved behavior modification techniques to implement IEP goals and continually monitors student progress toward IEP\\ngoal achievement\\nMaintains established policies and procedures for reporting incidents e.g., child abuse, substance abuse, harassment, and violence\\nCommunicates with families to create partnerships around student learning by providing information about instructional programing and\\nprogress of their student\\nFostered team collaboration between students through group projects for Mathematics, ELA, and History\\nEvaluates performance of subordinate personnel\\n\\nRobotics and Design Instructor , 08/2012 to 09/2014 \\nCompany Name â€“ City , State \\n\\nProvided clear informative lectures on working with Robotics kits, programming, and theory\\nIncreased educational expertise and knowledge of design by participating in instructor-oriented workshops\\nModified lessons and curriculum to accommodate diverse learners by using strategies such as peer-assisted learning and group work\\n\\nExecutive Advisor , 08/2015 to Current \\nCompany Name â€“ City , State \\n\\nPortfolio management realizing 20-25% annually over 5 year period\\nResearch and Analytics\\nProvide relocation services for client's and their families\\nTake clients though Time and Asset Restructuring System\\nDeveloped anti-fragile contingency and recovery strategies to prepare company and clients for Black Swan Events\\nPlanned and launched large-scale events that boosted revenue by 15%\\nImplemented process improvements to automate office operations, including record tracking and mobile apps\\nImproved office efficiency by effectively managing internal communications and correspondence\\nMaintained work structure by drafting work contracts\\n\\nEducation\\nM. Ed : Teaching , 2016 \\nUniversity of California - Los Angeles - City , State \\n\\nMaster's degree Elementary Education and Teaching\\n\\nBachelor of Arts : Psychology , 2003 \\nThe University of New Mexico - City \\nStudio Arts Santa Monica College - City , State \\nSkills\\n\\nInstructional Design, Teaching, Progress Monitoring, Course Development\\n\\n\\x0cEvernote, Slack, Social Media, Excel, Outlook, Adobe Photoshop\\nManagement: Staff, Projects, Daily Scheduling\\n\\nFinancial Analysis, Security Trading, Portfolio Managament, Liability Structuring\\nResearch, Analysis, and Planning\", \"Work History\\nTeacher , 08/2014 to Current \\nCompany Name â€“ City , State \\n\\nTeaches classes in accordance with requirements of approved courses of study at expected student progress expectations\\nUses information about individual students' academic strengths, needs, and progress in planning\\nDesigns activities to engage students in cognitively challenging work aligned to standards\\nUses resources that will promote high levels of learning and student engagement in classroom environment\\nClosely monitors student learning in order to understand how students are progressing toward learning objectives and provides students with\\ninstructive timely feedback that moves their learning forward\\nEstablishes classroom environment that is safe and supportive, risk-taking is encouraged, students feel free to contribute their ideas, and\\nteacher and student interactions are respectful and polite to promote positive learning environment for all students\\nInitiates and participates in Individualized Education Plan IEP meetings with administrators, faculty, parents, and other parties involved to\\ndevelop and IEP for eligible students\\nUtilizes District approved behavior modification techniques to implement IEP goals and continually monitors student progress toward IEP\\ngoal achievement\\nMaintains established policies and procedures for reporting incidents e.g., child abuse, substance abuse, harassment, and violence\\nCommunicates with families to create partnerships around student learning by providing information about instructional programing and\\nprogress of their student\\nFostered team collaboration between students through group projects for Mathematics, ELA, and History\\nEvaluates performance of subordinate personnel\\n\\nRobotics and Design Instructor , 08/2012 to 09/2014 \\nCompany Name â€“ City , State \\n\\nProvided clear informative lectures on working with Robotics kits, programming, and theory\\nIncreased educational expertise and knowledge of design by participating in instructor-oriented workshops\\nModified lessons and curriculum to accommodate diverse learners by using strategies such as peer-assisted learning and group work\\n\\nExecutive Advisor , 08/2015 to Current \\nCompany Name â€“ City , State \\n\\nPortfolio management realizing 20-25% annually over 5 year period\\nResearch and Analytics\\nProvide relocation services for client's and their families\\nTake clients though Time and Asset Restructuring System\\nDeveloped anti-fragile contingency and recovery strategies to prepare company and clients for Black Swan Events\\nPlanned and launched large-scale events that boosted revenue by 15%\\nImplemented process improvements to automate office operations, including record tracking and mobile apps\\nImproved office efficiency by effectively managing internal communications and correspondence\\nMaintained work structure by drafting work contracts\"]}\n"
     ]
    }
   ],
   "source": [
    "pdfs_dict = page_extractor(files_path)\n",
    "print(pdfs_dict)"
   ]
  },
  {
   "cell_type": "code",
   "execution_count": 6,
   "metadata": {},
   "outputs": [],
   "source": [
    "def get_skills_and_edu(pdfs_dict: dict) -> dict:\n",
    "    \n",
    "    \"\"\" Extracts skills and education corresponding to each pdf \"\"\"\n",
    "\n",
    "    pdfs_relevant = {}\n",
    "    for key, value in pdfs_dict.items(): # value -> list of page contents\n",
    "        pdfs_relevant[key] = \"\" # for storing skills and education\n",
    "        skill_flag = edu_flag = False\n",
    "        for page in value:\n",
    "            for each_line in page.split('\\n'):\n",
    "                # print(each_line)\n",
    "                line_ls = each_line.lower().split(' ')\n",
    "                \n",
    "                if skill_flag and len(line_ls) <= 3 and (\"experience\" in line_ls or (\"work\" in line_ls and \"history\" in line_ls) or \"education\" in line_ls):\n",
    "                    skill_flag = False\n",
    "                if edu_flag and len(line_ls) <= 3 and (\"experience\" in line_ls or (\"work\" in line_ls and \"history\" in line_ls) or \"skills\" in line_ls):\n",
    "                    edu_flag = False\n",
    "\n",
    "                if skill_flag and each_line != '\\n':\n",
    "                    pdfs_relevant[key] += each_line + \"\\n\"\n",
    "                if edu_flag and each_line != '\\n':\n",
    "                    pdfs_relevant[key] += each_line + \"\\n\"\n",
    "\n",
    "                if len(line_ls) <= 3 and \"skills\" in line_ls: # Accounting for variations in heading \n",
    "                    skill_flag = True\n",
    "                if len(line_ls) <= 3 and \"education\" in line_ls:\n",
    "                    edu_flag = True\n",
    "                \n",
    "                \n",
    "    return pdfs_relevant"
   ]
  },
  {
   "cell_type": "code",
   "execution_count": 7,
   "metadata": {},
   "outputs": [
    {
     "name": "stdout",
     "output_type": "stream",
     "text": [
      "Expert in customer relations\n",
      "Portfolio management\n",
      "\n",
      "A\n",
      "\n",
      "Accomplishments\n",
      "\n",
      "Proficient in Microsoft Office\n",
      "Microsoft Excel expert\n",
      "Risk management expertise\n",
      "\n",
      "Financial statement analysis\n",
      "\n",
      "General ledger accounting\n",
      "\n",
      "Achieved an internal audit score of 95%.\n",
      "\n",
      "Promoted to Auditor after just 3 months of employment.\n",
      "\n",
      "Boosted quality ratings by 85% by developing new processes and improving work flow.\n",
      "\n",
      "Accounting Certificate : Accounting , 2012 Cecil County Community College ï¼​ City , State\n",
      "Performing Payroll in QuickBooks 2009 Certificate : Payroll , 2012 Cecil County Community College ï¼​ City , State\n",
      "Bachelor of Science : General Studies , 2011 Wilmington University ï¼​ City , State , New Castle County\n",
      "\n",
      "General Studies\n",
      "\n",
      "\n",
      "Accounting, balance, budget, business analyst, Call Center, Cash Management, closing, contracts, Critical Thinking, client, clients, databases,\n",
      "database, documentation, Financial, financial statements, leadership, Team Lead, marketing, excel, mail, MS Office Suites, Payroll, policies,\n",
      "processes, progress, Quality Assurance, QuickBooks, relationship management, reporting, research, Risk Management, SAP, securities, statistics,\n",
      "supervisor, phone, written\n",
      "\n",
      "---------------------------------\n",
      "High School Diploma : Business/ Computers Camden County High School ï¼​ City , State\n",
      "\n",
      "Administrative\n",
      "Cash handling\n",
      "Excellent communication\n",
      "interpersonal skills\n",
      "Detail-oriented merchandising\n",
      "Self-motivated\n",
      "70 WPM\n",
      "\n",
      "---------------------------------\n",
      "\n",
      "\fHigh School Diploma : General 2013 Rota High School City , State\n",
      "Bachelor of Arts : Elementary Education 2017 University of Portland City , State\n",
      "\n",
      "University of Portland Student. Majoring in Elementary Education, Class of 2017. ARMY ROTC. Kappa Delta Pi Honor Society Officer.\n",
      "\n",
      "Affiliations\n",
      "\n",
      "Portland Helping Hands and Family Homeless Shelter\n",
      "\n",
      "\n",
      "Public Speaking, Student Involvement, and Organizational\n",
      "\n",
      "---------------------------------\n",
      "Bachelor of Science : Petroleum Engineering , Jul Texas A&M University ï¼​ City , State Petroleum Engineering\n",
      "[Number] GPA \n",
      "\n",
      "Solid Works, CAD, Matlab and MS Office\n",
      "Process Implementation\n",
      "\n",
      "Languages\n",
      "English, Portuguese, Spanish)\n",
      "CAD, delivery, English, ERP, forecasting, functional, inspection, Inventory, leadership skills, logistics, materials, Matlab, MS Office, personnel,\n",
      "Portuguese, pricing, Procurement, Production Manager, proposals, Purchasing, qualitative research, quality, Fast learner, Receiving, Sales,\n",
      "Shipping, Solid Works, Spanish, specification, Strategy & Planning, Supply Chain\n",
      "\n",
      "---------------------------------\n",
      "Associate of Science : Liberal Arts Science and Mathematics , 2015 SUNY Adirondack ï¼​ City , State\n",
      "Dean's List\n",
      "Graduated Cum Laude\n",
      "Bachelor of Science : Environmental Technology and Management , 2018 North Carolina State University ï¼​ City , State\n",
      "Projects: Richard R. Lee Estate (Clayton, NC) Phase III Environmental Site Assessment\n",
      "\n",
      "Customer Service\n",
      "Management\n",
      "Inventory Management\n",
      "Communication\n",
      "\n",
      "---------------------------------\n",
      "J.D. , Law 2016 St. Mary's University ï¼​ City , State\n",
      "\n",
      "Coursework in Criminal JusticeÂ \n",
      "Legal License Pending November 2016\n",
      "\n",
      "Bachelor of Arts , English Literature 2000 Texas A&M University - College ï¼​ City , State , USA English Literature\n",
      "Training\n",
      "\n",
      "Risk ManagementÂ and Insurance coursework\n",
      "Extensive training in auto insurance terminology/ processes (parts, repair and medical procedures)\n",
      "Texas and other state's regulations\n",
      "Customer Service Delivery\n",
      "Commercial Specific Issues\n",
      "\n",
      "Interpersonal and communication,Â  Customer service, File management, Insurance, Legal Research & Writing, Litigation, Mediation, Medical\n",
      "record review, High level claim evaluation, Commercial needs, Â Negotiation, Processes, Quality assurance, Risk Management, Settlements,\n",
      "Strategy\n",
      "\n",
      "---------------------------------\n",
      "Test equipment operation\n",
      "Diagnostic testing\n",
      "\n",
      "Worked to meet current FAA electrical codes and company guidelines.\n",
      "Installed wiring and electrical appliances for commercial and military aircraft with a 40% ahead-of-schedule rate.\n",
      "Scheduled and tracked all repairs.\n",
      "Supervised team of three staff members.\n",
      "Mounted assembled components on circuit board at a rate of 100 per shift.\n",
      "Served as an expert in troubleshooting and repairing state-of-the-art electrical and electronic systems.\n",
      "\n",
      "GED : 2005 T.C.C South Campus ï¼​ City , State , USA GPA: GPA: 3.0\n",
      "\n",
      "GPA: 3.0\n",
      "\n",
      "Electronics Troubleshooting Diploma : Avionics Electrical Technician , 2007 Army Aviation School of Logistics ï¼​ City , State , USA\n",
      "\n",
      "Minor in Avionics Operation and Theory and electronic troubleshooting.\n",
      "\n",
      "3.0 GPA\n",
      "\n",
      "Coursework in A/C And D/C Emphasis onTheory and troubleshooting and Professional Training.\n",
      "\n",
      "Associate of Science : Avionics Maintenance technology , 2011 Spartan College of Aeronautics ï¼​ City , State , USA\n",
      "\n",
      "Member of AEA Club\n",
      "\n",
      "3.2 GPA\n",
      "\n",
      "Perfect Attendance Academic Achievement Award\n",
      "\n",
      "AEA Wiring Academic Achievement Award\n",
      "\n",
      "FAA Corrosion Control Academic Achievement Award\n",
      "\n",
      "Coursework in Avionics Maintenance Technology\n",
      "\n",
      "Coursework in Meteorology, Air Traffic Regulations and Air Navigation\n",
      "\n",
      "Conduit Bending course\n",
      "\n",
      "Coursework in High-Voltage Cable Splicing, Qualified Rigging and Signaling\n",
      "\n",
      "Coursework in DC Electricity, AC Electricity and Electronics Theory\n",
      "\n",
      "Diploma in Electric Technology\n",
      "\n",
      "\n",
      "Wiring Troubleshooting, Army Ethos and Structure, Basic forms Interpretation, logistics, Excel,Electronic Component repairs,Wire routing,\n",
      "Interpretation of schematics, Soldering, supervisor Skills, Service and Field Technician Skills , Test Equipment Operation , troubleshooting,\n",
      "Electrical upgrades, Wiring Diagnostics and Repair.\n",
      "\n",
      "---------------------------------\n",
      "\n",
      "Solid communication, interpersonal, time management, organizational, and leadership skills.\n",
      "\n",
      "Minnesota State University 1988 Bachelor of Science : Business Administration City , State \n",
      "Additional Information\n",
      "\n",
      "S.A.F.E. MORTGAGE NMLS # 533306\n",
      "INACTIVE LICENSES Â· Series 7, 66, 63 Â· Life, Accident and Health Insurance Â·\n",
      "\n",
      "---------------------------------\n",
      "Bachelor of Science : Social Science Portland State University ï¼​ City , State Social Science\n",
      "account management, b2b, balance, budgets, budget, business development, Business Intelligence, contract negotiations, Clientele, client, clients,\n",
      "Customer Services, customer service, e-Commerce, executive management, senior management, financial, Gateway, Help Desk, HP, hiring,\n",
      "Kronos, leadership, Director, marketing, market, materials, meetings, Enterprise, optimization, performance reviews, policies, proposals, speaking,\n",
      "quality, QA, Quality Assurance, real-time, real time, recruiting, Reporting, Sales, scheduling, specification, staffing, Symantec, technical support,\n",
      "telecommunications, training materials\n",
      "\n",
      "---------------------------------\n",
      "2007\n",
      "HOBART COLLEGE City , State Bachelor of Arts : English English\n",
      "May 2007\n",
      "Media and Society Media and Society\n",
      "Interests\n",
      "Member, Men's Club Ice Hockey (2003 - 2007), devoted 12 hours per week in practice and competition Volunteer, Political Activism House\n",
      "(2004), organized and conducted voter registration drives for college students 1999-2003 THE DELBARTON SCHOOL Morristown, NJ\n",
      "Member, Men's Varsity Ice Hockey (NJ State Champions - 2002) New Jersey Hockey Hall of Fame inductee - 2014\n",
      "Additional Information\n",
      "\n",
      "Member, Men's Club Ice Hockey (2003 - 2007), devoted 12 hours per week in practice and competition Volunteer, Political Activism\n",
      "House (2004), organized and conducted voter registration drives for college students 1999-2003 THE DELBARTON SCHOOL\n",
      "Morristown, NJ Member, Men's Varsity Ice Hockey (NJ State Champions - 2002) New Jersey Hockey Hall of Fame inductee - 2014\n",
      "\n",
      "ads, advertising, Avid, budgets, Budget, business strategies, cable, cash flow, coach, client management, content, contracts, SC, client, clients,\n",
      "customer service, database analysis, email, Financial, Investments, market, meetings, Microsoft Excel, Power Point, Microsoft Word, network,\n",
      "Networks, new business development, newsletters, Personnel, producing, profit, radio, Research, Sales, phone, television, video\n",
      "\n",
      "---------------------------------\n",
      "Sound judgment\n",
      "Computer-savvy\n",
      "Process improvement\n",
      "Team building\n",
      "Staff motivator\n",
      "Business recovery and sustainability\n",
      "Conflict resolution\n",
      "Media marketing\n",
      "Cost reduction\n",
      "Budget allocation\n",
      "\n",
      "Associate Degree : Applied Food Science and Culinary Arts/Food and Beverage Management , May 2008 Johnson & Wales University ï¼​ City ,\n",
      "State , GPA 3.4 GPA: GPA: 3.4\n",
      "Certification : Food Safety and Sanitation , 2008 Johnson and Wales ï¼​ City , State\n",
      "Certification : National Beverage Service and Bartending , 2008 Johnson and Wales ï¼​ City , State\n",
      "\n",
      "Affiliations\n",
      "\n",
      "Future Business Leaders of America Scholarship\n",
      "\n",
      "Federal Work Study Program Award\n",
      "\n",
      "Johnson and Wales Achievement Scholarship\n",
      "\n",
      "\n",
      "Budgeting, Multi-Business Operations Management, New Business Development, Profit Generation, Food Safety, Quality Management,\n",
      "Customer Relations, Vendor Negotiations, Vendor Partnerships, Time and Resource Optimization, Inventory Control and Management, Weekly\n",
      "Payroll, Policies, Safety, Work Flow\n",
      "\n",
      "---------------------------------\n",
      "AWS Certified CWI (Certificate # 08110741) API Certified TES (Certificate # 32697) API Certified 653 (Certificate # 42276) ASNT Level III\n",
      "(Certificate # 245052)\n",
      "API, Auto-Cad, closing, Inspector, materials, Excel, Microsoft Word, new construction, personnel, procurement, quality control, sales,\n",
      "scheduling, shell, technical support, Weld, Welder\n",
      "\n",
      "---------------------------------\n",
      "Ph.D : International Relations Oxford Brookes University International Relations\n",
      "2012\n",
      "PhD International Relations in progress - Final Drafting phase *Awarded John Henry Brookes fees-based scholarship\n",
      "December 2016\n",
      "Master of Arts : International Studies Oxford Brookes University GPA: Dissertation: Deconstructive Analyses of the Failed State Discourse in its\n",
      "Historical Bases and Contemporary Form(s) and Implications for International Security: the Case of Afghanistan Dissertation: Deconstructive\n",
      "Analyses of the Failed State Discourse in its Historical Bases and Contemporary Form(s) and Implications for International Security: the Case of\n",
      "Afghanistan International Studies\n",
      "M.A : International Studies (Security focus) GPA: Top 5% of class, graduating with distinction honors *Dissertation title: Toward a Genealogy of\n",
      "the 'Failed State' Discourse International Studies (Security focus) Top 5% of class, graduating with distinction honors *Dissertation title: Toward a\n",
      "Genealogy of the 'Failed State' Discourse\n",
      "Bachelor of Science : Political Science & Global Studies South Dakota State University ï¼​ City , State , United States Political Science & Global\n",
      "Studies\n",
      "B.S : Political Science and Global Studies Cultural Geography Political Science and Global Studies Cultural Geography\n",
      "Advanced coursework in Cultural Geography, International Relations and Organizations. GPA: Scholarship - Dr. John Henrickson Award -\n",
      "Awarded twice for academic achievement in field of Political Science: 2005 - 2007. *Graduated with Cum Laude honors. Scholarship - Dr. John\n",
      "\n",
      "\fHenrickson Award - Awarded twice for academic achievement in field of Political Science: 2005 - 2007. *Graduated with Cum Laude honors.\n",
      "Publications\n",
      "Szarkowski, S. \"Dominant Voice, Dominant Silence: Foucault's Governmentality and the US-Pakistan Relationship\" published in CASS 2009\n",
      "Conference Proceedings: \"Voices: Postgraduate Perspectives on Interdisciplinarity\". Presented at and published by the University of Aberdeen\n",
      "2009 Szarkowski, S. \"On the Need for Critical Reflexivity, Or: A One-Eyed King in the Land of the Blind\" Paper Presented at CASS 2011,\n",
      "University of Aberdeen 2011 Szarkowski, S. \"Historical Legacies, Identity Constructions, and Security Policy for Failed States: the Afghanistan\n",
      "Case\" Paper presented to the International Studies Association, San Franciso 2013\n",
      "ad, Articulate, budget, concise, conferences, Consulting, Copy Editing, client, clients, Data collection, Data Entry, Drafting, Editor, Editorial, fast,\n",
      "finance, Fundraising, Government, Law Enforcement, Leadership, team leader, managing, materials, media relations, money, MOS, Networking,\n",
      "newsletters, personnel, Personnel Management, Policy Analysis, presentation skills, PRIME, problem solving, progress, Project Management,\n",
      "public relations, Public Speaking, Quantitative Analysis, reporting, Research, Security Clearance, seminars, SOP, stories, workshops, writer\n",
      "\n",
      "---------------------------------\n",
      "Masters : Business Administration United States University City , State Business Administration\n",
      "Organizational Behavior, Data & Information Systems Management, and HR Administration.\n",
      "Masters : Fashion Design March 2014 FIDM/Fashion Institute of Design & Merchandising City , State GPA: Cum Laude Fashion Design Cum\n",
      "Laude\n",
      "Pattern Making, Garment Construction, Computer Aided Designing, Technical Drawing, and Draping and Sewing.\n",
      "Bachelors of Engineering : Textile Technology June 2010 RGPV University City , State , India GPA: Magna Cum Laude Textile Technology\n",
      "Magna Cum Laude\n",
      "Knitting and Garment Construction, Fabric Construction (Woven and Knits), Fabric Printing and Finishing, and Textile Testing. Gimatex Industries\n",
      "Pvt. Ltd., Maharashtra, India Spinning, Weaving and Garment Construction Trained in manufacturing the yarn, utilizing that yarn to fabricate fabric,\n",
      "lastly utilizes that fabric to design a garment. Paper on Technical Textiles. This paper presents different type of technical textiles, their\n",
      "manufacturing, finishing, and end uses.\n",
      "photo, Photoshop, CAD, catalog, Color, Designing, Fashion, Drawing, HR, Illustrator, Information Systems, materials, meetings, Organizational,\n",
      "Design process, quality, research, collecting samples, Trend, type\n",
      "\n",
      "---------------------------------\n",
      "Bachelor's : Public Relations, Business University of Louisiana at Lafayette ï¼​ City , State , US University of Louisiana at Lafayette, Lafayette LA\n",
      "Public Relations/Liberal Arts, May 2014 Bachelor's degree in Public Relations with a minor in Business\n",
      "Accomplishments\n",
      "\n",
      "\fAs part of one of my last core Communications classes at The University of Louisiana at Lafayette, better known as Campaigns 490, students\n",
      "were divided into 5 teams of 5 to create a campaign for a specific client, the ULL Communication Department. The proposal was to increase\n",
      "recruitment numbers by 20% in the next year. Each member of the team had a unique job and mine was Editor, which entailed reviewing,\n",
      "proofreading, and finalizing the group's final written reports and social media sites. After a semester of gathering and analyzing research, developing\n",
      "a campaign based on objectives, creating a new branded image and evaluating the plan for the department, the Department of Communication\n",
      "chose our campaign as the winning group proposal\n",
      "Professional Affiliations\n",
      "THE ANDRÃ‰ COMEAUX CAMPAIGN , Lafayette, LA\n",
      "Associate, Basis, Greeting, Inventory, Monthly Sales, Sales, Sales Associate, Sales Or, Stocking, Marketing, Posting, Clients, Filing, Increase,\n",
      "Liaison, Problem Solver, Proofreading, Recruitment, Very Organized, Games, Promotional, Public Relations\n",
      "\n",
      "---------------------------------\n",
      "\n",
      "5 years of experience with CAD packages (SolidWorks, Autodesk Inventor, AutoCAD, CATIA, PTC CREO)\n",
      "2.5 years of experience with CAE Softwares (HyperMesh, Abaqus, ANSYS, Optistruct)\n",
      "2.5 years of experience with Analysis (Linear & Non-linear Static, Dynamic, GD & T, Tolerance Analysis, Design Optimization)\n",
      "Experience with Sheet metal, Design for manufacturing, generating Bill of Materials, DFMEA, Sculpting.\n",
      "Experience with advanced material selection for rapid prototyping, advanced manufacturing, welding and 3D printing.\n",
      "\n",
      "May 2017\n",
      "Master's : Mechanical & Aerospace Engineering Illinois Institute of Technology (IIT) ï¼​ City , State Mechanical & Aerospace Engineering 3.5/4.0\n",
      "Advanced CAD/CAM, Engineering Analysis, Finite Element Analysis, Advanced Manufacturing\n",
      "May 2014\n",
      "Bachelor of Technology : Mechanical Engineering Narsee Monjee Institute of Management Studies ï¼​ City India Mechanical Engineering 3.19/4.0\n",
      "3D, ANSYS, AutoCAD, automation, Automotive, CAD/CAM, CAD, CATIA, Dec, Engineering Analysis, lathe, Manufacturing process,\n",
      "\n",
      "\fMaterials, material selection, Oil, Optimization, pick, prototyping, Robotic, safety, simulation, SolidWorks, SPC, statistical analysis, welding\n",
      "\n",
      "---------------------------------\n",
      "Accounting, computerized accounting, general accounting, accounts payable, accounts receivable, trial balance, banking, benefits, billing, budgets,\n",
      "Budget, Cancer, cash management, closing, coaching, contracts, Client, customer service, decision making, documentation, Senior Management,\n",
      "filing, Finance, Financial, financial analysis, financial audits, financial statements, Prepare financial statements, funds, general ledger, grants, Human\n",
      "Resource, Insurance, interpretation, investments, legal, Director, meetings, mentoring, Excel, Microsoft Office, Office, negotiating, operating\n",
      "system, payroll, payroll processing, performance analysis, Personnel, personnel management, policies, Primary Care, profit, project management,\n",
      "QuickBooks, reconciling, reporting, securities, staffing, strategic, Strategic Planning, supervising, tax returns, treasury, valuation, vision\n",
      "Core Qualifications\n",
      "Proficient with various computerized accounting software, Microsoft Office, and investment software. .\n",
      "\n",
      "\fMasters : Business Administration SOUTHERN NEW HAMPSHIRE UNIVERSITY (New Hampshire College Graduate School of Business)\n",
      "Business Administration\n",
      "B.S : Office Administration Accounting SOUTHERN NEW HAMPSHIRE UNIVERSITY (New Hampshire College) GPA: with Honors with\n",
      "Honors Office Administration Accounting\n",
      "\n",
      "---------------------------------\n",
      "Master of Science : Nursing/Master of Business Administration University of Phoenix Academic Achievement Master of Science in\n",
      "Nursing/Master of Business Administration- Healthcare University of Phoenix\n",
      "Bachelor of Science : Nursing Valparaiso University Bachelor of Science in Nursing Valparaiso University\n",
      "Bachelor of Science : Exercise Science Ball State University Bachelor of Science in Exercise Science Ball State University\n",
      "Certifications/Awards/Memberships â–ª RN licenses in AZ, PA, FL, MO â–ª Licensed Healthcare Risk Manager â–ª BLS/ACLS â–ª CEO\n",
      "Service Award, 2009\n",
      "Certifications\n",
      "Licensed Healthcare Risk Manager RN CPR BLS ACLS\n",
      "Affiliations\n",
      "of the enterprise team for improvement, integration, and training of the EMR system\n",
      "\n",
      "Asc, Qa, Emr, Pharmacy, Infection Control, Metrics, Risk Management, Satisfaction, Staffing, Trading, Training, Auditing, Instrumentation,\n",
      "Integration, Integrator, Medical Device, Operations, Process Improvement, Quality Assurance, Rn, Icu, Critical Care, Icp, Titration, Radiation\n",
      "Safety, Rn/, Scheduling, Team Lead, Cpr, Instructor, Million, Increase, Medical Assistant, Cardiac, Cardiovascular, Model-view-presenter, Mvp,\n",
      "Healthcare, Acls, Award\n",
      "\n",
      "---------------------------------\n",
      "\n",
      "PROVEN ADMINISTRATIVE HIGHLY ORGANIZED\n",
      "LEADERSHIP SUPPORT EVENT PLANNING\n",
      "ENTREPRENEURIAL CONFLICT PUBLIC SPEAKING\n",
      "MINDSET RESOLUTION PROJECT STAFFING\n",
      "TEAM LEADERSHIP REPORTING AND\n",
      "SELF DIRECTED DOCUMENTATION\n",
      "OUTBOUND CALLING PROSPECTING\n",
      "Account Management\n",
      "Acquisitions\n",
      "ADMINISTRATIVE\n",
      "Contracts\n",
      "Clientele\n",
      "Customer satisfaction\n",
      "Customer\n",
      "Ssatisfaction\n",
      "Decision making\n",
      "\n",
      "DOCUMENTATION\n",
      "EVENT PLANNING\n",
      "Inventory\n",
      "TEAM LEADERSHIP\n",
      "LEADERSHIP\n",
      "Director\n",
      "Managing\n",
      "Marketing plans\n",
      "Marketing\n",
      "Market\n",
      "Mergers\n",
      "Communicator\n",
      "Organizational skills\n",
      "Problem-solving\n",
      "PUBLIC SPEAKING\n",
      "Recruitment\n",
      "Relationship-building\n",
      "REPORTING\n",
      "Sales\n",
      "STAFFING\n",
      "Strategic\n",
      "Strategic planning\n",
      "Team player\n",
      "\n",
      "Bachelor of Arts : Business Administration And Public Relations , 1995 \n",
      "Heidelberg College - City , State \n",
      "\n",
      "Account Management, acquisitions, ADMINISTRATIVE, contracts, clientele, customer satisfaction, customer\n",
      "Ssatisfaction, decision making, DOCUMENTATION, EVENT PLANNING, inventory, TEAM LEADERSHIP, LEADERSHIP, Director,\n",
      "managing, marketing plans, marketing, market, mergers, communicator, organizational skills, problem-solving, PUBLIC SPEAKING, recruitment,\n",
      "relationship-building, REPORTING, Sales, STAFFING, strategic, strategic planning, team player\n",
      "Additional Information\n",
      "\n",
      "Experienced, multi-faceted business professional with ability to quickly generate business results. Seeking a position with Abbott for the\n",
      "Territory Sales Position in Tacoma,WA.\n",
      "Adept at attending job related conventions and managing special company events to attract candidates. Top-notch skills in relationship-\n",
      "building, problem-solving and decision making. Open and clear communicator with collaborative and hardworking style. Membership\n",
      "Enrollment Director excelling at customer satisfaction and retention. Flexible and hardworking in deadline driven environments. Energetic\n",
      "team player with top launch organizational skills.\n",
      "Intensive 3 Week training program in Radnor, PA\n",
      "\n",
      "---------------------------------\n",
      "Master of Public Administration 2012 National Institute of Development Administration (NIDA)\n",
      "Comprehensive English Course under Cultural Exchange Program 2007 City , State , USA\n",
      "Bachelor of Education 2002 Chulalongkorn University\n",
      "Accomplishments\n",
      "\n",
      "Complete ongoing training in the areas of :- Human Resource Management (PM and APM Certification Course) Analytical Problem Solving\n",
      "and Prevention * Tax ISO/TS 16949 & ISO 14001 requirements * Leadership Competency and Work Performance Appraisal * Labor\n",
      "Law Balance Scorecard and KPI * Happy Work Place Welfare and Salary Structure * Recruitment Compensation and Benefit Corrective\n",
      "and Preventive Action By 8D report and Why Why Analysis Technique Safety Supervisor Level Software Expertise Efficient in MS Office\n",
      "package and surfing internet.\n",
      "\n",
      "Administrative, administrative support, advertising, as set, benefits, business plan, clarify, Good communication skills, Interpersonal Skills,\n",
      "continuous improvement, decision making, English, Film, hiring, Human Resource, HR, law, legal compliance, Managerial, Managing, Exchange,\n",
      "organizational, payroll, performance appraisal, performance management, personnel, policies, processes, procurement, progress, promotion,\n",
      "speaking, purchase requisitions, Purchasing, Recruitment, recruiting, reporting, scheduling, strategic, strategic plans, Type, workflow\n",
      "\n",
      "---------------------------------\n",
      "Associate of Science : Information Technology , 2014 Lyons Township ï¼​ City , State , United States Information Technology\n",
      "High School Diploma General Education\n",
      "Coursework in computer science all 4 years GPA: Diamond Achievement Academic award * Honor Roll Diamond Achievement Academic\n",
      "award * Honor Roll\n",
      "A+ certified, ActionScript, Active directory, administrative, Adobe Creative Suite 5, Photo, Audio, Brochure, budgeting, business management,\n",
      "client and server, CMS, Hardware, computer repair, consulting, Content Management, CSS, CSS3, client, Database, designing, Documentation,\n",
      "Electronics, XML, Graphics, Hardware support, HTML, HTML5, PHP, Information security, Java, Java programming, JavaScript, Linux, Logic,\n",
      "Logo, Mac OS, managing, marketing, Medical technology, Microsoft Office, office, Windows, Windows 95, Network engineering, network,\n",
      "Networking, newsletter, Operating Systems, Organization development, Programming, protocols, Prototyping, Search Engine Optimization,\n",
      "servers, Storyboarding, TCP/IP, Telephony, Phone 7.0, Troubleshooting, upgrade, video, video editing, Web Development I, Website, website\n",
      "management, Windows Server, Wiring\n",
      "\n",
      "---------------------------------\n",
      "Bachelor of Arts : Strategic Communications May 2014 Elon University City , State GPA: GPA: 3.71 Graduated Magna Cum Laude Dean's List\n",
      "Fall 2010, Spring 2011, Spring 2012, President's List Fall 2012, Spring 2013, Fall 2013; Spring 2014 Inducted into National Communications\n",
      "Association, Lambda Pi Eta Inducted into National Social Science Honor Society, Pi Gamma Mu Inducted into the International Sociology Honor\n",
      "Society, Alpha Kappa Delta\n",
      "\n",
      "Strategic Communications GPA: 3.71 Graduated Magna Cum Laude Dean's List Fall 2010, Spring 2011, Spring 2012, President's List Fall 2012,\n",
      "\n",
      "\fStrategic Communications GPA: 3.71 Graduated Magna Cum Laude Dean's List Fall 2010, Spring 2011, Spring 2012, President's List Fall 2012,\n",
      "Spring 2013, Fall 2013; Spring 2014\n",
      "\n",
      "Inducted into National Communications Association, Lambda Pi Eta\n",
      "Inducted into National Social Science Honor Society, Pi Gamma Mu\n",
      "\n",
      "Inducted into the International Sociology Honor Society, Alpha Kappa Delta\n",
      "\n",
      "Interests\n",
      "Member of Public Relations Student Society of America - \"1000 Thanks\" Program Contributor Received over 1500 thank-you cards from\n",
      "university community (Fall 2013) Completed service-learning work with nonprofit organization, Sustainable Alamance, helped plan and coordinate\n",
      "an event that helped raise over $1,000. Volunteered with Elon University's Student Government Association to promote their organization\n",
      "Member of academic organization, Theta Psi Alpha (Spring 2013) House Representative in The Station at Mill Point residence community (Fall-\n",
      "Spring 2013) Study Abroad: Studied ecotourism abroad in Australia for winter term in January 2014. Visited the cities of Sydney, Brisbane,\n",
      "Cairns, Melbourne, and Tasmania and learned about sustainable travel and tourism. Relevant Coursework: Communications in a Global Age,\n",
      "Media Writing, Strategic Campaigns, Health Communications, Public Relations & Civic Responsibility, Digital Media Convergence, Strategic\n",
      "Writing, Communication Research, Corporate Publishing, Capstone in Communications, Advertising in Society, Intro to Marketing\n",
      "Additional Information\n",
      "\n",
      "Past Extracurricular Activities: Member of Public Relations Student Society of America - \"1000 Thanks\" Program Contributor Received\n",
      "over 1500 thank-you cards from university community (Fall 2013) Completed service-learning work with nonprofit organization,\n",
      "Sustainable Alamance, helped plan and coordinate an event that helped raise over $1,000. Volunteered with Elon University's Student\n",
      "Government Association to promote their organization Member of academic organization, Theta Psi Alpha (Spring 2013) House\n",
      "Representative in The Station at Mill Point residence community (Fall-Spring 2013) Study Abroad: Studied ecotourism abroad in Australia\n",
      "for winter term in January 2014. Visited the cities of Sydney, Brisbane, Cairns, Melbourne, and Tasmania and learned about sustainable\n",
      "travel and tourism.\n",
      "\n",
      "\n",
      "Adobe Photoshop,Illustrator, InDesign\n",
      "\n",
      "Experience with Cvent Crowdcompass' mobile application software\n",
      "\n",
      "Microsoft Office\n",
      "\n",
      "Constant Contact, Mailchimp\n",
      "\n",
      "---------------------------------\n",
      "High School Diploma : Required and Business 1977 Suncoast City , State , United States\n",
      "\n",
      "I was a member of DECA which is Distributive Education Clubs of America and I was able to work a part time job for school credits and\n",
      "business experience. My positions were managing a golf pro shop of a country club part time and working the late day shift as team leader for a\n",
      "Publix Bakery Department.\n",
      "\n",
      "\n",
      "Inside and Outside Sales, Customer Service, Salesforce, Act, and Goldmine CRM, Allscripts Software, Outlook, Practice Fusion Software,\n",
      "Appointment Setting, Cold Calling, Presenting, Closing and Client Retention. Database management, direct mail, insurance, marketing, reporting\n",
      "and training and support.\n",
      "\n",
      "---------------------------------\n",
      "\n",
      "Instructional Design, Teaching, Progress Monitoring, Course\n",
      "Development\n",
      "Evernote, Slack, Social Media, Excel, Outlook, Adobe\n",
      "Photoshop\n",
      "Management: Staff, Projects, Daily Scheduling\n",
      "\n",
      "M. Ed : Teaching , 2016 \n",
      "University of California - Los Angeles - City , State \n",
      "\n",
      "Master's degree Elementary Education and Teaching\n",
      "\n",
      "Bachelor of Arts : Psychology , 2003 \n",
      "The University of New Mexico - City \n",
      "Studio Arts Santa Monica College - City , State \n",
      "\n",
      "Instructional Design, Teaching, Progress Monitoring, Course Development\n",
      "\n",
      "\fEvernote, Slack, Social Media, Excel, Outlook, Adobe Photoshop\n",
      "Management: Staff, Projects, Daily Scheduling\n",
      "\n",
      "Financial Analysis, Security Trading, Portfolio Managament, Liability Structuring\n",
      "Research, Analysis, and Planning\n",
      "\n",
      "---------------------------------\n"
     ]
    }
   ],
   "source": [
    "pdfs_relevant = get_skills_and_edu(pdfs_dict)\n",
    "for k, v in pdfs_relevant.items():\n",
    "    print(v)\n",
    "    print('---------------------------------')"
   ]
  },
  {
   "cell_type": "markdown",
   "metadata": {},
   "source": [
    "#### Extracting details from job descriptions"
   ]
  },
  {
   "cell_type": "code",
   "execution_count": 8,
   "metadata": {},
   "outputs": [],
   "source": [
    "from datasets import load_dataset\n",
    "\n",
    "dataset = load_dataset(\"jacob-hugging-face/job-descriptions\", split=\"train\")"
   ]
  },
  {
   "cell_type": "code",
   "execution_count": 9,
   "metadata": {},
   "outputs": [],
   "source": [
    "# Dataset to dataframes\n",
    "\n",
    "import pandas as pd\n",
    "\n",
    "dataset.set_format(type='pandas')\n",
    "job_ds_features = dataset[:]"
   ]
  },
  {
   "cell_type": "code",
   "execution_count": 10,
   "metadata": {},
   "outputs": [
    {
     "data": {
      "text/html": [
       "<div>\n",
       "<style scoped>\n",
       "    .dataframe tbody tr th:only-of-type {\n",
       "        vertical-align: middle;\n",
       "    }\n",
       "\n",
       "    .dataframe tbody tr th {\n",
       "        vertical-align: top;\n",
       "    }\n",
       "\n",
       "    .dataframe thead th {\n",
       "        text-align: right;\n",
       "    }\n",
       "</style>\n",
       "<table border=\"1\" class=\"dataframe\">\n",
       "  <thead>\n",
       "    <tr style=\"text-align: right;\">\n",
       "      <th></th>\n",
       "      <th>company_name</th>\n",
       "      <th>job_description</th>\n",
       "      <th>position_title</th>\n",
       "      <th>description_length</th>\n",
       "      <th>model_response</th>\n",
       "    </tr>\n",
       "  </thead>\n",
       "  <tbody>\n",
       "    <tr>\n",
       "      <th>0</th>\n",
       "      <td>Google</td>\n",
       "      <td>minimum qualifications\\nbachelors degree or eq...</td>\n",
       "      <td>Sales Specialist</td>\n",
       "      <td>2727</td>\n",
       "      <td>{\\n  \"Core Responsibilities\": \"Responsible fo...</td>\n",
       "    </tr>\n",
       "    <tr>\n",
       "      <th>1</th>\n",
       "      <td>Apple</td>\n",
       "      <td>description\\nas an asc you will be highly infl...</td>\n",
       "      <td>Apple Solutions Consultant</td>\n",
       "      <td>828</td>\n",
       "      <td>{\\n  \"Core Responsibilities\": \"as an asc you ...</td>\n",
       "    </tr>\n",
       "    <tr>\n",
       "      <th>2</th>\n",
       "      <td>Netflix</td>\n",
       "      <td>its an amazing time to be joining netflix as w...</td>\n",
       "      <td>Licensing Coordinator - Consumer Products</td>\n",
       "      <td>3205</td>\n",
       "      <td>{\\n  \"Core Responsibilities\": \"Help drive bus...</td>\n",
       "    </tr>\n",
       "    <tr>\n",
       "      <th>3</th>\n",
       "      <td>Robert Half</td>\n",
       "      <td>description\\n\\nweb designers looking to expand...</td>\n",
       "      <td>Web Designer</td>\n",
       "      <td>2489</td>\n",
       "      <td>{\\n  \"Core Responsibilities\": \"Designing webs...</td>\n",
       "    </tr>\n",
       "    <tr>\n",
       "      <th>4</th>\n",
       "      <td>TrackFive</td>\n",
       "      <td>at trackfive weve got big goals were on a miss...</td>\n",
       "      <td>Web Developer</td>\n",
       "      <td>3167</td>\n",
       "      <td>{\\n  \"Core Responsibilities\": \"Build and layo...</td>\n",
       "    </tr>\n",
       "  </tbody>\n",
       "</table>\n",
       "</div>"
      ],
      "text/plain": [
       "  company_name                                    job_description  \\\n",
       "0       Google  minimum qualifications\\nbachelors degree or eq...   \n",
       "1        Apple  description\\nas an asc you will be highly infl...   \n",
       "2      Netflix  its an amazing time to be joining netflix as w...   \n",
       "3  Robert Half  description\\n\\nweb designers looking to expand...   \n",
       "4    TrackFive  at trackfive weve got big goals were on a miss...   \n",
       "\n",
       "                              position_title  description_length  \\\n",
       "0                           Sales Specialist                2727   \n",
       "1                 Apple Solutions Consultant                 828   \n",
       "2  Licensing Coordinator - Consumer Products                3205   \n",
       "3                               Web Designer                2489   \n",
       "4                              Web Developer                3167   \n",
       "\n",
       "                                      model_response  \n",
       "0   {\\n  \"Core Responsibilities\": \"Responsible fo...  \n",
       "1   {\\n  \"Core Responsibilities\": \"as an asc you ...  \n",
       "2   {\\n  \"Core Responsibilities\": \"Help drive bus...  \n",
       "3   {\\n  \"Core Responsibilities\": \"Designing webs...  \n",
       "4   {\\n  \"Core Responsibilities\": \"Build and layo...  "
      ]
     },
     "execution_count": 10,
     "metadata": {},
     "output_type": "execute_result"
    }
   ],
   "source": [
    "job_ds_features.head()"
   ]
  },
  {
   "cell_type": "code",
   "execution_count": 11,
   "metadata": {},
   "outputs": [],
   "source": [
    "# get Job descriptions\n",
    "\n",
    "import random\n",
    "\n",
    "def get_job_profiles(num_of_jobs=5, where='top'):\n",
    "\n",
    "    \"\"\" returns num_of_jobs job profiles from where location in dataset\"\"\"\n",
    "    if where == \"top\":\n",
    "        return job_ds_features.iloc[:num_of_jobs]\n",
    "    elif where == \"bottom\":\n",
    "        return job_ds_features.iloc[-num_of_jobs:]\n",
    "    elif where == \"shuffle\": # random\n",
    "        idx = random.choices(range(0, len(job_ds_features)), k=num_of_jobs)\n",
    "        return job_ds_features.iloc[idx]\n",
    "\n",
    "    "
   ]
  },
  {
   "cell_type": "code",
   "execution_count": 53,
   "metadata": {},
   "outputs": [
    {
     "data": {
      "text/html": [
       "<div>\n",
       "<style scoped>\n",
       "    .dataframe tbody tr th:only-of-type {\n",
       "        vertical-align: middle;\n",
       "    }\n",
       "\n",
       "    .dataframe tbody tr th {\n",
       "        vertical-align: top;\n",
       "    }\n",
       "\n",
       "    .dataframe thead th {\n",
       "        text-align: right;\n",
       "    }\n",
       "</style>\n",
       "<table border=\"1\" class=\"dataframe\">\n",
       "  <thead>\n",
       "    <tr style=\"text-align: right;\">\n",
       "      <th></th>\n",
       "      <th>company_name</th>\n",
       "      <th>job_description</th>\n",
       "      <th>position_title</th>\n",
       "      <th>description_length</th>\n",
       "      <th>model_response</th>\n",
       "    </tr>\n",
       "  </thead>\n",
       "  <tbody>\n",
       "    <tr>\n",
       "      <th>1549</th>\n",
       "      <td>Public Consulting Group  United States   Remote</td>\n",
       "      <td>senior project manager  education\\njob locatio...</td>\n",
       "      <td>Senior Project Manager - Education</td>\n",
       "      <td>3387</td>\n",
       "      <td>{\\n  \"Core Responsibilities\": \"Serve as a pro...</td>\n",
       "    </tr>\n",
       "    <tr>\n",
       "      <th>860</th>\n",
       "      <td>Zander Insurance Agency</td>\n",
       "      <td>job description\\n\\nzander insurance group is o...</td>\n",
       "      <td>Web Designer</td>\n",
       "      <td>2896</td>\n",
       "      <td>{\\n  \"Core Responsibilities\": \"Design compell...</td>\n",
       "    </tr>\n",
       "    <tr>\n",
       "      <th>480</th>\n",
       "      <td>SBM Management Services, LP</td>\n",
       "      <td>description\\n\\nposition at sbm management\\n\\ns...</td>\n",
       "      <td>Site Administrative Assistant</td>\n",
       "      <td>1842</td>\n",
       "      <td>{\\n  \"Core Responsibilities\": \"Support site m...</td>\n",
       "    </tr>\n",
       "    <tr>\n",
       "      <th>1289</th>\n",
       "      <td>Vera Institute of Justice</td>\n",
       "      <td>who we are\\n\\nthe vera institute of justice fo...</td>\n",
       "      <td>Systems Administrator, IT (Brooklyn, NY)</td>\n",
       "      <td>6878</td>\n",
       "      <td>{\\n  \"Core Responsibilities\": \"Responsible fo...</td>\n",
       "    </tr>\n",
       "    <tr>\n",
       "      <th>1054</th>\n",
       "      <td>Magic Transport, Inc</td>\n",
       "      <td>company profile freight forwarder  consolidato...</td>\n",
       "      <td>General Office Clerk / Data Entry</td>\n",
       "      <td>478</td>\n",
       "      <td>{\\n  \"Core Responsibilities\": \"General office...</td>\n",
       "    </tr>\n",
       "  </tbody>\n",
       "</table>\n",
       "</div>"
      ],
      "text/plain": [
       "                                         company_name  \\\n",
       "1549  Public Consulting Group  United States   Remote   \n",
       "860                           Zander Insurance Agency   \n",
       "480                       SBM Management Services, LP   \n",
       "1289                        Vera Institute of Justice   \n",
       "1054                             Magic Transport, Inc   \n",
       "\n",
       "                                        job_description  \\\n",
       "1549  senior project manager  education\\njob locatio...   \n",
       "860   job description\\n\\nzander insurance group is o...   \n",
       "480   description\\n\\nposition at sbm management\\n\\ns...   \n",
       "1289  who we are\\n\\nthe vera institute of justice fo...   \n",
       "1054  company profile freight forwarder  consolidato...   \n",
       "\n",
       "                                position_title  description_length  \\\n",
       "1549        Senior Project Manager - Education                3387   \n",
       "860                               Web Designer                2896   \n",
       "480              Site Administrative Assistant                1842   \n",
       "1289  Systems Administrator, IT (Brooklyn, NY)                6878   \n",
       "1054         General Office Clerk / Data Entry                 478   \n",
       "\n",
       "                                         model_response  \n",
       "1549   {\\n  \"Core Responsibilities\": \"Serve as a pro...  \n",
       "860    {\\n  \"Core Responsibilities\": \"Design compell...  \n",
       "480    {\\n  \"Core Responsibilities\": \"Support site m...  \n",
       "1289   {\\n  \"Core Responsibilities\": \"Responsible fo...  \n",
       "1054   {\\n  \"Core Responsibilities\": \"General office...  "
      ]
     },
     "execution_count": 53,
     "metadata": {},
     "output_type": "execute_result"
    }
   ],
   "source": [
    "n_jds = get_job_profiles(5, \"shuffle\")\n",
    "n_jds"
   ]
  },
  {
   "cell_type": "code",
   "execution_count": 54,
   "metadata": {},
   "outputs": [
    {
     "data": {
      "text/plain": [
       "3387"
      ]
     },
     "execution_count": 54,
     "metadata": {},
     "output_type": "execute_result"
    }
   ],
   "source": [
    "len(n_jds['job_description'].iloc[0])"
   ]
  },
  {
   "cell_type": "markdown",
   "metadata": {},
   "source": [
    "#### Chunking "
   ]
  },
  {
   "cell_type": "code",
   "execution_count": 14,
   "metadata": {},
   "outputs": [],
   "source": [
    "# splitting into small texts can also improve vector store search results, as smaller segments might be more likely to match query\n",
    "text_splitter = RecursiveCharacterTextSplitter(\n",
    "    chunk_size=1000,\n",
    "    chunk_overlap=0,\n",
    ")\n"
   ]
  },
  {
   "cell_type": "code",
   "execution_count": 55,
   "metadata": {},
   "outputs": [],
   "source": [
    "resumes_data = list(pdfs_relevant.values())\n",
    "resumes_metadata = [{'doc_src': src} for src in pdfs_relevant.keys()]\n",
    "\n",
    "resume_documents = text_splitter.create_documents(resumes_data, metadatas=resumes_metadata)"
   ]
  },
  {
   "cell_type": "code",
   "execution_count": 56,
   "metadata": {},
   "outputs": [
    {
     "data": {
      "text/plain": [
       "[Document(page_content='Expert in customer relations\\nPortfolio management\\n\\nA\\n\\nAccomplishments\\n\\nProficient in Microsoft Office\\nMicrosoft Excel expert\\nRisk management expertise\\n\\nFinancial statement analysis\\n\\nGeneral ledger accounting\\n\\nAchieved an internal audit score of 95%.\\n\\nPromoted to Auditor after just 3 months of employment.\\n\\nBoosted quality ratings by 85% by developing new processes and improving work flow.\\n\\nAccounting Certificate : Accounting , 2012 Cecil County Community College ï¼\\u200b City , State\\nPerforming Payroll in QuickBooks 2009 Certificate : Payroll , 2012 Cecil County Community College ï¼\\u200b City , State\\nBachelor of Science : General Studies , 2011 Wilmington University ï¼\\u200b City , State , New Castle County\\n\\nGeneral Studies', metadata={'doc_src': 'es/acc.pdf'}),\n",
       " Document(page_content='Accounting, balance, budget, business analyst, Call Center, Cash Management, closing, contracts, Critical Thinking, client, clients, databases,\\ndatabase, documentation, Financial, financial statements, leadership, Team Lead, marketing, excel, mail, MS Office Suites, Payroll, policies,\\nprocesses, progress, Quality Assurance, QuickBooks, relationship management, reporting, research, Risk Management, SAP, securities, statistics,\\nsupervisor, phone, written', metadata={'doc_src': 'es/acc.pdf'}),\n",
       " Document(page_content='High School Diploma : Business/ Computers Camden County High School ï¼\\u200b City , State\\n\\nAdministrative\\nCash handling\\nExcellent communication\\ninterpersonal skills\\nDetail-oriented merchandising\\nSelf-motivated\\n70 WPM', metadata={'doc_src': 'es/advo.pdf'}),\n",
       " Document(page_content='High School Diploma : General 2013 Rota High School City , State\\nBachelor of Arts : Elementary Education 2017 University of Portland City , State\\n\\nUniversity of Portland Student. Majoring in Elementary Education, Class of 2017. ARMY ROTC. Kappa Delta Pi Honor Society Officer.\\n\\nAffiliations\\n\\nPortland Helping Hands and Family Homeless Shelter\\n\\n\\nPublic Speaking, Student Involvement, and Organizational', metadata={'doc_src': 'es/agri.pdf'}),\n",
       " Document(page_content='Bachelor of Science : Petroleum Engineering , Jul Texas A&M University ï¼\\u200b City , State Petroleum Engineering\\n[Number] GPA \\n\\nSolid Works, CAD, Matlab and MS Office\\nProcess Implementation\\n\\nLanguages\\nEnglish, Portuguese, Spanish)\\nCAD, delivery, English, ERP, forecasting, functional, inspection, Inventory, leadership skills, logistics, materials, Matlab, MS Office, personnel,\\nPortuguese, pricing, Procurement, Production Manager, proposals, Purchasing, qualitative research, quality, Fast learner, Receiving, Sales,\\nShipping, Solid Works, Spanish, specification, Strategy & Planning, Supply Chain', metadata={'doc_src': 'es/apparel.pdf'}),\n",
       " Document(page_content=\"Associate of Science : Liberal Arts Science and Mathematics , 2015 SUNY Adirondack ï¼\\u200b City , State\\nDean's List\\nGraduated Cum Laude\\nBachelor of Science : Environmental Technology and Management , 2018 North Carolina State University ï¼\\u200b City , State\\nProjects: Richard R. Lee Estate (Clayton, NC) Phase III Environmental Site Assessment\\n\\nCustomer Service\\nManagement\\nInventory Management\\nCommunication\", metadata={'doc_src': 'es/arts.pdf'}),\n",
       " Document(page_content=\"J.D. , Law 2016 St. Mary's University ï¼\\u200b City , State\\n\\nCoursework in Criminal JusticeÂ \\nLegal License Pending November 2016\\n\\nBachelor of Arts , English Literature 2000 Texas A&M University - College ï¼\\u200b City , State , USA English Literature\\nTraining\\n\\nRisk ManagementÂ and Insurance coursework\\nExtensive training in auto insurance terminology/ processes (parts, repair and medical procedures)\\nTexas and other state's regulations\\nCustomer Service Delivery\\nCommercial Specific Issues\\n\\nInterpersonal and communication,Â  Customer service, File management, Insurance, Legal Research & Writing, Litigation, Mediation, Medical\\nrecord review, High level claim evaluation, Commercial needs, Â Negotiation, Processes, Quality assurance, Risk Management, Settlements,\\nStrategy\", metadata={'doc_src': 'es/automobile.pdf'}),\n",
       " Document(page_content='Test equipment operation\\nDiagnostic testing\\n\\nWorked to meet current FAA electrical codes and company guidelines.\\nInstalled wiring and electrical appliances for commercial and military aircraft with a 40% ahead-of-schedule rate.\\nScheduled and tracked all repairs.\\nSupervised team of three staff members.\\nMounted assembled components on circuit board at a rate of 100 per shift.\\nServed as an expert in troubleshooting and repairing state-of-the-art electrical and electronic systems.\\n\\nGED : 2005 T.C.C South Campus ï¼\\u200b City , State , USA GPA: GPA: 3.0\\n\\nGPA: 3.0\\n\\nElectronics Troubleshooting Diploma : Avionics Electrical Technician , 2007 Army Aviation School of Logistics ï¼\\u200b City , State , USA\\n\\nMinor in Avionics Operation and Theory and electronic troubleshooting.\\n\\n3.0 GPA\\n\\nCoursework in A/C And D/C Emphasis onTheory and troubleshooting and Professional Training.\\n\\nAssociate of Science : Avionics Maintenance technology , 2011 Spartan College of Aeronautics ï¼\\u200b City , State , USA', metadata={'doc_src': 'es/aviation.pdf'}),\n",
       " Document(page_content='Member of AEA Club\\n\\n3.2 GPA\\n\\nPerfect Attendance Academic Achievement Award\\n\\nAEA Wiring Academic Achievement Award\\n\\nFAA Corrosion Control Academic Achievement Award\\n\\nCoursework in Avionics Maintenance Technology\\n\\nCoursework in Meteorology, Air Traffic Regulations and Air Navigation\\n\\nConduit Bending course\\n\\nCoursework in High-Voltage Cable Splicing, Qualified Rigging and Signaling\\n\\nCoursework in DC Electricity, AC Electricity and Electronics Theory\\n\\nDiploma in Electric Technology\\n\\n\\nWiring Troubleshooting, Army Ethos and Structure, Basic forms Interpretation, logistics, Excel,Electronic Component repairs,Wire routing,\\nInterpretation of schematics, Soldering, supervisor Skills, Service and Field Technician Skills , Test Equipment Operation , troubleshooting,\\nElectrical upgrades, Wiring Diagnostics and Repair.', metadata={'doc_src': 'es/aviation.pdf'}),\n",
       " Document(page_content='Solid communication, interpersonal, time management, organizational, and leadership skills.\\n\\nMinnesota State University 1988 Bachelor of Science : Business Administration City , State \\nAdditional Information\\n\\nS.A.F.E. MORTGAGE NMLS # 533306\\nINACTIVE LICENSES Â· Series 7, 66, 63 Â· Life, Accident and Health Insurance Â·', metadata={'doc_src': 'es/bank.pdf'}),\n",
       " Document(page_content='Bachelor of Science : Social Science Portland State University ï¼\\u200b City , State Social Science\\naccount management, b2b, balance, budgets, budget, business development, Business Intelligence, contract negotiations, Clientele, client, clients,\\nCustomer Services, customer service, e-Commerce, executive management, senior management, financial, Gateway, Help Desk, HP, hiring,\\nKronos, leadership, Director, marketing, market, materials, meetings, Enterprise, optimization, performance reviews, policies, proposals, speaking,\\nquality, QA, Quality Assurance, real-time, real time, recruiting, Reporting, Sales, scheduling, specification, staffing, Symantec, technical support,\\ntelecommunications, training materials', metadata={'doc_src': 'es/bpo.pdf'}),\n",
       " Document(page_content=\"2007\\nHOBART COLLEGE City , State Bachelor of Arts : English English\\nMay 2007\\nMedia and Society Media and Society\\nInterests\\nMember, Men's Club Ice Hockey (2003 - 2007), devoted 12 hours per week in practice and competition Volunteer, Political Activism House\\n(2004), organized and conducted voter registration drives for college students 1999-2003 THE DELBARTON SCHOOL Morristown, NJ\\nMember, Men's Varsity Ice Hockey (NJ State Champions - 2002) New Jersey Hockey Hall of Fame inductee - 2014\\nAdditional Information\\n\\nMember, Men's Club Ice Hockey (2003 - 2007), devoted 12 hours per week in practice and competition Volunteer, Political Activism\\nHouse (2004), organized and conducted voter registration drives for college students 1999-2003 THE DELBARTON SCHOOL\\nMorristown, NJ Member, Men's Varsity Ice Hockey (NJ State Champions - 2002) New Jersey Hockey Hall of Fame inductee - 2014\", metadata={'doc_src': 'es/bus_dev.pdf'}),\n",
       " Document(page_content='ads, advertising, Avid, budgets, Budget, business strategies, cable, cash flow, coach, client management, content, contracts, SC, client, clients,\\ncustomer service, database analysis, email, Financial, Investments, market, meetings, Microsoft Excel, Power Point, Microsoft Word, network,\\nNetworks, new business development, newsletters, Personnel, producing, profit, radio, Research, Sales, phone, television, video', metadata={'doc_src': 'es/bus_dev.pdf'}),\n",
       " Document(page_content='Sound judgment\\nComputer-savvy\\nProcess improvement\\nTeam building\\nStaff motivator\\nBusiness recovery and sustainability\\nConflict resolution\\nMedia marketing\\nCost reduction\\nBudget allocation\\n\\nAssociate Degree : Applied Food Science and Culinary Arts/Food and Beverage Management , May 2008 Johnson & Wales University ï¼\\u200b City ,\\nState , GPA 3.4 GPA: GPA: 3.4\\nCertification : Food Safety and Sanitation , 2008 Johnson and Wales ï¼\\u200b City , State\\nCertification : National Beverage Service and Bartending , 2008 Johnson and Wales ï¼\\u200b City , State\\n\\nAffiliations\\n\\nFuture Business Leaders of America Scholarship\\n\\nFederal Work Study Program Award\\n\\nJohnson and Wales Achievement Scholarship\\n\\n\\nBudgeting, Multi-Business Operations Management, New Business Development, Profit Generation, Food Safety, Quality Management,\\nCustomer Relations, Vendor Negotiations, Vendor Partnerships, Time and Resource Optimization, Inventory Control and Management, Weekly\\nPayroll, Policies, Safety, Work Flow', metadata={'doc_src': 'es/chef.pdf'}),\n",
       " Document(page_content='AWS Certified CWI (Certificate # 08110741) API Certified TES (Certificate # 32697) API Certified 653 (Certificate # 42276) ASNT Level III\\n(Certificate # 245052)\\nAPI, Auto-Cad, closing, Inspector, materials, Excel, Microsoft Word, new construction, personnel, procurement, quality control, sales,\\nscheduling, shell, technical support, Weld, Welder', metadata={'doc_src': 'es/construction.pdf'}),\n",
       " Document(page_content=\"Ph.D : International Relations Oxford Brookes University International Relations\\n2012\\nPhD International Relations in progress - Final Drafting phase *Awarded John Henry Brookes fees-based scholarship\\nDecember 2016\\nMaster of Arts : International Studies Oxford Brookes University GPA: Dissertation: Deconstructive Analyses of the Failed State Discourse in its\\nHistorical Bases and Contemporary Form(s) and Implications for International Security: the Case of Afghanistan Dissertation: Deconstructive\\nAnalyses of the Failed State Discourse in its Historical Bases and Contemporary Form(s) and Implications for International Security: the Case of\\nAfghanistan International Studies\\nM.A : International Studies (Security focus) GPA: Top 5% of class, graduating with distinction honors *Dissertation title: Toward a Genealogy of\\nthe 'Failed State' Discourse International Studies (Security focus) Top 5% of class, graduating with distinction honors *Dissertation title: Toward a\", metadata={'doc_src': 'es/consultant.pdf'}),\n",
       " Document(page_content=\"Genealogy of the 'Failed State' Discourse\\nBachelor of Science : Political Science & Global Studies South Dakota State University ï¼\\u200b City , State , United States Political Science & Global\\nStudies\\nB.S : Political Science and Global Studies Cultural Geography Political Science and Global Studies Cultural Geography\\nAdvanced coursework in Cultural Geography, International Relations and Organizations. GPA: Scholarship - Dr. John Henrickson Award -\\nAwarded twice for academic achievement in field of Political Science: 2005 - 2007. *Graduated with Cum Laude honors. Scholarship - Dr. John\", metadata={'doc_src': 'es/consultant.pdf'}),\n",
       " Document(page_content='Henrickson Award - Awarded twice for academic achievement in field of Political Science: 2005 - 2007. *Graduated with Cum Laude honors.\\nPublications\\nSzarkowski, S. \"Dominant Voice, Dominant Silence: Foucault\\'s Governmentality and the US-Pakistan Relationship\" published in CASS 2009\\nConference Proceedings: \"Voices: Postgraduate Perspectives on Interdisciplinarity\". Presented at and published by the University of Aberdeen\\n2009 Szarkowski, S. \"On the Need for Critical Reflexivity, Or: A One-Eyed King in the Land of the Blind\" Paper Presented at CASS 2011,\\nUniversity of Aberdeen 2011 Szarkowski, S. \"Historical Legacies, Identity Constructions, and Security Policy for Failed States: the Afghanistan\\nCase\" Paper presented to the International Studies Association, San Franciso 2013\\nad, Articulate, budget, concise, conferences, Consulting, Copy Editing, client, clients, Data collection, Data Entry, Drafting, Editor, Editorial, fast,', metadata={'doc_src': 'es/consultant.pdf'}),\n",
       " Document(page_content='finance, Fundraising, Government, Law Enforcement, Leadership, team leader, managing, materials, media relations, money, MOS, Networking,\\nnewsletters, personnel, Personnel Management, Policy Analysis, presentation skills, PRIME, problem solving, progress, Project Management,\\npublic relations, Public Speaking, Quantitative Analysis, reporting, Research, Security Clearance, seminars, SOP, stories, workshops, writer', metadata={'doc_src': 'es/consultant.pdf'}),\n",
       " Document(page_content='Masters : Business Administration United States University City , State Business Administration\\nOrganizational Behavior, Data & Information Systems Management, and HR Administration.\\nMasters : Fashion Design March 2014 FIDM/Fashion Institute of Design & Merchandising City , State GPA: Cum Laude Fashion Design Cum\\nLaude\\nPattern Making, Garment Construction, Computer Aided Designing, Technical Drawing, and Draping and Sewing.\\nBachelors of Engineering : Textile Technology June 2010 RGPV University City , State , India GPA: Magna Cum Laude Textile Technology\\nMagna Cum Laude\\nKnitting and Garment Construction, Fabric Construction (Woven and Knits), Fabric Printing and Finishing, and Textile Testing. Gimatex Industries\\nPvt. Ltd., Maharashtra, India Spinning, Weaving and Garment Construction Trained in manufacturing the yarn, utilizing that yarn to fabricate fabric,', metadata={'doc_src': 'es/designer.pdf'}),\n",
       " Document(page_content='lastly utilizes that fabric to design a garment. Paper on Technical Textiles. This paper presents different type of technical textiles, their\\nmanufacturing, finishing, and end uses.\\nphoto, Photoshop, CAD, catalog, Color, Designing, Fashion, Drawing, HR, Illustrator, Information Systems, materials, meetings, Organizational,\\nDesign process, quality, research, collecting samples, Trend, type', metadata={'doc_src': 'es/designer.pdf'}),\n",
       " Document(page_content=\"Bachelor's : Public Relations, Business University of Louisiana at Lafayette ï¼\\u200b City , State , US University of Louisiana at Lafayette, Lafayette LA\\nPublic Relations/Liberal Arts, May 2014 Bachelor's degree in Public Relations with a minor in Business\\nAccomplishments\", metadata={'doc_src': 'es/dig_media.pdf'}),\n",
       " Document(page_content=\"As part of one of my last core Communications classes at The University of Louisiana at Lafayette, better known as Campaigns 490, students\\nwere divided into 5 teams of 5 to create a campaign for a specific client, the ULL Communication Department. The proposal was to increase\\nrecruitment numbers by 20% in the next year. Each member of the team had a unique job and mine was Editor, which entailed reviewing,\\nproofreading, and finalizing the group's final written reports and social media sites. After a semester of gathering and analyzing research, developing\\na campaign based on objectives, creating a new branded image and evaluating the plan for the department, the Department of Communication\\nchose our campaign as the winning group proposal\\nProfessional Affiliations\\nTHE ANDRÃ‰ COMEAUX CAMPAIGN , Lafayette, LA\\nAssociate, Basis, Greeting, Inventory, Monthly Sales, Sales, Sales Associate, Sales Or, Stocking, Marketing, Posting, Clients, Filing, Increase,\", metadata={'doc_src': 'es/dig_media.pdf'}),\n",
       " Document(page_content='Liaison, Problem Solver, Proofreading, Recruitment, Very Organized, Games, Promotional, Public Relations', metadata={'doc_src': 'es/dig_media.pdf'}),\n",
       " Document(page_content='5 years of experience with CAD packages (SolidWorks, Autodesk Inventor, AutoCAD, CATIA, PTC CREO)\\n2.5 years of experience with CAE Softwares (HyperMesh, Abaqus, ANSYS, Optistruct)\\n2.5 years of experience with Analysis (Linear & Non-linear Static, Dynamic, GD & T, Tolerance Analysis, Design Optimization)\\nExperience with Sheet metal, Design for manufacturing, generating Bill of Materials, DFMEA, Sculpting.\\nExperience with advanced material selection for rapid prototyping, advanced manufacturing, welding and 3D printing.', metadata={'doc_src': 'es/engg.pdf'}),\n",
       " Document(page_content=\"May 2017\\nMaster's : Mechanical & Aerospace Engineering Illinois Institute of Technology (IIT) ï¼\\u200b City , State Mechanical & Aerospace Engineering 3.5/4.0\\nAdvanced CAD/CAM, Engineering Analysis, Finite Element Analysis, Advanced Manufacturing\\nMay 2014\\nBachelor of Technology : Mechanical Engineering Narsee Monjee Institute of Management Studies ï¼\\u200b City India Mechanical Engineering 3.19/4.0\\n3D, ANSYS, AutoCAD, automation, Automotive, CAD/CAM, CAD, CATIA, Dec, Engineering Analysis, lathe, Manufacturing process,\\n\\n\\x0cMaterials, material selection, Oil, Optimization, pick, prototyping, Robotic, safety, simulation, SolidWorks, SPC, statistical analysis, welding\", metadata={'doc_src': 'es/engg.pdf'}),\n",
       " Document(page_content='Accounting, computerized accounting, general accounting, accounts payable, accounts receivable, trial balance, banking, benefits, billing, budgets,\\nBudget, Cancer, cash management, closing, coaching, contracts, Client, customer service, decision making, documentation, Senior Management,\\nfiling, Finance, Financial, financial analysis, financial audits, financial statements, Prepare financial statements, funds, general ledger, grants, Human\\nResource, Insurance, interpretation, investments, legal, Director, meetings, mentoring, Excel, Microsoft Office, Office, negotiating, operating\\nsystem, payroll, payroll processing, performance analysis, Personnel, personnel management, policies, Primary Care, profit, project management,\\nQuickBooks, reconciling, reporting, securities, staffing, strategic, Strategic Planning, supervising, tax returns, treasury, valuation, vision\\nCore Qualifications\\nProficient with various computerized accounting software, Microsoft Office, and investment software. .', metadata={'doc_src': 'es/finance.pdf'}),\n",
       " Document(page_content='Masters : Business Administration SOUTHERN NEW HAMPSHIRE UNIVERSITY (New Hampshire College Graduate School of Business)\\nBusiness Administration\\nB.S : Office Administration Accounting SOUTHERN NEW HAMPSHIRE UNIVERSITY (New Hampshire College) GPA: with Honors with\\nHonors Office Administration Accounting', metadata={'doc_src': 'es/finance.pdf'}),\n",
       " Document(page_content='Master of Science : Nursing/Master of Business Administration University of Phoenix Academic Achievement Master of Science in\\nNursing/Master of Business Administration- Healthcare University of Phoenix\\nBachelor of Science : Nursing Valparaiso University Bachelor of Science in Nursing Valparaiso University\\nBachelor of Science : Exercise Science Ball State University Bachelor of Science in Exercise Science Ball State University\\nCertifications/Awards/Memberships â–ª RN licenses in AZ, PA, FL, MO â–ª Licensed Healthcare Risk Manager â–ª BLS/ACLS â–ª CEO\\nService Award, 2009\\nCertifications\\nLicensed Healthcare Risk Manager RN CPR BLS ACLS\\nAffiliations\\nof the enterprise team for improvement, integration, and training of the EMR system', metadata={'doc_src': 'es/fitness.pdf'}),\n",
       " Document(page_content='Asc, Qa, Emr, Pharmacy, Infection Control, Metrics, Risk Management, Satisfaction, Staffing, Trading, Training, Auditing, Instrumentation,\\nIntegration, Integrator, Medical Device, Operations, Process Improvement, Quality Assurance, Rn, Icu, Critical Care, Icp, Titration, Radiation\\nSafety, Rn/, Scheduling, Team Lead, Cpr, Instructor, Million, Increase, Medical Assistant, Cardiac, Cardiovascular, Model-view-presenter, Mvp,\\nHealthcare, Acls, Award', metadata={'doc_src': 'es/fitness.pdf'}),\n",
       " Document(page_content='PROVEN ADMINISTRATIVE HIGHLY ORGANIZED\\nLEADERSHIP SUPPORT EVENT PLANNING\\nENTREPRENEURIAL CONFLICT PUBLIC SPEAKING\\nMINDSET RESOLUTION PROJECT STAFFING\\nTEAM LEADERSHIP REPORTING AND\\nSELF DIRECTED DOCUMENTATION\\nOUTBOUND CALLING PROSPECTING\\nAccount Management\\nAcquisitions\\nADMINISTRATIVE\\nContracts\\nClientele\\nCustomer satisfaction\\nCustomer\\nSsatisfaction\\nDecision making\\n\\nDOCUMENTATION\\nEVENT PLANNING\\nInventory\\nTEAM LEADERSHIP\\nLEADERSHIP\\nDirector\\nManaging\\nMarketing plans\\nMarketing\\nMarket\\nMergers\\nCommunicator\\nOrganizational skills\\nProblem-solving\\nPUBLIC SPEAKING\\nRecruitment\\nRelationship-building\\nREPORTING\\nSales\\nSTAFFING\\nStrategic\\nStrategic planning\\nTeam player\\n\\nBachelor of Arts : Business Administration And Public Relations , 1995 \\nHeidelberg College - City , State', metadata={'doc_src': 'es/healthcare.pdf'}),\n",
       " Document(page_content='Account Management, acquisitions, ADMINISTRATIVE, contracts, clientele, customer satisfaction, customer\\nSsatisfaction, decision making, DOCUMENTATION, EVENT PLANNING, inventory, TEAM LEADERSHIP, LEADERSHIP, Director,\\nmanaging, marketing plans, marketing, market, mergers, communicator, organizational skills, problem-solving, PUBLIC SPEAKING, recruitment,\\nrelationship-building, REPORTING, Sales, STAFFING, strategic, strategic planning, team player\\nAdditional Information', metadata={'doc_src': 'es/healthcare.pdf'}),\n",
       " Document(page_content='Experienced, multi-faceted business professional with ability to quickly generate business results. Seeking a position with Abbott for the\\nTerritory Sales Position in Tacoma,WA.\\nAdept at attending job related conventions and managing special company events to attract candidates. Top-notch skills in relationship-\\nbuilding, problem-solving and decision making. Open and clear communicator with collaborative and hardworking style. Membership\\nEnrollment Director excelling at customer satisfaction and retention. Flexible and hardworking in deadline driven environments. Energetic\\nteam player with top launch organizational skills.\\nIntensive 3 Week training program in Radnor, PA', metadata={'doc_src': 'es/healthcare.pdf'}),\n",
       " Document(page_content='Master of Public Administration 2012 National Institute of Development Administration (NIDA)\\nComprehensive English Course under Cultural Exchange Program 2007 City , State , USA\\nBachelor of Education 2002 Chulalongkorn University\\nAccomplishments\\n\\nComplete ongoing training in the areas of :- Human Resource Management (PM and APM Certification Course) Analytical Problem Solving\\nand Prevention * Tax ISO/TS 16949 & ISO 14001 requirements * Leadership Competency and Work Performance Appraisal * Labor\\nLaw Balance Scorecard and KPI * Happy Work Place Welfare and Salary Structure * Recruitment Compensation and Benefit Corrective\\nand Preventive Action By 8D report and Why Why Analysis Technique Safety Supervisor Level Software Expertise Efficient in MS Office\\npackage and surfing internet.', metadata={'doc_src': 'es/hr.pdf'}),\n",
       " Document(page_content='Administrative, administrative support, advertising, as set, benefits, business plan, clarify, Good communication skills, Interpersonal Skills,\\ncontinuous improvement, decision making, English, Film, hiring, Human Resource, HR, law, legal compliance, Managerial, Managing, Exchange,\\norganizational, payroll, performance appraisal, performance management, personnel, policies, processes, procurement, progress, promotion,\\nspeaking, purchase requisitions, Purchasing, Recruitment, recruiting, reporting, scheduling, strategic, strategic plans, Type, workflow', metadata={'doc_src': 'es/hr.pdf'}),\n",
       " Document(page_content='Associate of Science : Information Technology , 2014 Lyons Township ï¼\\u200b City , State , United States Information Technology\\nHigh School Diploma General Education\\nCoursework in computer science all 4 years GPA: Diamond Achievement Academic award * Honor Roll Diamond Achievement Academic\\naward * Honor Roll\\nA+ certified, ActionScript, Active directory, administrative, Adobe Creative Suite 5, Photo, Audio, Brochure, budgeting, business management,\\nclient and server, CMS, Hardware, computer repair, consulting, Content Management, CSS, CSS3, client, Database, designing, Documentation,\\nElectronics, XML, Graphics, Hardware support, HTML, HTML5, PHP, Information security, Java, Java programming, JavaScript, Linux, Logic,\\nLogo, Mac OS, managing, marketing, Medical technology, Microsoft Office, office, Windows, Windows 95, Network engineering, network,\\nNetworking, newsletter, Operating Systems, Organization development, Programming, protocols, Prototyping, Search Engine Optimization,', metadata={'doc_src': 'es/it.pdf'}),\n",
       " Document(page_content='servers, Storyboarding, TCP/IP, Telephony, Phone 7.0, Troubleshooting, upgrade, video, video editing, Web Development I, Website, website\\nmanagement, Windows Server, Wiring', metadata={'doc_src': 'es/it.pdf'}),\n",
       " Document(page_content=\"Bachelor of Arts : Strategic Communications May 2014 Elon University City , State GPA: GPA: 3.71 Graduated Magna Cum Laude Dean's List\\nFall 2010, Spring 2011, Spring 2012, President's List Fall 2012, Spring 2013, Fall 2013; Spring 2014 Inducted into National Communications\\nAssociation, Lambda Pi Eta Inducted into National Social Science Honor Society, Pi Gamma Mu Inducted into the International Sociology Honor\\nSociety, Alpha Kappa Delta\\n\\nStrategic Communications GPA: 3.71 Graduated Magna Cum Laude Dean's List Fall 2010, Spring 2011, Spring 2012, President's List Fall 2012,\\n\\n\\x0cStrategic Communications GPA: 3.71 Graduated Magna Cum Laude Dean's List Fall 2010, Spring 2011, Spring 2012, President's List Fall 2012,\\nSpring 2013, Fall 2013; Spring 2014\\n\\nInducted into National Communications Association, Lambda Pi Eta\\nInducted into National Social Science Honor Society, Pi Gamma Mu\\n\\nInducted into the International Sociology Honor Society, Alpha Kappa Delta\", metadata={'doc_src': 'es/pr.pdf'}),\n",
       " Document(page_content='Interests\\nMember of Public Relations Student Society of America - \"1000 Thanks\" Program Contributor Received over 1500 thank-you cards from\\nuniversity community (Fall 2013) Completed service-learning work with nonprofit organization, Sustainable Alamance, helped plan and coordinate\\nan event that helped raise over $1,000. Volunteered with Elon University\\'s Student Government Association to promote their organization\\nMember of academic organization, Theta Psi Alpha (Spring 2013) House Representative in The Station at Mill Point residence community (Fall-\\nSpring 2013) Study Abroad: Studied ecotourism abroad in Australia for winter term in January 2014. Visited the cities of Sydney, Brisbane,\\nCairns, Melbourne, and Tasmania and learned about sustainable travel and tourism. Relevant Coursework: Communications in a Global Age,\\nMedia Writing, Strategic Campaigns, Health Communications, Public Relations & Civic Responsibility, Digital Media Convergence, Strategic', metadata={'doc_src': 'es/pr.pdf'}),\n",
       " Document(page_content='Writing, Communication Research, Corporate Publishing, Capstone in Communications, Advertising in Society, Intro to Marketing\\nAdditional Information', metadata={'doc_src': 'es/pr.pdf'}),\n",
       " Document(page_content='Past Extracurricular Activities: Member of Public Relations Student Society of America - \"1000 Thanks\" Program Contributor Received\\nover 1500 thank-you cards from university community (Fall 2013) Completed service-learning work with nonprofit organization,\\nSustainable Alamance, helped plan and coordinate an event that helped raise over $1,000. Volunteered with Elon University\\'s Student\\nGovernment Association to promote their organization Member of academic organization, Theta Psi Alpha (Spring 2013) House\\nRepresentative in The Station at Mill Point residence community (Fall-Spring 2013) Study Abroad: Studied ecotourism abroad in Australia\\nfor winter term in January 2014. Visited the cities of Sydney, Brisbane, Cairns, Melbourne, and Tasmania and learned about sustainable\\ntravel and tourism.\\n\\n\\nAdobe Photoshop,Illustrator, InDesign\\n\\nExperience with Cvent Crowdcompass\\' mobile application software\\n\\nMicrosoft Office\\n\\nConstant Contact, Mailchimp', metadata={'doc_src': 'es/pr.pdf'}),\n",
       " Document(page_content='High School Diploma : Required and Business 1977 Suncoast City , State , United States\\n\\nI was a member of DECA which is Distributive Education Clubs of America and I was able to work a part time job for school credits and\\nbusiness experience. My positions were managing a golf pro shop of a country club part time and working the late day shift as team leader for a\\nPublix Bakery Department.\\n\\n\\nInside and Outside Sales, Customer Service, Salesforce, Act, and Goldmine CRM, Allscripts Software, Outlook, Practice Fusion Software,\\nAppointment Setting, Cold Calling, Presenting, Closing and Client Retention. Database management, direct mail, insurance, marketing, reporting\\nand training and support.', metadata={'doc_src': 'es/sales.pdf'}),\n",
       " Document(page_content=\"Instructional Design, Teaching, Progress Monitoring, Course\\nDevelopment\\nEvernote, Slack, Social Media, Excel, Outlook, Adobe\\nPhotoshop\\nManagement: Staff, Projects, Daily Scheduling\\n\\nM. Ed : Teaching , 2016 \\nUniversity of California - Los Angeles - City , State \\n\\nMaster's degree Elementary Education and Teaching\\n\\nBachelor of Arts : Psychology , 2003 \\nThe University of New Mexico - City \\nStudio Arts Santa Monica College - City , State \\n\\nInstructional Design, Teaching, Progress Monitoring, Course Development\\n\\n\\x0cEvernote, Slack, Social Media, Excel, Outlook, Adobe Photoshop\\nManagement: Staff, Projects, Daily Scheduling\\n\\nFinancial Analysis, Security Trading, Portfolio Managament, Liability Structuring\\nResearch, Analysis, and Planning\", metadata={'doc_src': 'es/teacher.pdf'})]"
      ]
     },
     "execution_count": 56,
     "metadata": {},
     "output_type": "execute_result"
    }
   ],
   "source": [
    "resume_documents"
   ]
  },
  {
   "cell_type": "code",
   "execution_count": 134,
   "metadata": {},
   "outputs": [],
   "source": [
    "## Chunking job_descriptions\n",
    "job_des = list(n_jds['job_description'])\n",
    "model_response = list(n_jds['model_response'])\n",
    "\n",
    "jobs_data = []\n",
    "for i in range(len(job_des)):\n",
    "    needed_skills = model_response[i].split('\\n')\n",
    "    needed_skills = \"\\n\".join([ns.strip(\",\") for ns in needed_skills][1:4])\n",
    "    complete_job_des = needed_skills + \"\\n\" + job_des[i] \n",
    "    \n",
    "    jobs_data.append(complete_job_des)\n",
    "\n",
    "jobs_metadata = [{'company': comp, 'position': pos} for comp, pos in tuple(n_jds.apply(lambda row: (row['company_name'], row['position_title']), axis=1))]\n",
    "\n",
    "job_documents = text_splitter.create_documents(jobs_data, metadatas=jobs_metadata)"
   ]
  },
  {
   "cell_type": "code",
   "execution_count": 133,
   "metadata": {},
   "outputs": [
    {
     "name": "stdout",
     "output_type": "stream",
     "text": [
      "*****************************\n",
      "  \"Core Responsibilities\": \"Serve as a project manager across multiple special education professional development and consulting projects with local and state clients. Develops mechanisms for monitoring project progress and problem solving with content leads and client representatives. Oversees and coordinates multiple projects across the team to ensure each client's deliverables are met in a timely manner. Reviews status of projects and budgets, manages schedules, and prepares status reports. Investigates and analyzes clients processes, recommends solutions to meet the client's needs. Manages team client training schedule to optimize capacity and timelines, and collaborates with team to plan and execute new projects. Assigns tasks to project team members in collaboration with supervisor, monitors progress and completion, and reports any delays in delivery. Oversees operational aspects of ongoing projects including monitoring the team's business development strategies, maintenance of website and marketing materials, and serves as liaison between management and delivery team.\"\n",
      "  \"Required Skills\": \"Deep understanding of the Individuals with Disabilities Education Act (IDEA) and knowledge of best practices for implementing supports and services. Experience managing multiple partners to implement state and federal grants. Strong analytical skills and ability to organize and plan work efficiently within set time limits. Excellent ability to effectively communicate project status, issues and information to the client and project team. Experience managing social media platforms and websites. Strong Microsoft Office applications skills, preferably with Excel, Word, PowerPoint and Access.\"\n",
      "  \"Educational Requirements\": \"N/A\"\n",
      "senior project manager  education\n",
      "job locations\n",
      "us\n",
      "posted date\n",
      "\n",
      " days ago\n",
      "  pm\n",
      "job id   of openings  category operation support type regular fulltime practice area education services\n",
      "\n",
      "overview\n",
      "about public consulting group\n",
      "public consulting group inc pcg is a leading public sector solutions implementation and operations improvement firm that partners with health education and human services agencies to improve lives founded in  and headquartered in boston massachusetts pcg has over  professionals in more than  offices worldwideall committed to delivering solutions that change lives for the better the firm has four designated practice areas with extensive experience in all  states clients in six canadian provinces and a growing practice in europe often combining resources from two or more practice areas pcg offers clients a multidisciplinary approach to solve their challenges or pursue opportunities to learn more visit \n",
      " \n",
      "responsibilities\n",
      "serve as a project manager across multiple special education professional development and consulting projects with local and state clientsdevelops mechanisms for monitoring project progress and problem solving with content leads and client representativesoversees and coordinates multiple projects across the team to ensure each clients deliverables are met in a timely mannerreviews status of projects and budgets manages schedules and prepares status reportsinvestigates and analyzes clients processes recommends solutions to meet the clients needsmanages team client training schedule to optimize capacity and timelines and collaborates with team to plan and execute new projectsassigns tasks to project team members in collaboration with supervisor monitors progress and completion and reports any delays in deliveryoversees operational aspects of ongoing projects including monitoring the teams business development strategies maintenance of website and marketing materials and serves as liaison between management and delivery teamcoordinates and monitors multiple responses to current and prospective clients bids and requests for proposals lead all levels of staff to inform response and ensure ontime and complete delivery of proposalsassists in demonstrations of relevant products and services to current and prospective clients as expertise is requiredorganizes team business development strategy sessions and works closely with team supervisor to project manage development plans adjust strategy as needed and track team progressactively seeks understanding of other products and offerings organizes product learning sessions to familiarize full teameffectively engages colleagues and peers in the development and execution of strategies and work plans and effectively coachesleads other colleagues to do the same \n",
      "qualifications\n",
      "required skills\n",
      "deep understanding of the individuals with disabilities education act idea and knowledge of best practices for implementing supports and servicesexperience managing multiple partners to implement state and federal grantsstrong analytical skills and ability to organize and plan work efficiently within set time limitsexcellent ability to effectively communicate project status issues and information to the client and project teamexperience managing social media platforms and websitesstrong microsoft office applications skills preferably with excel word powerpoint and access\n",
      "------------------------\n",
      "  \"Core Responsibilities\": \"Design compelling direct response websites and digital content that supports the brand campaign objectives and drives measurable actions. Utilize knowledge of company products and services to create effective designs. Create designs compatible across devices. Create mockups and present ideas to stakeholders. Continually improve user experiences and drive revenue growth.\"\n",
      "  \"Required Skills\": \"2+ years of digital design experience driving online sales or marketing. Ability to communicate effectively with high-level clients. Able to thrive in a fast-paced, team environment. Open to new ideas and able to adapt quickly. Proficiency with Adobe Creative Suite including Photoshop, Illustrator, and InDesign. Experience with Sketch and UI wireframing. Ability to articulate design concepts. HTML/CSS/JS experience preferred but not required.\",  \n",
      "  \"Educational Requirements\": \"N/A\"\n",
      "job description\n",
      "\n",
      "zander insurance group is one of the largest direct marketers of insurance and identity theft solutions services in america our company was founded more than  years ago with the mission to protect families today millions of visitors browse our websites they are a vital way we acquire communicate with and keep our clients\n",
      "\n",
      "the web designer will drive revenue growth through the design and optimization of all clientfacing zander web properties\n",
      "\n",
      "the ideal candidate is comfortable working with highlevel stakeholders and they understand the importance of getting projects done efficiently most importantly the web designer enjoys working and as a result has a positive attitude that contributes to the overall health of the zander culture we are seeking a contributor who thrives while working autonomously asks questions when necessary and problem solves daily\n",
      "\n",
      "this is a fulltime position and includes a competitive salary and comprehensive benefits this position reports directly to the evp of marketing and will be based in our nashville tennessee office with opportunities to work remotely\n",
      "\n",
      "responsibilities include\n",
      " designing compelling direct response websites and digital content that supports the zander brand campaign objectives and drives measurable actions\n",
      " utilizing knowledge of zander products and services to create designs that support an action or campaign goal\n",
      " creating designs that are compatible across multiple devices and screen sizes\n",
      " creating mockups to conceptualize designs and presenting ideas to stakeholders\n",
      " continually improving the existing user experiences and in the process driving revenue growth\n",
      " preproduction image optimization and preparation\n",
      " work with key stakeholders to ensure appropriate review and approvals for all clientfacing sites\n",
      "\n",
      "the ideal candidate\n",
      "  years of digital design experience driving online sales or marketing\n",
      " has the ability to communicate effectively with highlevel clients\n",
      " thrives in a fastpaced and teamoriented environment\n",
      " is open to new ideas and able to adapt to changes quickly\n",
      "  years of experience with\n",
      " adobe creative suite including photoshop illustrator and indesign\n",
      " sketch\n",
      " has solid experience with ui wireframing\n",
      " has a strong ability to articulate the why when presenting design concepts\n",
      " htmlcss and js experience preferred but not required\n",
      "\n",
      "what we have to offer\n",
      " potential to work from home\n",
      " monthly profits distributions\n",
      " health and dental insurance paid  by zander insurance\n",
      "  dollarfordollar matching on your k\n",
      " generous paid time off\n",
      "\n",
      "we are an equal opportunity employer applicants are considered for position and are evaluated without regard to mental or physical disability race religion sexual orientation color gender national origin age marital status military or veteran status or any other protected local state or federal status unrelated to the performance of the work involved\n",
      "------------------------\n",
      "  \"Core Responsibilities\": \"Support site management with employee programs and services, read and route incoming mail, organize and maintain filing system, answer and screen phone calls, schedule appointments and meetings, arrange travel, conduct research and prepare reports, prepare correspondence, order supplies, support payroll operations, support HR functions like recruiting and onboarding\"\n",
      "  \"Required Skills\": \"Experience as an administrative professional, proficient in MS Office Word, Excel, Outlook, PowerPoint, excellent customer service skills, verbal and written communication skills, organizational skills, attention to detail\"\n",
      "  \"Educational Requirements\": \"N/A\"\n",
      "description\n",
      "\n",
      "position at sbm management\n",
      "\n",
      "sbm management is searching for a administrative assistant who is motivated and committed to providing outstanding customer service each and every day while ensuring a positive experience for each caller and visitor the ideal candidate will be selfmotivated and have excellent typing skills\n",
      "\n",
      "responsibilities\n",
      " support site management with employee programs and services\n",
      " reads and routes incoming mail locates and attaches appropriate files to correspondence to be answered by employer\n",
      " organizes and maintains file system and files correspondence and other records\n",
      " answers and screens managers telephone calls and arranges conference calls\n",
      " coordinates managers the schedule and makes appointments\n",
      " greets scheduled visitors and conducts to appropriate area or person\n",
      " arranges and coordinates travel schedules and reservations\n",
      " conducts research and compiles and types statistical reports\n",
      " coordinates and arranges meetings prepares agendas reserves and prepares facilities and records and transcribes minutes of meetings\n",
      " makes copies of correspondence or other printed materials\n",
      " prepares outgoing mail and correspondence including email and faxes\n",
      " orders and maintains supplies and arranges for equipment maintenance\n",
      " support site managers in daytoday coordination with employee programs services and management of business operational activities\n",
      " support for payroll operations on a daily weekly and monthly basis\n",
      " supports hr generalist in recruiting hiring and onboarding\n",
      "qualifications\n",
      " experience as an administrative professional\n",
      " proficient in ms office word excel outlook powerpoint\n",
      " exceptional customer service skills and phone etiquette\n",
      " excellent verbal and written communication skills and demonstrated organizational skills with attention to detail required\n",
      "\n",
      "compensation  per hour\n",
      "------------------------\n",
      "  \"Core Responsibilities\": \"Responsible for maintaining systems, deploying and managing endpoint solutions, implementing new systems and services, assisting with helpdesk requests, and serving as escalation point.\"\n",
      "  \"Required Skills\": \"Bachelor's degree or 4+ years relevant experience, experience managing systems, proficiency with Windows administration, networking concepts, communication skills.\"\n",
      "  \"Educational Requirements\": \"Bachelor's degree or 4+ years relevant experience.\", \n",
      "who we are\n",
      "\n",
      "the vera institute of justice founded in  is a nonprofit criminal justice organization that strives to build just government institutions and safe communities free from the scourge of racism white supremacy profit and inequity that is pervasive in this countrys legal systems we are an inside lane organization that drives change at scale with ambitious public sector leaders who share our commitment to building antiracist reparative systems that deliver justice we leverage our access to government to transform these systems and work collaboratively with stakeholders across many movementsincluding advocacy grassroots and grassroots organizations our role is to pilot solutions that are transformative and achievable harness the power of evidence to drive effective policy and practice and use advocacy and communications to change narratives and norms\n",
      "\n",
      "vera has a staff of almost  people and offices in new york city washington dc los angeles and new orleans we are an equal opportunity employer with a commitment to diversity in the workplace we expect our staff to embody respect independence collaboration commitment antiracism and equityboth in our outwardfacing work and the internal culture of our workplace we value a range of experiences in peoples educational backgrounds and encourage people who have been directly impacted by the criminal justice system to apply\n",
      "\n",
      "who you are\n",
      "\n",
      "the system administrator is responsible for maintaining veras systems deploying and managing solutions for endpoint management improving and assisting in the implementation of new systems and services across the organization performs work related to planning implementation and delivery of technical infrastructure networking information security and assists with daytoday helpdesk requests and serves as an escalation point\n",
      "\n",
      "responsibilities include but are not limited to\n",
      "\n",
      "system administration\n",
      " maintains essential infrastructure systems including os applications servers storage devices email systems laptops desktops software and hardware\n",
      " manages backup solutions software and hardware configures back up jobs runs backup recovery jobs as needed\n",
      " manages remote monitor and management solution for endpoints for deployment of software applications and updates\n",
      " responsible for maintaining all os software and antivirus definitions up to date on all of veras workstationsserverssystems\n",
      " responsible for the administration of cloudbased applications and integrations with veras identity provider solution\n",
      "\n",
      "information security\n",
      " reviews system configurations and recommend security controls as needed\n",
      " works with the security team in the implementation of new security measures and assist with auditing requests around access management\n",
      " configures and manages sso integrations for all standardapproved vera saas applications\n",
      "\n",
      "cloud infrastructure\n",
      " assists with the administration of cloud platforms gcp azure aws\n",
      " maintains access and identity management for authenticated users\n",
      " assists with cloud integrations with existing onpremise services\n",
      "\n",
      "virtualization\n",
      " responsible for the maintenance and improvement of veras virtual environment and underlying hardware equipment\n",
      " serves as escalation point for hardware and softwareos issues for virtual servers and hypervisor\n",
      " responsible for system updates and recommend system hardware upgrade as needed\n",
      "\n",
      "documentation\n",
      " creates and maintains thorough documentation and work with the network administrator to create process flows and physicallogical topology diagrams of the network\n",
      " creates and maintains detailed sops for processes related to system admin duties\n",
      "\n",
      "what qualifications do you need\n",
      "\n",
      "required\n",
      " bachelors degree   years of relevant experience in lieu of a bachelors degree applicable work or life experience may be considered experience in managingmaintaining systems meraki vmware aws azure nas san\n",
      " proficient with microsoft office suite windows  administration experience windows server and networking web conferencing tools remote desktop tools helpdesk ticketing system proficient in active directory users and computer group policies and good communication skills verbal and written\n",
      " experience in systems administration software deployment and networking concepts with hands on experience on firewall cisco meraki tcp ip protocols public dns settings and ssl certificate administration from public ca\n",
      " cloud administration experience aws\n",
      "\n",
      "preferred\n",
      " certifications network security cysa mcsa aws\n",
      "\n",
      "additional eligibility requirements\n",
      " na\n",
      "\n",
      "list of required software applications\n",
      " veeam vmware aws azure active directory ninja rmm windows and linux servers zoom slack lucidchart smartsheets\n",
      "\n",
      "compensation and benefits\n",
      "\n",
      "the compensation range for this position is    actual salaries will vary depending on factors including but not limited to experience and performance the salary range listed is just one component of vera institutes total compensation package for employees as an employer of choice in our field supporting vera staffboth personally and professionallyis a priority to do this we invest in the wellbeing of our staff through other rewards including merit pay generous paid time off a comprehensive health insurance plan student loan repayment benefits professional development training opportunities and up to  annual for education costs and fees relevant to vera work employerfunded retirement plan and flexible time and remote work schedules to learn more about veras benefits offerings click here\n",
      "\n",
      "applications may also be faxed to\n",
      "\n",
      "attn people resources  systems administrator it\n",
      "vera institute of justice\n",
      "  st suite  brooklyn ny \n",
      "fax  \n",
      "please use only one method online mail or fax of submission\n",
      "no phone calls please only applicants selected for interviews will be contacted\n",
      "\n",
      "as a federal contractor and in order to ensure a healthy and safe work environment vera institute of justice is requiring all employees to be fully vaccinated and provide proof of their covid vaccine before their start date employees who cannot receive the vaccine because of a disabilitymedical contraindication or sincerelyheld religious belief may request an accommodation eg an exemption to this requirement\n",
      "\n",
      "vera is an equal opportunityaffirmative action employer all qualified applicants will be considered for employment without unlawful discrimination based on race color creed national origin sex age disability marital status sexual orientation military status prior record of arrest or conviction citizenship status current employment status or caregiver status\n",
      "\n",
      "vera works to advance justice particularly racial justice in an increasingly multicultural country and globally connected world we value diverse experiences including with regard to educational background and justice system contact and depend on a diverse staff to carry out our mission\n",
      "\n",
      "for more information about vera please visit \n",
      "------------------------\n",
      "  \"Core Responsibilities\": \"General office work and data entry\"\n",
      "  \"Required Skills\": \"Computer literate, communication skills\", \n",
      "  \"Educational Requirements\": \"N/A\"\n",
      "company profile freight forwarder  consolidator\n",
      "\n",
      "looking for a full time office clerk  data entry working hours mf  am   pm must be available to work overtime computer literate communication skills general office work and data entry long term employment\n",
      "\n",
      "please send resume or respond to this ad we will contact you for interview\n",
      "\n",
      "job type fulltime\n",
      "\n",
      "pay from  per hour\n",
      "\n",
      "schedule\n",
      "  hour shift\n",
      " monday to friday\n",
      "\n",
      "experience\n",
      " office work  year preferred\n",
      "\n",
      "work location one location\n",
      "------------------------\n"
     ]
    }
   ],
   "source": [
    "# for doc in resume_documents:\n",
    "#     print(doc)\n",
    "#     print('------------------------')\n",
    "\n",
    "print('*****************************')\n",
    "for doc in jobs_data:\n",
    "    print(doc)\n",
    "    print('------------------------')\n"
   ]
  },
  {
   "cell_type": "code",
   "execution_count": 135,
   "metadata": {},
   "outputs": [
    {
     "name": "stdout",
     "output_type": "stream",
     "text": [
      "29\n"
     ]
    }
   ],
   "source": [
    "print(len(job_documents))"
   ]
  },
  {
   "cell_type": "markdown",
   "metadata": {},
   "source": [
    "#### Embedding jobs and resumes"
   ]
  },
  {
   "cell_type": "markdown",
   "metadata": {},
   "source": [
    "##### Sentence Transformers"
   ]
  },
  {
   "cell_type": "code",
   "execution_count": 136,
   "metadata": {},
   "outputs": [],
   "source": [
    "from langchain.embeddings import HuggingFaceEmbeddings, SentenceTransformerEmbeddings\n",
    "\n",
    "# Sentence Transformer Embeddings\n",
    "embeddings = HuggingFaceEmbeddings(model_name=\"all-MiniLM-L6-v2\")\n",
    "# Equivalent to SentenceTransformerEmbeddings(model_name=\"all-MiniLM-L6-v2\")"
   ]
  },
  {
   "cell_type": "code",
   "execution_count": 137,
   "metadata": {},
   "outputs": [],
   "source": [
    "# Generate embeddings for the texts\n",
    "job_embedding = embeddings.embed_documents([jobs_data[1]])\n",
    "\n",
    "# Print the embeddings\n",
    "# print(f\"Text: {jobs_data[0]}\")"
   ]
  },
  {
   "cell_type": "code",
   "execution_count": 138,
   "metadata": {},
   "outputs": [
    {
     "data": {
      "text/plain": [
       "(1, 384)"
      ]
     },
     "execution_count": 138,
     "metadata": {},
     "output_type": "execute_result"
    }
   ],
   "source": [
    "import numpy as np\n",
    "\n",
    "np.shape(job_embedding)\n",
    "# job_embedding"
   ]
  },
  {
   "cell_type": "code",
   "execution_count": 139,
   "metadata": {},
   "outputs": [],
   "source": [
    "# Embeddings all resumes:\n",
    "query_res = [relv_data.page_content for relv_data in resume_documents]\n",
    "query_meta = [meta.metadata['doc_src'] for meta in resume_documents]\n"
   ]
  },
  {
   "cell_type": "code",
   "execution_count": 140,
   "metadata": {},
   "outputs": [],
   "source": [
    "# Generate embeddings for the texts\n",
    "cv_embedding = embeddings.embed_documents(query_res)\n",
    "\n",
    "# Print the embeddings\n",
    "# print(f\"Text: {query_res}\")"
   ]
  },
  {
   "cell_type": "code",
   "execution_count": 141,
   "metadata": {},
   "outputs": [
    {
     "data": {
      "text/plain": [
       "(43, 384)"
      ]
     },
     "execution_count": 141,
     "metadata": {},
     "output_type": "execute_result"
    }
   ],
   "source": [
    "import numpy as np\n",
    "\n",
    "np.shape(cv_embedding)\n",
    "# job_embedding"
   ]
  },
  {
   "cell_type": "markdown",
   "metadata": {},
   "source": [
    "##### BERT embeddings"
   ]
  },
  {
   "cell_type": "code",
   "execution_count": 144,
   "metadata": {},
   "outputs": [],
   "source": [
    "import torch\n",
    "from transformers import BertTokenizer, BertModel\n",
    "\n",
    "model_id = \"bert-base-uncased\"\n",
    "\n",
    "model = BertModel.from_pretrained(model_id)\n",
    "tokenizer = BertTokenizer.from_pretrained(model_id)\n"
   ]
  },
  {
   "cell_type": "code",
   "execution_count": 145,
   "metadata": {},
   "outputs": [
    {
     "name": "stdout",
     "output_type": "stream",
     "text": [
      "odict_keys(['last_hidden_state', 'pooler_output'])\n"
     ]
    }
   ],
   "source": [
    "# Encoding resumes and job with bert\n",
    "# initialize dictionary to store tokenized sentences\n",
    "resume_tokens = {'input_ids': [], 'attention_mask': []}\n",
    "\n",
    "\n",
    "for resume in query_res:\n",
    "    # encode each sentence and append to dictionary\n",
    "    new_tokens = tokenizer.encode_plus(resume, max_length=128,\n",
    "                                       truncation=True, padding='max_length',\n",
    "                                       return_tensors='pt')\n",
    "    resume_tokens['input_ids'].append(new_tokens['input_ids'][0])\n",
    "    resume_tokens['attention_mask'].append(new_tokens['attention_mask'][0])\n",
    "\n",
    "\n",
    "\n",
    "# reformat list of tensors into single tensor\n",
    "resume_tokens['input_ids'] = torch.stack(resume_tokens['input_ids'])\n",
    "resume_tokens['attention_mask'] = torch.stack(resume_tokens['attention_mask'])\n",
    "\n",
    "resume_outputs = model(**resume_tokens)\n",
    "\n",
    "print(resume_outputs.keys())\n"
   ]
  },
  {
   "cell_type": "code",
   "execution_count": 146,
   "metadata": {},
   "outputs": [
    {
     "name": "stdout",
     "output_type": "stream",
     "text": [
      "odict_keys(['last_hidden_state', 'pooler_output'])\n"
     ]
    }
   ],
   "source": [
    "\n",
    "job_tokens = tokenizer.encode_plus(jobs_data[1], max_length=128,\n",
    "                                       truncation=True, padding='max_length',\n",
    "                                       return_tensors='pt')\n",
    "\n",
    "# print(job_tokens)\n",
    "job_outputs = model(**job_tokens)\n",
    "print(job_outputs.keys())\n"
   ]
  },
  {
   "cell_type": "code",
   "execution_count": 147,
   "metadata": {},
   "outputs": [],
   "source": [
    "resume_embeddings = resume_outputs.last_hidden_state\n",
    "job_embeddings = job_outputs.last_hidden_state\n",
    "# resume_embeddings"
   ]
  },
  {
   "cell_type": "code",
   "execution_count": 148,
   "metadata": {},
   "outputs": [
    {
     "name": "stdout",
     "output_type": "stream",
     "text": [
      "torch.Size([43, 128, 768])\n",
      "torch.Size([1, 128, 768])\n"
     ]
    }
   ],
   "source": [
    "print(resume_embeddings.shape)\n",
    "print(job_embeddings.shape)"
   ]
  },
  {
   "cell_type": "code",
   "execution_count": 150,
   "metadata": {},
   "outputs": [
    {
     "data": {
      "text/plain": [
       "torch.Size([43, 128, 768])"
      ]
     },
     "execution_count": 150,
     "metadata": {},
     "output_type": "execute_result"
    }
   ],
   "source": [
    "# Mean pooling to get single representation for a sentence\n",
    "\n",
    "# Resizing attention mask\n",
    "resume_attention_mask = resume_tokens['attention_mask']\n",
    "resume_mask = resume_attention_mask.unsqueeze(-1).expand(resume_embeddings.size()).float()\n",
    "\n",
    "resume_masked_embeddings = resume_embeddings * resume_mask\n",
    "resume_masked_embeddings.shape"
   ]
  },
  {
   "cell_type": "code",
   "execution_count": 151,
   "metadata": {},
   "outputs": [
    {
     "data": {
      "text/plain": [
       "torch.Size([1, 128, 768])"
      ]
     },
     "execution_count": 151,
     "metadata": {},
     "output_type": "execute_result"
    }
   ],
   "source": [
    "job_attention_mask = job_tokens['attention_mask']\n",
    "job_mask = job_attention_mask.unsqueeze(-1).expand(job_embeddings.size()).float()\n",
    "\n",
    "job_masked_embeddings = job_embeddings * job_mask\n",
    "job_masked_embeddings.shape"
   ]
  },
  {
   "cell_type": "code",
   "execution_count": 152,
   "metadata": {},
   "outputs": [
    {
     "name": "stdout",
     "output_type": "stream",
     "text": [
      "torch.Size([43, 768])\n"
     ]
    }
   ],
   "source": [
    "summed_r = torch.sum(resume_masked_embeddings, 1)\n",
    "summed_mask_r = torch.clamp(resume_mask.sum(1), min=1e-9)\n",
    "\n",
    "resume_mean_pooled_embeddings = summed_r / summed_mask_r\n",
    "print(resume_mean_pooled_embeddings.shape)"
   ]
  },
  {
   "cell_type": "code",
   "execution_count": 153,
   "metadata": {},
   "outputs": [
    {
     "name": "stdout",
     "output_type": "stream",
     "text": [
      "torch.Size([1, 768])\n"
     ]
    }
   ],
   "source": [
    "summed_j = torch.sum(job_masked_embeddings, 1)\n",
    "summed_mask_j = torch.clamp(job_mask.sum(1), min=1e-9)\n",
    "\n",
    "job_mean_pooled_embeddings = summed_j / summed_mask_j\n",
    "print(job_mean_pooled_embeddings.shape)"
   ]
  },
  {
   "cell_type": "markdown",
   "metadata": {},
   "source": [
    "##### InstructEmbeddings"
   ]
  },
  {
   "cell_type": "code",
   "execution_count": 156,
   "metadata": {},
   "outputs": [
    {
     "data": {
      "application/vnd.jupyter.widget-view+json": {
       "model_id": "60b8c94da75f499aa4b0db32bd27f7a6",
       "version_major": 2,
       "version_minor": 0
      },
      "text/plain": [
       "Downloading pytorch_model.bin:   0%|          | 0.00/3.15M [00:00<?, ?B/s]"
      ]
     },
     "metadata": {},
     "output_type": "display_data"
    },
    {
     "data": {
      "application/vnd.jupyter.widget-view+json": {
       "model_id": "cbfda1560f6a480bbde78cb8e00e6bb5",
       "version_major": 2,
       "version_minor": 0
      },
      "text/plain": [
       "Downloading (…)9fb15c7233/README.md:   0%|          | 0.00/66.3k [00:00<?, ?B/s]"
      ]
     },
     "metadata": {},
     "output_type": "display_data"
    },
    {
     "data": {
      "application/vnd.jupyter.widget-view+json": {
       "model_id": "d95e50f64e6f475ca8971b694e0e17e8",
       "version_major": 2,
       "version_minor": 0
      },
      "text/plain": [
       "Downloading (…)b15c7233/config.json:   0%|          | 0.00/1.53k [00:00<?, ?B/s]"
      ]
     },
     "metadata": {},
     "output_type": "display_data"
    },
    {
     "data": {
      "application/vnd.jupyter.widget-view+json": {
       "model_id": "93faeebc7fdf496daffa88a3e08c2263",
       "version_major": 2,
       "version_minor": 0
      },
      "text/plain": [
       "Downloading (…)ce_transformers.json:   0%|          | 0.00/122 [00:00<?, ?B/s]"
      ]
     },
     "metadata": {},
     "output_type": "display_data"
    },
    {
     "data": {
      "application/vnd.jupyter.widget-view+json": {
       "model_id": "b8facea13fe24c4d97c6e462ee15d230",
       "version_major": 2,
       "version_minor": 0
      },
      "text/plain": [
       "Downloading pytorch_model.bin:   0%|          | 0.00/1.34G [00:00<?, ?B/s]"
      ]
     },
     "metadata": {},
     "output_type": "display_data"
    },
    {
     "data": {
      "application/vnd.jupyter.widget-view+json": {
       "model_id": "25de684c7d0c4cd1b1a8dc36e0509bd5",
       "version_major": 2,
       "version_minor": 0
      },
      "text/plain": [
       "Downloading (…)nce_bert_config.json:   0%|          | 0.00/53.0 [00:00<?, ?B/s]"
      ]
     },
     "metadata": {},
     "output_type": "display_data"
    },
    {
     "data": {
      "application/vnd.jupyter.widget-view+json": {
       "model_id": "1b70c00d52294346869b67d966b9ca89",
       "version_major": 2,
       "version_minor": 0
      },
      "text/plain": [
       "Downloading (…)cial_tokens_map.json:   0%|          | 0.00/2.20k [00:00<?, ?B/s]"
      ]
     },
     "metadata": {},
     "output_type": "display_data"
    },
    {
     "data": {
      "application/vnd.jupyter.widget-view+json": {
       "model_id": "97b4a1c977044627a4b3ad4201803ff7",
       "version_major": 2,
       "version_minor": 0
      },
      "text/plain": [
       "Downloading spiece.model:   0%|          | 0.00/792k [00:00<?, ?B/s]"
      ]
     },
     "metadata": {},
     "output_type": "display_data"
    },
    {
     "data": {
      "application/vnd.jupyter.widget-view+json": {
       "model_id": "f365f8ff141241e0b01a74df79aec8bf",
       "version_major": 2,
       "version_minor": 0
      },
      "text/plain": [
       "Downloading (…)c7233/tokenizer.json:   0%|          | 0.00/2.42M [00:00<?, ?B/s]"
      ]
     },
     "metadata": {},
     "output_type": "display_data"
    },
    {
     "data": {
      "application/vnd.jupyter.widget-view+json": {
       "model_id": "2f62d717bdaa42fc8083f0fa85d06949",
       "version_major": 2,
       "version_minor": 0
      },
      "text/plain": [
       "Downloading (…)okenizer_config.json:   0%|          | 0.00/2.41k [00:00<?, ?B/s]"
      ]
     },
     "metadata": {},
     "output_type": "display_data"
    },
    {
     "data": {
      "application/vnd.jupyter.widget-view+json": {
       "model_id": "38fb38bfcaf24aba8b93814447d95869",
       "version_major": 2,
       "version_minor": 0
      },
      "text/plain": [
       "Downloading (…)15c7233/modules.json:   0%|          | 0.00/461 [00:00<?, ?B/s]"
      ]
     },
     "metadata": {},
     "output_type": "display_data"
    },
    {
     "name": "stdout",
     "output_type": "stream",
     "text": [
      "load INSTRUCTOR_Transformer\n",
      "max_seq_length  512\n"
     ]
    }
   ],
   "source": [
    "from langchain.embeddings import HuggingFaceInstructEmbeddings\n",
    "\n",
    "\n",
    "model_name = \"hkunlp/instructor-large\"\n",
    "model_kwargs = {'device': 'cpu'}\n",
    "encode_kwargs = {'normalize_embeddings': True}\n",
    "\n",
    "embeddings = HuggingFaceInstructEmbeddings(\n",
    "    model_name=model_name,\n",
    "    model_kwargs=model_kwargs,\n",
    "    encode_kwargs=encode_kwargs\n",
    ")"
   ]
  },
  {
   "cell_type": "code",
   "execution_count": 157,
   "metadata": {},
   "outputs": [],
   "source": [
    "# Generate embeddings for the texts\n",
    "job_embedding = embeddings.embed_documents([jobs_data[1]])\n",
    "\n",
    "# Print the embeddings\n",
    "# print(f\"Text: {jobs_data[0]}\")"
   ]
  },
  {
   "cell_type": "code",
   "execution_count": 158,
   "metadata": {},
   "outputs": [],
   "source": [
    "# Embeddings all resumes:\n",
    "query_res = [relv_data.page_content for relv_data in resume_documents]\n",
    "query_meta = [meta.metadata['doc_src'] for meta in resume_documents]"
   ]
  },
  {
   "cell_type": "code",
   "execution_count": 159,
   "metadata": {},
   "outputs": [],
   "source": [
    "# Generate embeddings for the texts\n",
    "cv_embedding = embeddings.embed_documents(query_res)\n",
    "\n",
    "# Print the embeddings\n",
    "# print(f\"Text: {query_res}\")"
   ]
  },
  {
   "cell_type": "code",
   "execution_count": 160,
   "metadata": {},
   "outputs": [
    {
     "name": "stdout",
     "output_type": "stream",
     "text": [
      "(1, 768)\n",
      "(43, 768)\n"
     ]
    }
   ],
   "source": [
    "import numpy as np\n",
    "\n",
    "print(np.shape(job_embedding))\n",
    "print(np.shape(cv_embedding))\n",
    "# job_embedding"
   ]
  },
  {
   "cell_type": "markdown",
   "metadata": {},
   "source": [
    "#### Similarity matching"
   ]
  },
  {
   "cell_type": "code",
   "execution_count": 163,
   "metadata": {},
   "outputs": [
    {
     "name": "stdout",
     "output_type": "stream",
     "text": [
      "[0.83209389 0.84008905 0.80128978 0.76346352 0.79149815 0.783565\n",
      " 0.83546989 0.7976677  0.78086069 0.82798482 0.80825212 0.75976762\n",
      " 0.84277799 0.80369488 0.80954649 0.73459199 0.74898539 0.738497\n",
      " 0.81571472 0.81142616 0.76925026 0.7942634  0.82952849 0.83810556\n",
      " 0.82297856 0.7892056  0.84154625 0.78086937 0.80213342 0.79911278\n",
      " 0.83988256 0.84354714 0.84254423 0.78250539 0.85651443 0.83198935\n",
      " 0.81796618 0.80931928 0.78571915 0.82017046 0.81099634 0.81432609\n",
      " 0.81180701]\n"
     ]
    }
   ],
   "source": [
    "# Match each CV against n resume\n",
    "import numpy as np\n",
    "from sklearn.metrics.pairwise import cosine_similarity\n",
    "\n",
    "\n",
    "# Calculate similarity scores\n",
    "similarity_scores = cosine_similarity(job_embedding, cv_embedding)[0]\n",
    "print(similarity_scores)\n",
    "\n"
   ]
  },
  {
   "cell_type": "code",
   "execution_count": null,
   "metadata": {},
   "outputs": [],
   "source": [
    "# Match each CV against n resume\n",
    "import numpy as np\n",
    "from sklearn.metrics.pairwise import cosine_similarity\n",
    "\n",
    "\n",
    "job_mean_pooled_embeddings = job_mean_pooled_embeddings.detach().numpy()\n",
    "resume_mean_pooled_embeddings = resume_mean_pooled_embeddings.detach().numpy()\n",
    "\n",
    "# Calculate similarity scores\n",
    "similarity_scores = cosine_similarity(job_mean_pooled_embeddings, resume_mean_pooled_embeddings)[0]\n",
    "print(similarity_scores)\n",
    "\n"
   ]
  },
  {
   "cell_type": "code",
   "execution_count": 164,
   "metadata": {},
   "outputs": [
    {
     "name": "stdout",
     "output_type": "stream",
     "text": [
      "Most matching resume for the role of Web Designer at Zander Insurance Agency: \n",
      "es/hr.pdf\n"
     ]
    }
   ],
   "source": [
    "# Find the most similar document\n",
    "most_similar_index = np.argmax(similarity_scores)\n",
    "most_similar_resume = query_meta[most_similar_index]\n",
    "\n",
    "print(\"Most matching resume for the role of {0} at {1}: \".format(jobs_metadata[1][\"position\"], jobs_metadata[1][\"company\"]))\n",
    "print(most_similar_resume)"
   ]
  }
 ],
 "metadata": {
  "kernelspec": {
   "display_name": "comp_vis",
   "language": "python",
   "name": "python3"
  },
  "language_info": {
   "codemirror_mode": {
    "name": "ipython",
    "version": 3
   },
   "file_extension": ".py",
   "mimetype": "text/x-python",
   "name": "python",
   "nbconvert_exporter": "python",
   "pygments_lexer": "ipython3",
   "version": "3.9.17"
  },
  "orig_nbformat": 4
 },
 "nbformat": 4,
 "nbformat_minor": 2
}
